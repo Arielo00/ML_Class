{
  "cells": [
    {
      "cell_type": "markdown",
      "metadata": {
        "id": "lSgmmOqh47Uz"
      },
      "source": [
        "**Professor:** Enrique Garcia Ceja\n",
        "**email:** enrique.gc@tec.mx"
      ]
    },
    {
      "cell_type": "markdown",
      "metadata": {
        "id": "88aPyKetABUv"
      },
      "source": [
        "### Ariel López García A01275913\n",
        "\n",
        "\n"
      ]
    },
    {
      "cell_type": "markdown",
      "metadata": {
        "id": "6DmWJzN87dC7"
      },
      "source": [
        "# Exercise: Detecting hand gestures from muscle electrical activity with an Ensemble of Neural Networks.\n",
        "\n",
        "In this exercise you will train your first deep neural network to detect hand gestures from muscle activity. In fact, you will build two deep neural networks and ensemble them.\n",
        "\n",
        "The data was collected with a MYO armband electromyography (EMG) sensor (see image below). The data was made available by Kirill Yashuk and can be downloaded [here](https://www.kaggle.com/kyr7plus/emg-4). The armband has 8 sensors that measure electrical activity at a sampling rate of 200Hz.\n",
        "The dataset contains 4 different gestures: <font color=blue>0-rock, 1-scissors, 2-paper, 3-OK.</font>\n",
        "The data contains 65 columns. The last column is the class label from 0 to 3. The first 64 columns are electrical measurements. 8 consecutive readings for each of the 8 sensors. The objective is to use the first 64 variables to predict the class.\n",
        "\n",
        "<table><tr><td><img src=\"https://github.com/enriquegit/ap-img/blob/main/img/myoband.jpg?raw=true\" width=\"200\"></td><td><img src=\"https://github.com/enriquegit/ap-img/blob/main/img/dnn.png?raw=true\" width=\"200\"></td></tr></table>"
      ]
    },
    {
      "cell_type": "markdown",
      "metadata": {
        "id": "1FnXOSjX7dC9"
      },
      "source": [
        "## Instructions\n",
        "\n",
        "In this exercise you will train *two* neural networks and combine their results to produce the final predictions. During training time, you train the two networks with the same train data but each network should have a different architecture. There is no point of building the same two networks because they will produce the same predictions. At test time, a given instance is fed into both networks. Each network outputs the predicted probabilities for each class (by specifying the last activation to be softmax). One way to combine the predictions of both networks is to multiply the output probabilities and predict the class with the highest one. When more than two models compose the ensemble, majority voting can also be used.\n",
        "\n",
        "1. First, you need to randomly split the dataset into several subsets to avoid overfitting. Specifically, you will need **4 subsets**:\n",
        "\n",
        "<table><tr><td><img src=\"https://github.com/enriquegit/ap-img/blob/main/img/splits.png?raw=true\" width=\"250\"></td></tr></table>\n",
        "\n",
        "  - **train set (60%):** This one is used to train the two models.\n",
        "  - **val1 set (10%):** This is used to fine tune parameters of your nueral networks.\n",
        "  - **val2 set (15%):** This one is used to validate the performance when combining the networks.\n",
        "  - **test set (15%):** This one is used at the end only once to test the generalization performance of your model once you are happy with the performance on the *val2 set*.\n",
        "\n",
        "2. Build and train a first neural network using the *train set*. Use the *val1 set* to estimate its performance and fine tune its parameters.\n",
        "\n",
        "3. Build and train a second neural network using the *train set*. Use the *val1 set* to estimate its performance while fine tuning its parameters. This network needs to have a different architecture from the previous one.\n",
        "\n",
        "4. Once you are happy with both networks, it is now time to combine them. Generate predictions on the *val2 set* with your two networks. The predictions should be the probabilities for each class (not the final class). Combine the probabilities of each network by multiplying them. Obtain the final predicted classes by selecting the class with the highest probability.\n",
        "\n",
        "5. Evaluate the performance of the combined models and of each of the individual models on the same *val2 set*. The performance of the combined models should be better than the performance of the best individual model. If this is not the case, iterate from step 2.\n",
        "\n",
        "6. Once you are happy with your results, evaluate the performance of the combined models and each individual one on the *test set* just once.\n",
        "\n",
        "### Tips:\n",
        "\n",
        "- You can pass your validation data to the `fit` function with the `validation_data` argument, e.g., `model.fit(..., validation_data = (val1_features, val1_labels))`.\n",
        "- You can plot accuracy and loss curves to analyze your models behavior. See *demo_sports* notebook for an example.\n",
        "\n",
        "*NOTE:* In this case it was suggested to train both models with the same train data. With *Bagging* [1], which is an ensemble learning method, instead of using the same train data, new train sets are generated with bootstrapping. To construct a dataset, the method samples $N$ data points from the original train set where $N$ is the number of elements on the original train set. The sampling is made *with replacement*. Thus, the new set will contain duplicates and some elements of the original data set will not be present. The purpose of this is to have different models. If the same data is used to train them, they will be very similar and there is no need to train several of them. It is left as an exercise for the reader to implement bootstraping instead of using the same train set.\n",
        "\n",
        "[1] Breiman, L. (1996). Bagging predictors. Machine learning, 24(2), 123-140."
      ]
    },
    {
      "cell_type": "code",
      "execution_count": null,
      "metadata": {
        "id": "ZXuXqJZm7dC-"
      },
      "outputs": [],
      "source": [
        "import pandas as pd\n",
        "import numpy as np\n",
        "import tensorflow as tf\n",
        "from tensorflow import keras\n",
        "from tensorflow.keras.layers import Input, Dense\n",
        "from tensorflow.keras import Model\n",
        "from sklearn.metrics import accuracy_score, recall_score\n",
        "from sklearn import preprocessing\n",
        "from sklearn.utils import shuffle\n",
        "from sklearn.model_selection import train_test_split"
      ]
    },
    {
      "cell_type": "code",
      "execution_count": null,
      "metadata": {
        "colab": {
          "base_uri": "https://localhost:8080/"
        },
        "id": "o8reVPhH7dC-",
        "outputId": "b3157185-046b-49ab-89c2-7ab4b8bbf84a"
      },
      "outputs": [
        {
          "name": "stdout",
          "output_type": "stream",
          "text": [
            "(11630, 65)\n"
          ]
        }
      ],
      "source": [
        "# Read the data\n",
        "dataset = pd.concat(\n",
        "    map(pd.read_csv, ['datasets/0.csv', 'datasets/1.csv', 'datasets/2.csv', 'datasets/3.csv']), ignore_index=True)\n",
        "\n",
        "seed = 123 #set seed for reproducibility\n",
        "np.random.seed(seed)\n",
        "dataset = shuffle(dataset) #shuffle rows\n",
        "\n",
        "\n",
        "\n",
        "\n",
        "# Since there are not too many missing values we will just drop rows that contain missing values.\n",
        "dataset = dataset.dropna()\n",
        "\n",
        "# Print the dataset size after removing rows with missing values.\n",
        "print(dataset.shape)"
      ]
    },
    {
      "cell_type": "code",
      "execution_count": null,
      "metadata": {
        "colab": {
          "base_uri": "https://localhost:8080/",
          "height": 236
        },
        "id": "GpERU4rK7dC_",
        "outputId": "13f4fbe7-8c9d-4132-abe1-142b17ff027a"
      },
      "outputs": [
        {
          "data": {
            "application/vnd.google.colaboratory.intrinsic+json": {
              "type": "dataframe",
              "variable_name": "dataset"
            },
            "text/html": [
              "\n",
              "  <div id=\"df-44fdce58-e089-4ebf-a0bb-82311280c771\" class=\"colab-df-container\">\n",
              "    <div>\n",
              "<style scoped>\n",
              "    .dataframe tbody tr th:only-of-type {\n",
              "        vertical-align: middle;\n",
              "    }\n",
              "\n",
              "    .dataframe tbody tr th {\n",
              "        vertical-align: top;\n",
              "    }\n",
              "\n",
              "    .dataframe thead th {\n",
              "        text-align: right;\n",
              "    }\n",
              "</style>\n",
              "<table border=\"1\" class=\"dataframe\">\n",
              "  <thead>\n",
              "    <tr style=\"text-align: right;\">\n",
              "      <th></th>\n",
              "      <th>V1</th>\n",
              "      <th>V2</th>\n",
              "      <th>V3</th>\n",
              "      <th>V4</th>\n",
              "      <th>V5</th>\n",
              "      <th>V6</th>\n",
              "      <th>V7</th>\n",
              "      <th>V8</th>\n",
              "      <th>V9</th>\n",
              "      <th>V10</th>\n",
              "      <th>...</th>\n",
              "      <th>V56</th>\n",
              "      <th>V57</th>\n",
              "      <th>V58</th>\n",
              "      <th>V59</th>\n",
              "      <th>V60</th>\n",
              "      <th>V61</th>\n",
              "      <th>V62</th>\n",
              "      <th>V63</th>\n",
              "      <th>V64</th>\n",
              "      <th>label</th>\n",
              "    </tr>\n",
              "  </thead>\n",
              "  <tbody>\n",
              "    <tr>\n",
              "      <th>550</th>\n",
              "      <td>-12</td>\n",
              "      <td>-4</td>\n",
              "      <td>-18.0</td>\n",
              "      <td>-59</td>\n",
              "      <td>-2</td>\n",
              "      <td>28</td>\n",
              "      <td>5</td>\n",
              "      <td>-22</td>\n",
              "      <td>11.0</td>\n",
              "      <td>4</td>\n",
              "      <td>...</td>\n",
              "      <td>31</td>\n",
              "      <td>19.0</td>\n",
              "      <td>1.0</td>\n",
              "      <td>1</td>\n",
              "      <td>-1</td>\n",
              "      <td>-5</td>\n",
              "      <td>9.0</td>\n",
              "      <td>-42</td>\n",
              "      <td>-32</td>\n",
              "      <td>rock</td>\n",
              "    </tr>\n",
              "    <tr>\n",
              "      <th>7169</th>\n",
              "      <td>8</td>\n",
              "      <td>13</td>\n",
              "      <td>8.0</td>\n",
              "      <td>1</td>\n",
              "      <td>-22</td>\n",
              "      <td>-5</td>\n",
              "      <td>-2</td>\n",
              "      <td>10</td>\n",
              "      <td>2.0</td>\n",
              "      <td>-9</td>\n",
              "      <td>...</td>\n",
              "      <td>0</td>\n",
              "      <td>1.0</td>\n",
              "      <td>2.0</td>\n",
              "      <td>3</td>\n",
              "      <td>-4</td>\n",
              "      <td>-7</td>\n",
              "      <td>13.0</td>\n",
              "      <td>-1</td>\n",
              "      <td>0</td>\n",
              "      <td>paper</td>\n",
              "    </tr>\n",
              "    <tr>\n",
              "      <th>6458</th>\n",
              "      <td>19</td>\n",
              "      <td>8</td>\n",
              "      <td>-1.0</td>\n",
              "      <td>3</td>\n",
              "      <td>6</td>\n",
              "      <td>-18</td>\n",
              "      <td>-1</td>\n",
              "      <td>-11</td>\n",
              "      <td>-4.0</td>\n",
              "      <td>7</td>\n",
              "      <td>...</td>\n",
              "      <td>-2</td>\n",
              "      <td>-15.0</td>\n",
              "      <td>-7.0</td>\n",
              "      <td>5</td>\n",
              "      <td>5</td>\n",
              "      <td>16</td>\n",
              "      <td>26.0</td>\n",
              "      <td>10</td>\n",
              "      <td>-8</td>\n",
              "      <td>paper</td>\n",
              "    </tr>\n",
              "    <tr>\n",
              "      <th>9330</th>\n",
              "      <td>-3</td>\n",
              "      <td>-4</td>\n",
              "      <td>1.0</td>\n",
              "      <td>0</td>\n",
              "      <td>1</td>\n",
              "      <td>47</td>\n",
              "      <td>10</td>\n",
              "      <td>1</td>\n",
              "      <td>4.0</td>\n",
              "      <td>-1</td>\n",
              "      <td>...</td>\n",
              "      <td>15</td>\n",
              "      <td>-10.0</td>\n",
              "      <td>-14.0</td>\n",
              "      <td>-9</td>\n",
              "      <td>-8</td>\n",
              "      <td>-7</td>\n",
              "      <td>-13.0</td>\n",
              "      <td>-8</td>\n",
              "      <td>-16</td>\n",
              "      <td>ok</td>\n",
              "    </tr>\n",
              "    <tr>\n",
              "      <th>3100</th>\n",
              "      <td>-3</td>\n",
              "      <td>-8</td>\n",
              "      <td>1.0</td>\n",
              "      <td>0</td>\n",
              "      <td>-39</td>\n",
              "      <td>-33</td>\n",
              "      <td>0</td>\n",
              "      <td>14</td>\n",
              "      <td>17.0</td>\n",
              "      <td>2</td>\n",
              "      <td>...</td>\n",
              "      <td>12</td>\n",
              "      <td>-11.0</td>\n",
              "      <td>1.0</td>\n",
              "      <td>4</td>\n",
              "      <td>0</td>\n",
              "      <td>-8</td>\n",
              "      <td>-16.0</td>\n",
              "      <td>1</td>\n",
              "      <td>4</td>\n",
              "      <td>scissors</td>\n",
              "    </tr>\n",
              "  </tbody>\n",
              "</table>\n",
              "<p>5 rows × 65 columns</p>\n",
              "</div>\n",
              "    <div class=\"colab-df-buttons\">\n",
              "\n",
              "  <div class=\"colab-df-container\">\n",
              "    <button class=\"colab-df-convert\" onclick=\"convertToInteractive('df-44fdce58-e089-4ebf-a0bb-82311280c771')\"\n",
              "            title=\"Convert this dataframe to an interactive table.\"\n",
              "            style=\"display:none;\">\n",
              "\n",
              "  <svg xmlns=\"http://www.w3.org/2000/svg\" height=\"24px\" viewBox=\"0 -960 960 960\">\n",
              "    <path d=\"M120-120v-720h720v720H120Zm60-500h600v-160H180v160Zm220 220h160v-160H400v160Zm0 220h160v-160H400v160ZM180-400h160v-160H180v160Zm440 0h160v-160H620v160ZM180-180h160v-160H180v160Zm440 0h160v-160H620v160Z\"/>\n",
              "  </svg>\n",
              "    </button>\n",
              "\n",
              "  <style>\n",
              "    .colab-df-container {\n",
              "      display:flex;\n",
              "      gap: 12px;\n",
              "    }\n",
              "\n",
              "    .colab-df-convert {\n",
              "      background-color: #E8F0FE;\n",
              "      border: none;\n",
              "      border-radius: 50%;\n",
              "      cursor: pointer;\n",
              "      display: none;\n",
              "      fill: #1967D2;\n",
              "      height: 32px;\n",
              "      padding: 0 0 0 0;\n",
              "      width: 32px;\n",
              "    }\n",
              "\n",
              "    .colab-df-convert:hover {\n",
              "      background-color: #E2EBFA;\n",
              "      box-shadow: 0px 1px 2px rgba(60, 64, 67, 0.3), 0px 1px 3px 1px rgba(60, 64, 67, 0.15);\n",
              "      fill: #174EA6;\n",
              "    }\n",
              "\n",
              "    .colab-df-buttons div {\n",
              "      margin-bottom: 4px;\n",
              "    }\n",
              "\n",
              "    [theme=dark] .colab-df-convert {\n",
              "      background-color: #3B4455;\n",
              "      fill: #D2E3FC;\n",
              "    }\n",
              "\n",
              "    [theme=dark] .colab-df-convert:hover {\n",
              "      background-color: #434B5C;\n",
              "      box-shadow: 0px 1px 3px 1px rgba(0, 0, 0, 0.15);\n",
              "      filter: drop-shadow(0px 1px 2px rgba(0, 0, 0, 0.3));\n",
              "      fill: #FFFFFF;\n",
              "    }\n",
              "  </style>\n",
              "\n",
              "    <script>\n",
              "      const buttonEl =\n",
              "        document.querySelector('#df-44fdce58-e089-4ebf-a0bb-82311280c771 button.colab-df-convert');\n",
              "      buttonEl.style.display =\n",
              "        google.colab.kernel.accessAllowed ? 'block' : 'none';\n",
              "\n",
              "      async function convertToInteractive(key) {\n",
              "        const element = document.querySelector('#df-44fdce58-e089-4ebf-a0bb-82311280c771');\n",
              "        const dataTable =\n",
              "          await google.colab.kernel.invokeFunction('convertToInteractive',\n",
              "                                                    [key], {});\n",
              "        if (!dataTable) return;\n",
              "\n",
              "        const docLinkHtml = 'Like what you see? Visit the ' +\n",
              "          '<a target=\"_blank\" href=https://colab.research.google.com/notebooks/data_table.ipynb>data table notebook</a>'\n",
              "          + ' to learn more about interactive tables.';\n",
              "        element.innerHTML = '';\n",
              "        dataTable['output_type'] = 'display_data';\n",
              "        await google.colab.output.renderOutput(dataTable, element);\n",
              "        const docLink = document.createElement('div');\n",
              "        docLink.innerHTML = docLinkHtml;\n",
              "        element.appendChild(docLink);\n",
              "      }\n",
              "    </script>\n",
              "  </div>\n",
              "\n",
              "\n",
              "<div id=\"df-2baaba55-24d1-4d86-9053-adc51cb81f90\">\n",
              "  <button class=\"colab-df-quickchart\" onclick=\"quickchart('df-2baaba55-24d1-4d86-9053-adc51cb81f90')\"\n",
              "            title=\"Suggest charts\"\n",
              "            style=\"display:none;\">\n",
              "\n",
              "<svg xmlns=\"http://www.w3.org/2000/svg\" height=\"24px\"viewBox=\"0 0 24 24\"\n",
              "     width=\"24px\">\n",
              "    <g>\n",
              "        <path d=\"M19 3H5c-1.1 0-2 .9-2 2v14c0 1.1.9 2 2 2h14c1.1 0 2-.9 2-2V5c0-1.1-.9-2-2-2zM9 17H7v-7h2v7zm4 0h-2V7h2v10zm4 0h-2v-4h2v4z\"/>\n",
              "    </g>\n",
              "</svg>\n",
              "  </button>\n",
              "\n",
              "<style>\n",
              "  .colab-df-quickchart {\n",
              "      --bg-color: #E8F0FE;\n",
              "      --fill-color: #1967D2;\n",
              "      --hover-bg-color: #E2EBFA;\n",
              "      --hover-fill-color: #174EA6;\n",
              "      --disabled-fill-color: #AAA;\n",
              "      --disabled-bg-color: #DDD;\n",
              "  }\n",
              "\n",
              "  [theme=dark] .colab-df-quickchart {\n",
              "      --bg-color: #3B4455;\n",
              "      --fill-color: #D2E3FC;\n",
              "      --hover-bg-color: #434B5C;\n",
              "      --hover-fill-color: #FFFFFF;\n",
              "      --disabled-bg-color: #3B4455;\n",
              "      --disabled-fill-color: #666;\n",
              "  }\n",
              "\n",
              "  .colab-df-quickchart {\n",
              "    background-color: var(--bg-color);\n",
              "    border: none;\n",
              "    border-radius: 50%;\n",
              "    cursor: pointer;\n",
              "    display: none;\n",
              "    fill: var(--fill-color);\n",
              "    height: 32px;\n",
              "    padding: 0;\n",
              "    width: 32px;\n",
              "  }\n",
              "\n",
              "  .colab-df-quickchart:hover {\n",
              "    background-color: var(--hover-bg-color);\n",
              "    box-shadow: 0 1px 2px rgba(60, 64, 67, 0.3), 0 1px 3px 1px rgba(60, 64, 67, 0.15);\n",
              "    fill: var(--button-hover-fill-color);\n",
              "  }\n",
              "\n",
              "  .colab-df-quickchart-complete:disabled,\n",
              "  .colab-df-quickchart-complete:disabled:hover {\n",
              "    background-color: var(--disabled-bg-color);\n",
              "    fill: var(--disabled-fill-color);\n",
              "    box-shadow: none;\n",
              "  }\n",
              "\n",
              "  .colab-df-spinner {\n",
              "    border: 2px solid var(--fill-color);\n",
              "    border-color: transparent;\n",
              "    border-bottom-color: var(--fill-color);\n",
              "    animation:\n",
              "      spin 1s steps(1) infinite;\n",
              "  }\n",
              "\n",
              "  @keyframes spin {\n",
              "    0% {\n",
              "      border-color: transparent;\n",
              "      border-bottom-color: var(--fill-color);\n",
              "      border-left-color: var(--fill-color);\n",
              "    }\n",
              "    20% {\n",
              "      border-color: transparent;\n",
              "      border-left-color: var(--fill-color);\n",
              "      border-top-color: var(--fill-color);\n",
              "    }\n",
              "    30% {\n",
              "      border-color: transparent;\n",
              "      border-left-color: var(--fill-color);\n",
              "      border-top-color: var(--fill-color);\n",
              "      border-right-color: var(--fill-color);\n",
              "    }\n",
              "    40% {\n",
              "      border-color: transparent;\n",
              "      border-right-color: var(--fill-color);\n",
              "      border-top-color: var(--fill-color);\n",
              "    }\n",
              "    60% {\n",
              "      border-color: transparent;\n",
              "      border-right-color: var(--fill-color);\n",
              "    }\n",
              "    80% {\n",
              "      border-color: transparent;\n",
              "      border-right-color: var(--fill-color);\n",
              "      border-bottom-color: var(--fill-color);\n",
              "    }\n",
              "    90% {\n",
              "      border-color: transparent;\n",
              "      border-bottom-color: var(--fill-color);\n",
              "    }\n",
              "  }\n",
              "</style>\n",
              "\n",
              "  <script>\n",
              "    async function quickchart(key) {\n",
              "      const quickchartButtonEl =\n",
              "        document.querySelector('#' + key + ' button');\n",
              "      quickchartButtonEl.disabled = true;  // To prevent multiple clicks.\n",
              "      quickchartButtonEl.classList.add('colab-df-spinner');\n",
              "      try {\n",
              "        const charts = await google.colab.kernel.invokeFunction(\n",
              "            'suggestCharts', [key], {});\n",
              "      } catch (error) {\n",
              "        console.error('Error during call to suggestCharts:', error);\n",
              "      }\n",
              "      quickchartButtonEl.classList.remove('colab-df-spinner');\n",
              "      quickchartButtonEl.classList.add('colab-df-quickchart-complete');\n",
              "    }\n",
              "    (() => {\n",
              "      let quickchartButtonEl =\n",
              "        document.querySelector('#df-2baaba55-24d1-4d86-9053-adc51cb81f90 button');\n",
              "      quickchartButtonEl.style.display =\n",
              "        google.colab.kernel.accessAllowed ? 'block' : 'none';\n",
              "    })();\n",
              "  </script>\n",
              "</div>\n",
              "\n",
              "    </div>\n",
              "  </div>\n"
            ],
            "text/plain": [
              "      V1  V2    V3  V4  V5  V6  V7  V8    V9  V10  ...  V56   V57   V58  V59  \\\n",
              "550  -12  -4 -18.0 -59  -2  28   5 -22  11.0    4  ...   31  19.0   1.0    1   \n",
              "7169   8  13   8.0   1 -22  -5  -2  10   2.0   -9  ...    0   1.0   2.0    3   \n",
              "6458  19   8  -1.0   3   6 -18  -1 -11  -4.0    7  ...   -2 -15.0  -7.0    5   \n",
              "9330  -3  -4   1.0   0   1  47  10   1   4.0   -1  ...   15 -10.0 -14.0   -9   \n",
              "3100  -3  -8   1.0   0 -39 -33   0  14  17.0    2  ...   12 -11.0   1.0    4   \n",
              "\n",
              "      V60  V61   V62  V63  V64     label  \n",
              "550    -1   -5   9.0  -42  -32      rock  \n",
              "7169   -4   -7  13.0   -1    0     paper  \n",
              "6458    5   16  26.0   10   -8     paper  \n",
              "9330   -8   -7 -13.0   -8  -16        ok  \n",
              "3100    0   -8 -16.0    1    4  scissors  \n",
              "\n",
              "[5 rows x 65 columns]"
            ]
          },
          "execution_count": 5,
          "metadata": {},
          "output_type": "execute_result"
        }
      ],
      "source": [
        "# Print first rows of data.\n",
        "dataset.head()"
      ]
    },
    {
      "cell_type": "code",
      "execution_count": null,
      "metadata": {
        "id": "FFvPtLie7dC_"
      },
      "outputs": [],
      "source": [
        "# Convert features and class to numpy arrays.\n",
        "features = dataset.drop('label', axis=1)\n",
        "\n",
        "labels = dataset[['label']]\n",
        "\n",
        "features = features.values\n",
        "\n",
        "labels = labels.values"
      ]
    },
    {
      "cell_type": "markdown",
      "metadata": {
        "id": "zMGKQOc57dC_"
      },
      "source": [
        "Neural networks need the labels to be one-hot encoded. Currently, our labels are stored as strings. First we need to convert them into integers."
      ]
    },
    {
      "cell_type": "code",
      "execution_count": null,
      "metadata": {
        "colab": {
          "base_uri": "https://localhost:8080/"
        },
        "id": "CI68ydJ97dC_",
        "outputId": "7df6a97e-755c-4c70-e384-353b619f10bd"
      },
      "outputs": [
        {
          "name": "stdout",
          "output_type": "stream",
          "text": [
            "[['rock']\n",
            " ['paper']\n",
            " ['paper']\n",
            " ['ok']\n",
            " ['scissors']]\n",
            "[2 1 1 0 3]\n"
          ]
        }
      ],
      "source": [
        "# Convert labels to integers and store the result in labels_int\n",
        "from sklearn.preprocessing import LabelEncoder\n",
        "\n",
        "le = LabelEncoder()\n",
        "\n",
        "labels_int = le.fit_transform(labels.ravel())\n",
        "\n",
        "# Display first 5 labels as strings.\n",
        "print(labels[0:5])\n",
        "\n",
        "# Display first 5 labels as integers.\n",
        "print(labels_int[0:5]) # display first labels"
      ]
    },
    {
      "cell_type": "code",
      "execution_count": null,
      "metadata": {
        "id": "ZrjwjNpz7dC_"
      },
      "outputs": [],
      "source": [
        "# One hot encode the labels and store the result in a variable called 'labels'\n",
        "# You can use tf.keras.utils.to_categorical() function. Its first argument is an array of ints (e.g., labels_int)\n",
        "# The second argument is the number of classes.\n",
        "\n",
        "labels = tf.keras.utils.to_categorical(labels_int, 4)"
      ]
    },
    {
      "cell_type": "code",
      "execution_count": null,
      "metadata": {
        "colab": {
          "base_uri": "https://localhost:8080/"
        },
        "id": "rmoEMgPq7dDA",
        "outputId": "dd28d640-8b8c-49ee-c726-5d1addd1614c"
      },
      "outputs": [
        {
          "data": {
            "text/plain": [
              "array([[0., 0., 1., 0.],\n",
              "       [0., 1., 0., 0.],\n",
              "       [0., 1., 0., 0.],\n",
              "       [1., 0., 0., 0.],\n",
              "       [0., 0., 0., 1.]])"
            ]
          },
          "execution_count": 9,
          "metadata": {},
          "output_type": "execute_result"
        }
      ],
      "source": [
        "# Print first five one-hot encoded labels\n",
        "\n",
        "labels[0:5,]"
      ]
    },
    {
      "cell_type": "markdown",
      "metadata": {
        "id": "Ov76TaYu7dDA"
      },
      "source": [
        "## Step 1: Split the data.\n",
        "\n",
        "As explained in step 1 from the instructions section, the *train set* (60%) should consist of aprox. 6978 instances. The *val1 set* (10%) should have aprox. 1163 instances. The *val2 set* (15%) and the *test set* (15%) should have aprox. 1744 instances each."
      ]
    },
    {
      "cell_type": "code",
      "execution_count": null,
      "metadata": {
        "colab": {
          "base_uri": "https://localhost:8080/"
        },
        "id": "nVA6D61e7dDA",
        "outputId": "dd6cb2f0-c974-4fed-c48a-964e8d97ea2c"
      },
      "outputs": [
        {
          "name": "stdout",
          "output_type": "stream",
          "text": [
            "(6978, 64)\n",
            "(6978, 4)\n"
          ]
        }
      ],
      "source": [
        "# Currently, the features are stored in the 'features' variable and the labels in 'labels'.\n",
        "# First split into 2 subsets. train set = 60% (6978 instances) and a temporal set that contains the rest of the data (40%).\n",
        "# We will use the train_test_split() function.\n",
        "# The train_size argument specifies the number of instances to be included in the train set.\n",
        "\n",
        "train_features, tmp_features, train_labels, tmp_labels = train_test_split(features, labels,\n",
        "                                                                            train_size = 6978, random_state=1234)\n",
        "\n",
        "# Now train_features and train_labels contain the train set.\n",
        "# tmp_features and tmp_labels contain the rest of the data.\n",
        "\n",
        "# Let's print the shape of the train set. It should now contain 6978 instances.\n",
        "print(train_features.shape)\n",
        "print(train_labels.shape)"
      ]
    },
    {
      "cell_type": "code",
      "execution_count": null,
      "metadata": {
        "colab": {
          "base_uri": "https://localhost:8080/"
        },
        "id": "CkMYFvr77dDA",
        "outputId": "a390d552-b63a-41fa-b691-efb9f5dc7ca2"
      },
      "outputs": [
        {
          "name": "stdout",
          "output_type": "stream",
          "text": [
            "(1162, 4)\n"
          ]
        }
      ],
      "source": [
        "# Now, tmp_features has 40% of the total original data.\n",
        "# We need to split tmp_features and tmp_labels into the remaining test, val1 and val2 sets.\n",
        "# We can start by spliting tmp_features into two subsets.\n",
        "# The first subset correspons to the 10% of the total (1163 instances) of the val1 data.\n",
        "# The second subset is the remaining 30% of the total which will be split later into 15% for test and 15% for val2.\n",
        "\n",
        "# Use the train_test_split() function to split tmp_features and tmp_labels.\n",
        "# Store 10% of the TOTAL dataset into val1_features, val1_labels and the remaining into tmp2_features and tmp2_labels.\n",
        "\n",
        "#### YOUR CODE HERE ####\n",
        "val1_features, tmp2_features, val1_labels, tmp2_labels = train_test_split(tmp_features, tmp_labels,\n",
        "                                                                            train_size = 1162, random_state=1234)\n",
        "\n",
        "\n",
        "# Print size of val1 set. It should have 1163 instances.\n",
        "print(val1_labels.shape)"
      ]
    },
    {
      "cell_type": "code",
      "execution_count": null,
      "metadata": {
        "colab": {
          "base_uri": "https://localhost:8080/"
        },
        "id": "7V5u8j1t7dDA",
        "outputId": "5a0b9970-8155-491f-cca2-edd578d7ce3b"
      },
      "outputs": [
        {
          "name": "stdout",
          "output_type": "stream",
          "text": [
            "(1745, 4)\n",
            "(1745, 4)\n"
          ]
        }
      ],
      "source": [
        "# Now, tmp2_features, tmp2_labels contains 30% of the TOTAL dataset.\n",
        "# Split tmp2_features, tmp2_labels into two equally sized datasets.\n",
        "# test_features, test_labels and val2_features, val2_labels.\n",
        "\n",
        "#### YOUR CODE HERE ####\n",
        "val2_features, test_features, val2_labels, test_labels = train_test_split(tmp2_features, tmp2_labels,\n",
        "                                                                            train_size = 1745, random_state=1234)\n",
        "\n",
        "\n",
        "# Print test and val2 sizes. Their sizes should be aprox. 1744.\n",
        "print(test_labels.shape)\n",
        "print(val2_labels.shape)"
      ]
    },
    {
      "cell_type": "markdown",
      "metadata": {
        "id": "4ooLUvZh7dDA"
      },
      "source": [
        "Noramlize the features between 0 and 1. Remember that normalization parameters are learned just from the training data."
      ]
    },
    {
      "cell_type": "code",
      "execution_count": null,
      "metadata": {
        "id": "56NJuAH_7dDA"
      },
      "outputs": [],
      "source": [
        "# Normalize features between 0 and 1.\n",
        "# Remember that normalization parameters are learned just from the training data.\n",
        "\n",
        "# Learn parameters from train set.\n",
        "normalizer = preprocessing.MinMaxScaler().fit(train_features)\n",
        "\n",
        "# Use the learned normalizer to normalize train_features and store the result in train_normalized.\n",
        "train_normalized = normalizer.transform(train_features)\n",
        "\n",
        "# Use the learned normalizer to normalize test_features and store the result in test_normalized.\n",
        "#### YOUR CODE HERE ####\n",
        "test_normalized = normalizer.transform(test_features)\n",
        "\n",
        "# Use the learned normalizer to normalize val1_features and store the result in val1_normalized.\n",
        "#### YOUR CODE HERE ####\n",
        "val1_normalized = normalizer.transform(val1_features)\n",
        "\n",
        "# Use the learned normalizer to normalize val2_features set and store the result in val2_normalized.\n",
        "#### YOUR CODE HERE ####\n",
        "val2_normalized = normalizer.transform(val2_features)\n"
      ]
    },
    {
      "cell_type": "markdown",
      "metadata": {
        "id": "gtEB-5xS7dDA"
      },
      "source": [
        "# Step 2: Build and evaluate model 1.\n",
        "\n",
        "Now it is time to build model 1 (the first neural network). Use the keras Sequential API to build a deep network (at least 2 hidden layers). Store the model in a variable `model1`."
      ]
    },
    {
      "cell_type": "code",
      "execution_count": null,
      "metadata": {
        "colab": {
          "base_uri": "https://localhost:8080/",
          "height": 310
        },
        "id": "rejlkNrm7dDA",
        "outputId": "14f8c140-968b-49e5-b3f3-fc6a02008700"
      },
      "outputs": [
        {
          "name": "stderr",
          "output_type": "stream",
          "text": [
            "/usr/local/lib/python3.10/dist-packages/keras/src/layers/core/dense.py:87: UserWarning: Do not pass an `input_shape`/`input_dim` argument to a layer. When using Sequential models, prefer using an `Input(shape)` object as the first layer in the model instead.\n",
            "  super().__init__(activity_regularizer=activity_regularizer, **kwargs)\n"
          ]
        },
        {
          "data": {
            "text/html": [
              "<pre style=\"white-space:pre;overflow-x:auto;line-height:normal;font-family:Menlo,'DejaVu Sans Mono',consolas,'Courier New',monospace\"><span style=\"font-weight: bold\">Model: \"sequential\"</span>\n",
              "</pre>\n"
            ],
            "text/plain": [
              "\u001b[1mModel: \"sequential\"\u001b[0m\n"
            ]
          },
          "metadata": {},
          "output_type": "display_data"
        },
        {
          "data": {
            "text/html": [
              "<pre style=\"white-space:pre;overflow-x:auto;line-height:normal;font-family:Menlo,'DejaVu Sans Mono',consolas,'Courier New',monospace\">┏━━━━━━━━━━━━━━━━━━━━━━━━━━━━━━━━━━━━━━┳━━━━━━━━━━━━━━━━━━━━━━━━━━━━━┳━━━━━━━━━━━━━━━━━┓\n",
              "┃<span style=\"font-weight: bold\"> Layer (type)                         </span>┃<span style=\"font-weight: bold\"> Output Shape                </span>┃<span style=\"font-weight: bold\">         Param # </span>┃\n",
              "┡━━━━━━━━━━━━━━━━━━━━━━━━━━━━━━━━━━━━━━╇━━━━━━━━━━━━━━━━━━━━━━━━━━━━━╇━━━━━━━━━━━━━━━━━┩\n",
              "│ dense (<span style=\"color: #0087ff; text-decoration-color: #0087ff\">Dense</span>)                        │ (<span style=\"color: #00d7ff; text-decoration-color: #00d7ff\">None</span>, <span style=\"color: #00af00; text-decoration-color: #00af00\">16</span>)                  │           <span style=\"color: #00af00; text-decoration-color: #00af00\">1,040</span> │\n",
              "├──────────────────────────────────────┼─────────────────────────────┼─────────────────┤\n",
              "│ dense_1 (<span style=\"color: #0087ff; text-decoration-color: #0087ff\">Dense</span>)                      │ (<span style=\"color: #00d7ff; text-decoration-color: #00d7ff\">None</span>, <span style=\"color: #00af00; text-decoration-color: #00af00\">8</span>)                   │             <span style=\"color: #00af00; text-decoration-color: #00af00\">136</span> │\n",
              "├──────────────────────────────────────┼─────────────────────────────┼─────────────────┤\n",
              "│ dense_2 (<span style=\"color: #0087ff; text-decoration-color: #0087ff\">Dense</span>)                      │ (<span style=\"color: #00d7ff; text-decoration-color: #00d7ff\">None</span>, <span style=\"color: #00af00; text-decoration-color: #00af00\">4</span>)                   │              <span style=\"color: #00af00; text-decoration-color: #00af00\">36</span> │\n",
              "└──────────────────────────────────────┴─────────────────────────────┴─────────────────┘\n",
              "</pre>\n"
            ],
            "text/plain": [
              "┏━━━━━━━━━━━━━━━━━━━━━━━━━━━━━━━━━━━━━━┳━━━━━━━━━━━━━━━━━━━━━━━━━━━━━┳━━━━━━━━━━━━━━━━━┓\n",
              "┃\u001b[1m \u001b[0m\u001b[1mLayer (type)                        \u001b[0m\u001b[1m \u001b[0m┃\u001b[1m \u001b[0m\u001b[1mOutput Shape               \u001b[0m\u001b[1m \u001b[0m┃\u001b[1m \u001b[0m\u001b[1m        Param #\u001b[0m\u001b[1m \u001b[0m┃\n",
              "┡━━━━━━━━━━━━━━━━━━━━━━━━━━━━━━━━━━━━━━╇━━━━━━━━━━━━━━━━━━━━━━━━━━━━━╇━━━━━━━━━━━━━━━━━┩\n",
              "│ dense (\u001b[38;5;33mDense\u001b[0m)                        │ (\u001b[38;5;45mNone\u001b[0m, \u001b[38;5;34m16\u001b[0m)                  │           \u001b[38;5;34m1,040\u001b[0m │\n",
              "├──────────────────────────────────────┼─────────────────────────────┼─────────────────┤\n",
              "│ dense_1 (\u001b[38;5;33mDense\u001b[0m)                      │ (\u001b[38;5;45mNone\u001b[0m, \u001b[38;5;34m8\u001b[0m)                   │             \u001b[38;5;34m136\u001b[0m │\n",
              "├──────────────────────────────────────┼─────────────────────────────┼─────────────────┤\n",
              "│ dense_2 (\u001b[38;5;33mDense\u001b[0m)                      │ (\u001b[38;5;45mNone\u001b[0m, \u001b[38;5;34m4\u001b[0m)                   │              \u001b[38;5;34m36\u001b[0m │\n",
              "└──────────────────────────────────────┴─────────────────────────────┴─────────────────┘\n"
            ]
          },
          "metadata": {},
          "output_type": "display_data"
        },
        {
          "data": {
            "text/html": [
              "<pre style=\"white-space:pre;overflow-x:auto;line-height:normal;font-family:Menlo,'DejaVu Sans Mono',consolas,'Courier New',monospace\"><span style=\"font-weight: bold\"> Total params: </span><span style=\"color: #00af00; text-decoration-color: #00af00\">1,212</span> (4.73 KB)\n",
              "</pre>\n"
            ],
            "text/plain": [
              "\u001b[1m Total params: \u001b[0m\u001b[38;5;34m1,212\u001b[0m (4.73 KB)\n"
            ]
          },
          "metadata": {},
          "output_type": "display_data"
        },
        {
          "data": {
            "text/html": [
              "<pre style=\"white-space:pre;overflow-x:auto;line-height:normal;font-family:Menlo,'DejaVu Sans Mono',consolas,'Courier New',monospace\"><span style=\"font-weight: bold\"> Trainable params: </span><span style=\"color: #00af00; text-decoration-color: #00af00\">1,212</span> (4.73 KB)\n",
              "</pre>\n"
            ],
            "text/plain": [
              "\u001b[1m Trainable params: \u001b[0m\u001b[38;5;34m1,212\u001b[0m (4.73 KB)\n"
            ]
          },
          "metadata": {},
          "output_type": "display_data"
        },
        {
          "data": {
            "text/html": [
              "<pre style=\"white-space:pre;overflow-x:auto;line-height:normal;font-family:Menlo,'DejaVu Sans Mono',consolas,'Courier New',monospace\"><span style=\"font-weight: bold\"> Non-trainable params: </span><span style=\"color: #00af00; text-decoration-color: #00af00\">0</span> (0.00 B)\n",
              "</pre>\n"
            ],
            "text/plain": [
              "\u001b[1m Non-trainable params: \u001b[0m\u001b[38;5;34m0\u001b[0m (0.00 B)\n"
            ]
          },
          "metadata": {},
          "output_type": "display_data"
        },
        {
          "name": "stdout",
          "output_type": "stream",
          "text": [
            "None\n"
          ]
        }
      ],
      "source": [
        "# Define your neural network's architecture (layers, neurons, etc.).\n",
        "# The first Dense layer should include the input_shape, i.e., the number of input variables.\n",
        "# The following layers do not need an input_shape argument.\n",
        "# Since this is a classificaton problem, the last layer should have softmax as activation function.\n",
        "# keras.Sequential() expects a list of layers, e.g., keras.layers.Dense() which is a fully connected layer.\n",
        "# The number of neurons of a dense layer can be specified with the 'units' argument.\n",
        "# The activation function is specified with the 'activation' argument.\n",
        "\n",
        "#### COMPLETE THE CODE ####\n",
        "model1 = keras.Sequential([\n",
        "    keras.layers.Dense(units = 16, input_shape=(64,), activation=tf.nn.relu),\n",
        "    keras.layers.Dense(units = 8, activation=tf.nn.relu),\n",
        "    keras.layers.Dense(units = 4, activation=tf.nn.softmax)\n",
        "])\n",
        "\n",
        "\n",
        "# Print the model summary.\n",
        "print(model1.summary())"
      ]
    },
    {
      "cell_type": "markdown",
      "metadata": {
        "id": "zIg9ImaK7dDA"
      },
      "source": [
        "### Define optimizer and compile the model"
      ]
    },
    {
      "cell_type": "code",
      "execution_count": null,
      "metadata": {
        "id": "fIzn-QvD7dDA"
      },
      "outputs": [],
      "source": [
        "# We can use for example, Stochastic Gradient Descent as the optimizer.\n",
        "\n",
        "# Set a learning rate for the opimizer.\n",
        "lr = .001 #### COMPLETE THE CODE ####\n",
        "\n",
        "# Instantiate the optimzier with the specified learning rate.\n",
        "optimizer = tf.keras.optimizers.SGD(lr)\n",
        "\n",
        "# Compile the model.\n",
        "# Since this is a classification problem we need \"categorical_crossentropy\" as the loss function.\n",
        "model1.compile(optimizer = optimizer, loss = \"categorical_crossentropy\", metrics = ['accuracy'])"
      ]
    },
    {
      "cell_type": "code",
      "execution_count": null,
      "metadata": {
        "colab": {
          "base_uri": "https://localhost:8080/"
        },
        "id": "tgspdbri7dDB",
        "outputId": "220595ea-24ba-443a-c754-c0d8fb4561ce",
        "scrolled": true
      },
      "outputs": [
        {
          "name": "stdout",
          "output_type": "stream",
          "text": [
            "Epoch 1/325\n",
            "\u001b[1m873/873\u001b[0m \u001b[32m━━━━━━━━━━━━━━━━━━━━\u001b[0m\u001b[37m\u001b[0m \u001b[1m2s\u001b[0m 2ms/step - accuracy: 0.2391 - loss: 1.3993 - val_accuracy: 0.2238 - val_loss: 1.3890\n",
            "Epoch 2/325\n",
            "\u001b[1m873/873\u001b[0m \u001b[32m━━━━━━━━━━━━━━━━━━━━\u001b[0m\u001b[37m\u001b[0m \u001b[1m2s\u001b[0m 2ms/step - accuracy: 0.2338 - loss: 1.3855 - val_accuracy: 0.2590 - val_loss: 1.3838\n",
            "Epoch 3/325\n",
            "\u001b[1m873/873\u001b[0m \u001b[32m━━━━━━━━━━━━━━━━━━━━\u001b[0m\u001b[37m\u001b[0m \u001b[1m1s\u001b[0m 2ms/step - accuracy: 0.2616 - loss: 1.3830 - val_accuracy: 0.2780 - val_loss: 1.3820\n",
            "Epoch 4/325\n",
            "\u001b[1m873/873\u001b[0m \u001b[32m━━━━━━━━━━━━━━━━━━━━\u001b[0m\u001b[37m\u001b[0m \u001b[1m3s\u001b[0m 2ms/step - accuracy: 0.2815 - loss: 1.3810 - val_accuracy: 0.2806 - val_loss: 1.3806\n",
            "Epoch 5/325\n",
            "\u001b[1m873/873\u001b[0m \u001b[32m━━━━━━━━━━━━━━━━━━━━\u001b[0m\u001b[37m\u001b[0m \u001b[1m3s\u001b[0m 2ms/step - accuracy: 0.2753 - loss: 1.3798 - val_accuracy: 0.2883 - val_loss: 1.3797\n",
            "Epoch 6/325\n",
            "\u001b[1m873/873\u001b[0m \u001b[32m━━━━━━━━━━━━━━━━━━━━\u001b[0m\u001b[37m\u001b[0m \u001b[1m3s\u001b[0m 2ms/step - accuracy: 0.2935 - loss: 1.3795 - val_accuracy: 0.2926 - val_loss: 1.3791\n",
            "Epoch 7/325\n",
            "\u001b[1m873/873\u001b[0m \u001b[32m━━━━━━━━━━━━━━━━━━━━\u001b[0m\u001b[37m\u001b[0m \u001b[1m2s\u001b[0m 1ms/step - accuracy: 0.3017 - loss: 1.3790 - val_accuracy: 0.2960 - val_loss: 1.3787\n",
            "Epoch 8/325\n",
            "\u001b[1m873/873\u001b[0m \u001b[32m━━━━━━━━━━━━━━━━━━━━\u001b[0m\u001b[37m\u001b[0m \u001b[1m2s\u001b[0m 1ms/step - accuracy: 0.2922 - loss: 1.3788 - val_accuracy: 0.3150 - val_loss: 1.3783\n",
            "Epoch 9/325\n",
            "\u001b[1m873/873\u001b[0m \u001b[32m━━━━━━━━━━━━━━━━━━━━\u001b[0m\u001b[37m\u001b[0m \u001b[1m1s\u001b[0m 1ms/step - accuracy: 0.3026 - loss: 1.3777 - val_accuracy: 0.3064 - val_loss: 1.3780\n",
            "Epoch 10/325\n",
            "\u001b[1m873/873\u001b[0m \u001b[32m━━━━━━━━━━━━━━━━━━━━\u001b[0m\u001b[37m\u001b[0m \u001b[1m1s\u001b[0m 1ms/step - accuracy: 0.3066 - loss: 1.3779 - val_accuracy: 0.3193 - val_loss: 1.3775\n",
            "Epoch 11/325\n",
            "\u001b[1m873/873\u001b[0m \u001b[32m━━━━━━━━━━━━━━━━━━━━\u001b[0m\u001b[37m\u001b[0m \u001b[1m3s\u001b[0m 2ms/step - accuracy: 0.3038 - loss: 1.3783 - val_accuracy: 0.3193 - val_loss: 1.3773\n",
            "Epoch 12/325\n",
            "\u001b[1m873/873\u001b[0m \u001b[32m━━━━━━━━━━━━━━━━━━━━\u001b[0m\u001b[37m\u001b[0m \u001b[1m3s\u001b[0m 2ms/step - accuracy: 0.3124 - loss: 1.3777 - val_accuracy: 0.3227 - val_loss: 1.3770\n",
            "Epoch 13/325\n",
            "\u001b[1m873/873\u001b[0m \u001b[32m━━━━━━━━━━━━━━━━━━━━\u001b[0m\u001b[37m\u001b[0m \u001b[1m2s\u001b[0m 1ms/step - accuracy: 0.3110 - loss: 1.3768 - val_accuracy: 0.3270 - val_loss: 1.3767\n",
            "Epoch 14/325\n",
            "\u001b[1m873/873\u001b[0m \u001b[32m━━━━━━━━━━━━━━━━━━━━\u001b[0m\u001b[37m\u001b[0m \u001b[1m1s\u001b[0m 1ms/step - accuracy: 0.3165 - loss: 1.3775 - val_accuracy: 0.3262 - val_loss: 1.3762\n",
            "Epoch 15/325\n",
            "\u001b[1m873/873\u001b[0m \u001b[32m━━━━━━━━━━━━━━━━━━━━\u001b[0m\u001b[37m\u001b[0m \u001b[1m1s\u001b[0m 1ms/step - accuracy: 0.3114 - loss: 1.3765 - val_accuracy: 0.3313 - val_loss: 1.3759\n",
            "Epoch 16/325\n",
            "\u001b[1m873/873\u001b[0m \u001b[32m━━━━━━━━━━━━━━━━━━━━\u001b[0m\u001b[37m\u001b[0m \u001b[1m1s\u001b[0m 1ms/step - accuracy: 0.3181 - loss: 1.3773 - val_accuracy: 0.3219 - val_loss: 1.3757\n",
            "Epoch 17/325\n",
            "\u001b[1m873/873\u001b[0m \u001b[32m━━━━━━━━━━━━━━━━━━━━\u001b[0m\u001b[37m\u001b[0m \u001b[1m3s\u001b[0m 1ms/step - accuracy: 0.3133 - loss: 1.3768 - val_accuracy: 0.3279 - val_loss: 1.3753\n",
            "Epoch 18/325\n",
            "\u001b[1m873/873\u001b[0m \u001b[32m━━━━━━━━━━━━━━━━━━━━\u001b[0m\u001b[37m\u001b[0m \u001b[1m3s\u001b[0m 2ms/step - accuracy: 0.3243 - loss: 1.3759 - val_accuracy: 0.3210 - val_loss: 1.3749\n",
            "Epoch 19/325\n",
            "\u001b[1m873/873\u001b[0m \u001b[32m━━━━━━━━━━━━━━━━━━━━\u001b[0m\u001b[37m\u001b[0m \u001b[1m2s\u001b[0m 2ms/step - accuracy: 0.3319 - loss: 1.3756 - val_accuracy: 0.3305 - val_loss: 1.3748\n",
            "Epoch 20/325\n",
            "\u001b[1m873/873\u001b[0m \u001b[32m━━━━━━━━━━━━━━━━━━━━\u001b[0m\u001b[37m\u001b[0m \u001b[1m2s\u001b[0m 1ms/step - accuracy: 0.3149 - loss: 1.3756 - val_accuracy: 0.3236 - val_loss: 1.3744\n",
            "Epoch 21/325\n",
            "\u001b[1m873/873\u001b[0m \u001b[32m━━━━━━━━━━━━━━━━━━━━\u001b[0m\u001b[37m\u001b[0m \u001b[1m1s\u001b[0m 2ms/step - accuracy: 0.3227 - loss: 1.3745 - val_accuracy: 0.3348 - val_loss: 1.3738\n",
            "Epoch 22/325\n",
            "\u001b[1m873/873\u001b[0m \u001b[32m━━━━━━━━━━━━━━━━━━━━\u001b[0m\u001b[37m\u001b[0m \u001b[1m2s\u001b[0m 1ms/step - accuracy: 0.3372 - loss: 1.3741 - val_accuracy: 0.3262 - val_loss: 1.3737\n",
            "Epoch 23/325\n",
            "\u001b[1m873/873\u001b[0m \u001b[32m━━━━━━━━━━━━━━━━━━━━\u001b[0m\u001b[37m\u001b[0m \u001b[1m3s\u001b[0m 2ms/step - accuracy: 0.3267 - loss: 1.3740 - val_accuracy: 0.3373 - val_loss: 1.3732\n",
            "Epoch 24/325\n",
            "\u001b[1m873/873\u001b[0m \u001b[32m━━━━━━━━━━━━━━━━━━━━\u001b[0m\u001b[37m\u001b[0m \u001b[1m3s\u001b[0m 2ms/step - accuracy: 0.3329 - loss: 1.3728 - val_accuracy: 0.3399 - val_loss: 1.3725\n",
            "Epoch 25/325\n",
            "\u001b[1m873/873\u001b[0m \u001b[32m━━━━━━━━━━━━━━━━━━━━\u001b[0m\u001b[37m\u001b[0m \u001b[1m1s\u001b[0m 2ms/step - accuracy: 0.3249 - loss: 1.3721 - val_accuracy: 0.3408 - val_loss: 1.3721\n",
            "Epoch 26/325\n",
            "\u001b[1m873/873\u001b[0m \u001b[32m━━━━━━━━━━━━━━━━━━━━\u001b[0m\u001b[37m\u001b[0m \u001b[1m3s\u001b[0m 2ms/step - accuracy: 0.3431 - loss: 1.3719 - val_accuracy: 0.3494 - val_loss: 1.3718\n",
            "Epoch 27/325\n",
            "\u001b[1m873/873\u001b[0m \u001b[32m━━━━━━━━━━━━━━━━━━━━\u001b[0m\u001b[37m\u001b[0m \u001b[1m2s\u001b[0m 1ms/step - accuracy: 0.3508 - loss: 1.3717 - val_accuracy: 0.3485 - val_loss: 1.3711\n",
            "Epoch 28/325\n",
            "\u001b[1m873/873\u001b[0m \u001b[32m━━━━━━━━━━━━━━━━━━━━\u001b[0m\u001b[37m\u001b[0m \u001b[1m1s\u001b[0m 1ms/step - accuracy: 0.3396 - loss: 1.3718 - val_accuracy: 0.3434 - val_loss: 1.3707\n",
            "Epoch 29/325\n",
            "\u001b[1m873/873\u001b[0m \u001b[32m━━━━━━━━━━━━━━━━━━━━\u001b[0m\u001b[37m\u001b[0m \u001b[1m1s\u001b[0m 2ms/step - accuracy: 0.3461 - loss: 1.3711 - val_accuracy: 0.3417 - val_loss: 1.3706\n",
            "Epoch 30/325\n",
            "\u001b[1m873/873\u001b[0m \u001b[32m━━━━━━━━━━━━━━━━━━━━\u001b[0m\u001b[37m\u001b[0m \u001b[1m3s\u001b[0m 2ms/step - accuracy: 0.3435 - loss: 1.3715 - val_accuracy: 0.3460 - val_loss: 1.3701\n",
            "Epoch 31/325\n",
            "\u001b[1m873/873\u001b[0m \u001b[32m━━━━━━━━━━━━━━━━━━━━\u001b[0m\u001b[37m\u001b[0m \u001b[1m2s\u001b[0m 2ms/step - accuracy: 0.3470 - loss: 1.3697 - val_accuracy: 0.3460 - val_loss: 1.3694\n",
            "Epoch 32/325\n",
            "\u001b[1m873/873\u001b[0m \u001b[32m━━━━━━━━━━━━━━━━━━━━\u001b[0m\u001b[37m\u001b[0m \u001b[1m3s\u001b[0m 2ms/step - accuracy: 0.3504 - loss: 1.3704 - val_accuracy: 0.3537 - val_loss: 1.3692\n",
            "Epoch 33/325\n",
            "\u001b[1m873/873\u001b[0m \u001b[32m━━━━━━━━━━━━━━━━━━━━\u001b[0m\u001b[37m\u001b[0m \u001b[1m1s\u001b[0m 1ms/step - accuracy: 0.3378 - loss: 1.3694 - val_accuracy: 0.3520 - val_loss: 1.3686\n",
            "Epoch 34/325\n",
            "\u001b[1m873/873\u001b[0m \u001b[32m━━━━━━━━━━━━━━━━━━━━\u001b[0m\u001b[37m\u001b[0m \u001b[1m1s\u001b[0m 2ms/step - accuracy: 0.3536 - loss: 1.3692 - val_accuracy: 0.3614 - val_loss: 1.3676\n",
            "Epoch 35/325\n",
            "\u001b[1m873/873\u001b[0m \u001b[32m━━━━━━━━━━━━━━━━━━━━\u001b[0m\u001b[37m\u001b[0m \u001b[1m3s\u001b[0m 2ms/step - accuracy: 0.3581 - loss: 1.3684 - val_accuracy: 0.3546 - val_loss: 1.3678\n",
            "Epoch 36/325\n",
            "\u001b[1m873/873\u001b[0m \u001b[32m━━━━━━━━━━━━━━━━━━━━\u001b[0m\u001b[37m\u001b[0m \u001b[1m3s\u001b[0m 2ms/step - accuracy: 0.3492 - loss: 1.3689 - val_accuracy: 0.3589 - val_loss: 1.3667\n",
            "Epoch 37/325\n",
            "\u001b[1m873/873\u001b[0m \u001b[32m━━━━━━━━━━━━━━━━━━━━\u001b[0m\u001b[37m\u001b[0m \u001b[1m2s\u001b[0m 2ms/step - accuracy: 0.3585 - loss: 1.3654 - val_accuracy: 0.3623 - val_loss: 1.3659\n",
            "Epoch 38/325\n",
            "\u001b[1m873/873\u001b[0m \u001b[32m━━━━━━━━━━━━━━━━━━━━\u001b[0m\u001b[37m\u001b[0m \u001b[1m2s\u001b[0m 1ms/step - accuracy: 0.3639 - loss: 1.3667 - val_accuracy: 0.3571 - val_loss: 1.3653\n",
            "Epoch 39/325\n",
            "\u001b[1m873/873\u001b[0m \u001b[32m━━━━━━━━━━━━━━━━━━━━\u001b[0m\u001b[37m\u001b[0m \u001b[1m1s\u001b[0m 1ms/step - accuracy: 0.3712 - loss: 1.3663 - val_accuracy: 0.3649 - val_loss: 1.3647\n",
            "Epoch 40/325\n",
            "\u001b[1m873/873\u001b[0m \u001b[32m━━━━━━━━━━━━━━━━━━━━\u001b[0m\u001b[37m\u001b[0m \u001b[1m3s\u001b[0m 2ms/step - accuracy: 0.3644 - loss: 1.3656 - val_accuracy: 0.3640 - val_loss: 1.3638\n",
            "Epoch 41/325\n",
            "\u001b[1m873/873\u001b[0m \u001b[32m━━━━━━━━━━━━━━━━━━━━\u001b[0m\u001b[37m\u001b[0m \u001b[1m2s\u001b[0m 1ms/step - accuracy: 0.3623 - loss: 1.3649 - val_accuracy: 0.3787 - val_loss: 1.3631\n",
            "Epoch 42/325\n",
            "\u001b[1m873/873\u001b[0m \u001b[32m━━━━━━━━━━━━━━━━━━━━\u001b[0m\u001b[37m\u001b[0m \u001b[1m1s\u001b[0m 1ms/step - accuracy: 0.3735 - loss: 1.3629 - val_accuracy: 0.3778 - val_loss: 1.3622\n",
            "Epoch 43/325\n",
            "\u001b[1m873/873\u001b[0m \u001b[32m━━━━━━━━━━━━━━━━━━━━\u001b[0m\u001b[37m\u001b[0m \u001b[1m2s\u001b[0m 2ms/step - accuracy: 0.3731 - loss: 1.3627 - val_accuracy: 0.3752 - val_loss: 1.3622\n",
            "Epoch 44/325\n",
            "\u001b[1m873/873\u001b[0m \u001b[32m━━━━━━━━━━━━━━━━━━━━\u001b[0m\u001b[37m\u001b[0m \u001b[1m3s\u001b[0m 2ms/step - accuracy: 0.3710 - loss: 1.3626 - val_accuracy: 0.3787 - val_loss: 1.3610\n",
            "Epoch 45/325\n",
            "\u001b[1m873/873\u001b[0m \u001b[32m━━━━━━━━━━━━━━━━━━━━\u001b[0m\u001b[37m\u001b[0m \u001b[1m2s\u001b[0m 1ms/step - accuracy: 0.3588 - loss: 1.3629 - val_accuracy: 0.3812 - val_loss: 1.3598\n",
            "Epoch 46/325\n",
            "\u001b[1m873/873\u001b[0m \u001b[32m━━━━━━━━━━━━━━━━━━━━\u001b[0m\u001b[37m\u001b[0m \u001b[1m3s\u001b[0m 1ms/step - accuracy: 0.3854 - loss: 1.3615 - val_accuracy: 0.3821 - val_loss: 1.3595\n",
            "Epoch 47/325\n",
            "\u001b[1m873/873\u001b[0m \u001b[32m━━━━━━━━━━━━━━━━━━━━\u001b[0m\u001b[37m\u001b[0m \u001b[1m1s\u001b[0m 1ms/step - accuracy: 0.3607 - loss: 1.3607 - val_accuracy: 0.3460 - val_loss: 1.3604\n",
            "Epoch 48/325\n",
            "\u001b[1m873/873\u001b[0m \u001b[32m━━━━━━━━━━━━━━━━━━━━\u001b[0m\u001b[37m\u001b[0m \u001b[1m3s\u001b[0m 1ms/step - accuracy: 0.3635 - loss: 1.3593 - val_accuracy: 0.3752 - val_loss: 1.3575\n",
            "Epoch 49/325\n",
            "\u001b[1m873/873\u001b[0m \u001b[32m━━━━━━━━━━━━━━━━━━━━\u001b[0m\u001b[37m\u001b[0m \u001b[1m1s\u001b[0m 2ms/step - accuracy: 0.3794 - loss: 1.3568 - val_accuracy: 0.3847 - val_loss: 1.3559\n",
            "Epoch 50/325\n",
            "\u001b[1m873/873\u001b[0m \u001b[32m━━━━━━━━━━━━━━━━━━━━\u001b[0m\u001b[37m\u001b[0m \u001b[1m3s\u001b[0m 2ms/step - accuracy: 0.3882 - loss: 1.3555 - val_accuracy: 0.3890 - val_loss: 1.3549\n",
            "Epoch 51/325\n",
            "\u001b[1m873/873\u001b[0m \u001b[32m━━━━━━━━━━━━━━━━━━━━\u001b[0m\u001b[37m\u001b[0m \u001b[1m2s\u001b[0m 1ms/step - accuracy: 0.3816 - loss: 1.3554 - val_accuracy: 0.4157 - val_loss: 1.3535\n",
            "Epoch 52/325\n",
            "\u001b[1m873/873\u001b[0m \u001b[32m━━━━━━━━━━━━━━━━━━━━\u001b[0m\u001b[37m\u001b[0m \u001b[1m1s\u001b[0m 1ms/step - accuracy: 0.3974 - loss: 1.3534 - val_accuracy: 0.4045 - val_loss: 1.3522\n",
            "Epoch 53/325\n",
            "\u001b[1m873/873\u001b[0m \u001b[32m━━━━━━━━━━━━━━━━━━━━\u001b[0m\u001b[37m\u001b[0m \u001b[1m3s\u001b[0m 1ms/step - accuracy: 0.3960 - loss: 1.3519 - val_accuracy: 0.3787 - val_loss: 1.3524\n",
            "Epoch 54/325\n",
            "\u001b[1m873/873\u001b[0m \u001b[32m━━━━━━━━━━━━━━━━━━━━\u001b[0m\u001b[37m\u001b[0m \u001b[1m3s\u001b[0m 2ms/step - accuracy: 0.3827 - loss: 1.3509 - val_accuracy: 0.3985 - val_loss: 1.3500\n",
            "Epoch 55/325\n",
            "\u001b[1m873/873\u001b[0m \u001b[32m━━━━━━━━━━━━━━━━━━━━\u001b[0m\u001b[37m\u001b[0m \u001b[1m1s\u001b[0m 2ms/step - accuracy: 0.3831 - loss: 1.3506 - val_accuracy: 0.4028 - val_loss: 1.3485\n",
            "Epoch 56/325\n",
            "\u001b[1m873/873\u001b[0m \u001b[32m━━━━━━━━━━━━━━━━━━━━\u001b[0m\u001b[37m\u001b[0m \u001b[1m2s\u001b[0m 2ms/step - accuracy: 0.4053 - loss: 1.3495 - val_accuracy: 0.3993 - val_loss: 1.3471\n",
            "Epoch 57/325\n",
            "\u001b[1m873/873\u001b[0m \u001b[32m━━━━━━━━━━━━━━━━━━━━\u001b[0m\u001b[37m\u001b[0m \u001b[1m2s\u001b[0m 2ms/step - accuracy: 0.3982 - loss: 1.3469 - val_accuracy: 0.3933 - val_loss: 1.3463\n",
            "Epoch 58/325\n",
            "\u001b[1m873/873\u001b[0m \u001b[32m━━━━━━━━━━━━━━━━━━━━\u001b[0m\u001b[37m\u001b[0m \u001b[1m3s\u001b[0m 2ms/step - accuracy: 0.4099 - loss: 1.3467 - val_accuracy: 0.4079 - val_loss: 1.3448\n",
            "Epoch 59/325\n",
            "\u001b[1m873/873\u001b[0m \u001b[32m━━━━━━━━━━━━━━━━━━━━\u001b[0m\u001b[37m\u001b[0m \u001b[1m1s\u001b[0m 1ms/step - accuracy: 0.4000 - loss: 1.3445 - val_accuracy: 0.4028 - val_loss: 1.3429\n",
            "Epoch 60/325\n",
            "\u001b[1m873/873\u001b[0m \u001b[32m━━━━━━━━━━━━━━━━━━━━\u001b[0m\u001b[37m\u001b[0m \u001b[1m3s\u001b[0m 2ms/step - accuracy: 0.4052 - loss: 1.3422 - val_accuracy: 0.4105 - val_loss: 1.3409\n",
            "Epoch 61/325\n",
            "\u001b[1m873/873\u001b[0m \u001b[32m━━━━━━━━━━━━━━━━━━━━\u001b[0m\u001b[37m\u001b[0m \u001b[1m3s\u001b[0m 2ms/step - accuracy: 0.4018 - loss: 1.3427 - val_accuracy: 0.3890 - val_loss: 1.3402\n",
            "Epoch 62/325\n",
            "\u001b[1m873/873\u001b[0m \u001b[32m━━━━━━━━━━━━━━━━━━━━\u001b[0m\u001b[37m\u001b[0m \u001b[1m3s\u001b[0m 2ms/step - accuracy: 0.4010 - loss: 1.3399 - val_accuracy: 0.4122 - val_loss: 1.3378\n",
            "Epoch 63/325\n",
            "\u001b[1m873/873\u001b[0m \u001b[32m━━━━━━━━━━━━━━━━━━━━\u001b[0m\u001b[37m\u001b[0m \u001b[1m1s\u001b[0m 1ms/step - accuracy: 0.4114 - loss: 1.3394 - val_accuracy: 0.4131 - val_loss: 1.3360\n",
            "Epoch 64/325\n",
            "\u001b[1m873/873\u001b[0m \u001b[32m━━━━━━━━━━━━━━━━━━━━\u001b[0m\u001b[37m\u001b[0m \u001b[1m3s\u001b[0m 2ms/step - accuracy: 0.4219 - loss: 1.3364 - val_accuracy: 0.4260 - val_loss: 1.3336\n",
            "Epoch 65/325\n",
            "\u001b[1m873/873\u001b[0m \u001b[32m━━━━━━━━━━━━━━━━━━━━\u001b[0m\u001b[37m\u001b[0m \u001b[1m2s\u001b[0m 1ms/step - accuracy: 0.4262 - loss: 1.3319 - val_accuracy: 0.4406 - val_loss: 1.3315\n",
            "Epoch 66/325\n",
            "\u001b[1m873/873\u001b[0m \u001b[32m━━━━━━━━━━━━━━━━━━━━\u001b[0m\u001b[37m\u001b[0m \u001b[1m1s\u001b[0m 1ms/step - accuracy: 0.4207 - loss: 1.3321 - val_accuracy: 0.4079 - val_loss: 1.3301\n",
            "Epoch 67/325\n",
            "\u001b[1m873/873\u001b[0m \u001b[32m━━━━━━━━━━━━━━━━━━━━\u001b[0m\u001b[37m\u001b[0m \u001b[1m1s\u001b[0m 1ms/step - accuracy: 0.4208 - loss: 1.3298 - val_accuracy: 0.4501 - val_loss: 1.3272\n",
            "Epoch 68/325\n",
            "\u001b[1m873/873\u001b[0m \u001b[32m━━━━━━━━━━━━━━━━━━━━\u001b[0m\u001b[37m\u001b[0m \u001b[1m1s\u001b[0m 2ms/step - accuracy: 0.4219 - loss: 1.3294 - val_accuracy: 0.4088 - val_loss: 1.3257\n",
            "Epoch 69/325\n",
            "\u001b[1m873/873\u001b[0m \u001b[32m━━━━━━━━━━━━━━━━━━━━\u001b[0m\u001b[37m\u001b[0m \u001b[1m3s\u001b[0m 2ms/step - accuracy: 0.4359 - loss: 1.3253 - val_accuracy: 0.4277 - val_loss: 1.3217\n",
            "Epoch 70/325\n",
            "\u001b[1m873/873\u001b[0m \u001b[32m━━━━━━━━━━━━━━━━━━━━\u001b[0m\u001b[37m\u001b[0m \u001b[1m1s\u001b[0m 1ms/step - accuracy: 0.4191 - loss: 1.3231 - val_accuracy: 0.4286 - val_loss: 1.3205\n",
            "Epoch 71/325\n",
            "\u001b[1m873/873\u001b[0m \u001b[32m━━━━━━━━━━━━━━━━━━━━\u001b[0m\u001b[37m\u001b[0m \u001b[1m3s\u001b[0m 1ms/step - accuracy: 0.4303 - loss: 1.3231 - val_accuracy: 0.4570 - val_loss: 1.3167\n",
            "Epoch 72/325\n",
            "\u001b[1m873/873\u001b[0m \u001b[32m━━━━━━━━━━━━━━━━━━━━\u001b[0m\u001b[37m\u001b[0m \u001b[1m1s\u001b[0m 1ms/step - accuracy: 0.4439 - loss: 1.3182 - val_accuracy: 0.3933 - val_loss: 1.3170\n",
            "Epoch 73/325\n",
            "\u001b[1m873/873\u001b[0m \u001b[32m━━━━━━━━━━━━━━━━━━━━\u001b[0m\u001b[37m\u001b[0m \u001b[1m1s\u001b[0m 1ms/step - accuracy: 0.4332 - loss: 1.3142 - val_accuracy: 0.4656 - val_loss: 1.3105\n",
            "Epoch 74/325\n",
            "\u001b[1m873/873\u001b[0m \u001b[32m━━━━━━━━━━━━━━━━━━━━\u001b[0m\u001b[37m\u001b[0m \u001b[1m3s\u001b[0m 1ms/step - accuracy: 0.4409 - loss: 1.3106 - val_accuracy: 0.4613 - val_loss: 1.3073\n",
            "Epoch 75/325\n",
            "\u001b[1m873/873\u001b[0m \u001b[32m━━━━━━━━━━━━━━━━━━━━\u001b[0m\u001b[37m\u001b[0m \u001b[1m3s\u001b[0m 2ms/step - accuracy: 0.4376 - loss: 1.3077 - val_accuracy: 0.3787 - val_loss: 1.3113\n",
            "Epoch 76/325\n",
            "\u001b[1m873/873\u001b[0m \u001b[32m━━━━━━━━━━━━━━━━━━━━\u001b[0m\u001b[37m\u001b[0m \u001b[1m2s\u001b[0m 2ms/step - accuracy: 0.4612 - loss: 1.3008 - val_accuracy: 0.4647 - val_loss: 1.3007\n",
            "Epoch 77/325\n",
            "\u001b[1m873/873\u001b[0m \u001b[32m━━━━━━━━━━━━━━━━━━━━\u001b[0m\u001b[37m\u001b[0m \u001b[1m2s\u001b[0m 2ms/step - accuracy: 0.4408 - loss: 1.3002 - val_accuracy: 0.4570 - val_loss: 1.2974\n",
            "Epoch 78/325\n",
            "\u001b[1m873/873\u001b[0m \u001b[32m━━━━━━━━━━━━━━━━━━━━\u001b[0m\u001b[37m\u001b[0m \u001b[1m3s\u001b[0m 2ms/step - accuracy: 0.4547 - loss: 1.2989 - val_accuracy: 0.4182 - val_loss: 1.2986\n",
            "Epoch 79/325\n",
            "\u001b[1m873/873\u001b[0m \u001b[32m━━━━━━━━━━━━━━━━━━━━\u001b[0m\u001b[37m\u001b[0m \u001b[1m2s\u001b[0m 1ms/step - accuracy: 0.4548 - loss: 1.2956 - val_accuracy: 0.4398 - val_loss: 1.2921\n",
            "Epoch 80/325\n",
            "\u001b[1m873/873\u001b[0m \u001b[32m━━━━━━━━━━━━━━━━━━━━\u001b[0m\u001b[37m\u001b[0m \u001b[1m1s\u001b[0m 1ms/step - accuracy: 0.4537 - loss: 1.2883 - val_accuracy: 0.4518 - val_loss: 1.2863\n",
            "Epoch 81/325\n",
            "\u001b[1m873/873\u001b[0m \u001b[32m━━━━━━━━━━━━━━━━━━━━\u001b[0m\u001b[37m\u001b[0m \u001b[1m3s\u001b[0m 2ms/step - accuracy: 0.4638 - loss: 1.2798 - val_accuracy: 0.4552 - val_loss: 1.2819\n",
            "Epoch 82/325\n",
            "\u001b[1m873/873\u001b[0m \u001b[32m━━━━━━━━━━━━━━━━━━━━\u001b[0m\u001b[37m\u001b[0m \u001b[1m3s\u001b[0m 2ms/step - accuracy: 0.4583 - loss: 1.2834 - val_accuracy: 0.4544 - val_loss: 1.2769\n",
            "Epoch 83/325\n",
            "\u001b[1m873/873\u001b[0m \u001b[32m━━━━━━━━━━━━━━━━━━━━\u001b[0m\u001b[37m\u001b[0m \u001b[1m2s\u001b[0m 1ms/step - accuracy: 0.4671 - loss: 1.2774 - val_accuracy: 0.4776 - val_loss: 1.2720\n",
            "Epoch 84/325\n",
            "\u001b[1m873/873\u001b[0m \u001b[32m━━━━━━━━━━━━━━━━━━━━\u001b[0m\u001b[37m\u001b[0m \u001b[1m3s\u001b[0m 1ms/step - accuracy: 0.4712 - loss: 1.2707 - val_accuracy: 0.4785 - val_loss: 1.2672\n",
            "Epoch 85/325\n",
            "\u001b[1m873/873\u001b[0m \u001b[32m━━━━━━━━━━━━━━━━━━━━\u001b[0m\u001b[37m\u001b[0m \u001b[1m3s\u001b[0m 2ms/step - accuracy: 0.4792 - loss: 1.2639 - val_accuracy: 0.4768 - val_loss: 1.2648\n",
            "Epoch 86/325\n",
            "\u001b[1m873/873\u001b[0m \u001b[32m━━━━━━━━━━━━━━━━━━━━\u001b[0m\u001b[37m\u001b[0m \u001b[1m1s\u001b[0m 1ms/step - accuracy: 0.4881 - loss: 1.2615 - val_accuracy: 0.4785 - val_loss: 1.2567\n",
            "Epoch 87/325\n",
            "\u001b[1m873/873\u001b[0m \u001b[32m━━━━━━━━━━━━━━━━━━━━\u001b[0m\u001b[37m\u001b[0m \u001b[1m3s\u001b[0m 2ms/step - accuracy: 0.4724 - loss: 1.2525 - val_accuracy: 0.4079 - val_loss: 1.2638\n",
            "Epoch 88/325\n",
            "\u001b[1m873/873\u001b[0m \u001b[32m━━━━━━━━━━━━━━━━━━━━\u001b[0m\u001b[37m\u001b[0m \u001b[1m2s\u001b[0m 1ms/step - accuracy: 0.4790 - loss: 1.2542 - val_accuracy: 0.4828 - val_loss: 1.2477\n",
            "Epoch 89/325\n",
            "\u001b[1m873/873\u001b[0m \u001b[32m━━━━━━━━━━━━━━━━━━━━\u001b[0m\u001b[37m\u001b[0m \u001b[1m3s\u001b[0m 1ms/step - accuracy: 0.4833 - loss: 1.2462 - val_accuracy: 0.4854 - val_loss: 1.2411\n",
            "Epoch 90/325\n",
            "\u001b[1m873/873\u001b[0m \u001b[32m━━━━━━━━━━━━━━━━━━━━\u001b[0m\u001b[37m\u001b[0m \u001b[1m3s\u001b[0m 1ms/step - accuracy: 0.4942 - loss: 1.2398 - val_accuracy: 0.4871 - val_loss: 1.2360\n",
            "Epoch 91/325\n",
            "\u001b[1m873/873\u001b[0m \u001b[32m━━━━━━━━━━━━━━━━━━━━\u001b[0m\u001b[37m\u001b[0m \u001b[1m1s\u001b[0m 1ms/step - accuracy: 0.4915 - loss: 1.2340 - val_accuracy: 0.4836 - val_loss: 1.2301\n",
            "Epoch 92/325\n",
            "\u001b[1m873/873\u001b[0m \u001b[32m━━━━━━━━━━━━━━━━━━━━\u001b[0m\u001b[37m\u001b[0m \u001b[1m1s\u001b[0m 2ms/step - accuracy: 0.5044 - loss: 1.2271 - val_accuracy: 0.4923 - val_loss: 1.2239\n",
            "Epoch 93/325\n",
            "\u001b[1m873/873\u001b[0m \u001b[32m━━━━━━━━━━━━━━━━━━━━\u001b[0m\u001b[37m\u001b[0m \u001b[1m2s\u001b[0m 2ms/step - accuracy: 0.4831 - loss: 1.2233 - val_accuracy: 0.4535 - val_loss: 1.2261\n",
            "Epoch 94/325\n",
            "\u001b[1m873/873\u001b[0m \u001b[32m━━━━━━━━━━━━━━━━━━━━\u001b[0m\u001b[37m\u001b[0m \u001b[1m3s\u001b[0m 2ms/step - accuracy: 0.5031 - loss: 1.2181 - val_accuracy: 0.4966 - val_loss: 1.2117\n",
            "Epoch 95/325\n",
            "\u001b[1m873/873\u001b[0m \u001b[32m━━━━━━━━━━━━━━━━━━━━\u001b[0m\u001b[37m\u001b[0m \u001b[1m2s\u001b[0m 2ms/step - accuracy: 0.5051 - loss: 1.2100 - val_accuracy: 0.4880 - val_loss: 1.2102\n",
            "Epoch 96/325\n",
            "\u001b[1m873/873\u001b[0m \u001b[32m━━━━━━━━━━━━━━━━━━━━\u001b[0m\u001b[37m\u001b[0m \u001b[1m3s\u001b[0m 2ms/step - accuracy: 0.5125 - loss: 1.2087 - val_accuracy: 0.5000 - val_loss: 1.2011\n",
            "Epoch 97/325\n",
            "\u001b[1m873/873\u001b[0m \u001b[32m━━━━━━━━━━━━━━━━━━━━\u001b[0m\u001b[37m\u001b[0m \u001b[1m2s\u001b[0m 1ms/step - accuracy: 0.5038 - loss: 1.2035 - val_accuracy: 0.5069 - val_loss: 1.1940\n",
            "Epoch 98/325\n",
            "\u001b[1m873/873\u001b[0m \u001b[32m━━━━━━━━━━━━━━━━━━━━\u001b[0m\u001b[37m\u001b[0m \u001b[1m3s\u001b[0m 1ms/step - accuracy: 0.5117 - loss: 1.1928 - val_accuracy: 0.5112 - val_loss: 1.1907\n",
            "Epoch 99/325\n",
            "\u001b[1m873/873\u001b[0m \u001b[32m━━━━━━━━━━━━━━━━━━━━\u001b[0m\u001b[37m\u001b[0m \u001b[1m3s\u001b[0m 2ms/step - accuracy: 0.5273 - loss: 1.1824 - val_accuracy: 0.5181 - val_loss: 1.1827\n",
            "Epoch 100/325\n",
            "\u001b[1m873/873\u001b[0m \u001b[32m━━━━━━━━━━━━━━━━━━━━\u001b[0m\u001b[37m\u001b[0m \u001b[1m2s\u001b[0m 2ms/step - accuracy: 0.5212 - loss: 1.1800 - val_accuracy: 0.5034 - val_loss: 1.1854\n",
            "Epoch 101/325\n",
            "\u001b[1m873/873\u001b[0m \u001b[32m━━━━━━━━━━━━━━━━━━━━\u001b[0m\u001b[37m\u001b[0m \u001b[1m1s\u001b[0m 2ms/step - accuracy: 0.5142 - loss: 1.1808 - val_accuracy: 0.5250 - val_loss: 1.1745\n",
            "Epoch 102/325\n",
            "\u001b[1m873/873\u001b[0m \u001b[32m━━━━━━━━━━━━━━━━━━━━\u001b[0m\u001b[37m\u001b[0m \u001b[1m2s\u001b[0m 1ms/step - accuracy: 0.5135 - loss: 1.1695 - val_accuracy: 0.5189 - val_loss: 1.1646\n",
            "Epoch 103/325\n",
            "\u001b[1m873/873\u001b[0m \u001b[32m━━━━━━━━━━━━━━━━━━━━\u001b[0m\u001b[37m\u001b[0m \u001b[1m3s\u001b[0m 1ms/step - accuracy: 0.5172 - loss: 1.1630 - val_accuracy: 0.4552 - val_loss: 1.1760\n",
            "Epoch 104/325\n",
            "\u001b[1m873/873\u001b[0m \u001b[32m━━━━━━━━━━━━━━━━━━━━\u001b[0m\u001b[37m\u001b[0m \u001b[1m1s\u001b[0m 1ms/step - accuracy: 0.5273 - loss: 1.1586 - val_accuracy: 0.5370 - val_loss: 1.1543\n",
            "Epoch 105/325\n",
            "\u001b[1m873/873\u001b[0m \u001b[32m━━━━━━━━━━━━━━━━━━━━\u001b[0m\u001b[37m\u001b[0m \u001b[1m2s\u001b[0m 2ms/step - accuracy: 0.5259 - loss: 1.1523 - val_accuracy: 0.5293 - val_loss: 1.1478\n",
            "Epoch 106/325\n",
            "\u001b[1m873/873\u001b[0m \u001b[32m━━━━━━━━━━━━━━━━━━━━\u001b[0m\u001b[37m\u001b[0m \u001b[1m3s\u001b[0m 2ms/step - accuracy: 0.5232 - loss: 1.1441 - val_accuracy: 0.5336 - val_loss: 1.1430\n",
            "Epoch 107/325\n",
            "\u001b[1m873/873\u001b[0m \u001b[32m━━━━━━━━━━━━━━━━━━━━\u001b[0m\u001b[37m\u001b[0m \u001b[1m1s\u001b[0m 1ms/step - accuracy: 0.5334 - loss: 1.1350 - val_accuracy: 0.5293 - val_loss: 1.1392\n",
            "Epoch 108/325\n",
            "\u001b[1m873/873\u001b[0m \u001b[32m━━━━━━━━━━━━━━━━━━━━\u001b[0m\u001b[37m\u001b[0m \u001b[1m3s\u001b[0m 1ms/step - accuracy: 0.5437 - loss: 1.1219 - val_accuracy: 0.5396 - val_loss: 1.1312\n",
            "Epoch 109/325\n",
            "\u001b[1m873/873\u001b[0m \u001b[32m━━━━━━━━━━━━━━━━━━━━\u001b[0m\u001b[37m\u001b[0m \u001b[1m1s\u001b[0m 1ms/step - accuracy: 0.5333 - loss: 1.1226 - val_accuracy: 0.5422 - val_loss: 1.1243\n",
            "Epoch 110/325\n",
            "\u001b[1m873/873\u001b[0m \u001b[32m━━━━━━━━━━━━━━━━━━━━\u001b[0m\u001b[37m\u001b[0m \u001b[1m3s\u001b[0m 1ms/step - accuracy: 0.5357 - loss: 1.1167 - val_accuracy: 0.5448 - val_loss: 1.1195\n",
            "Epoch 111/325\n",
            "\u001b[1m873/873\u001b[0m \u001b[32m━━━━━━━━━━━━━━━━━━━━\u001b[0m\u001b[37m\u001b[0m \u001b[1m1s\u001b[0m 1ms/step - accuracy: 0.5512 - loss: 1.1151 - val_accuracy: 0.5456 - val_loss: 1.1133\n",
            "Epoch 112/325\n",
            "\u001b[1m873/873\u001b[0m \u001b[32m━━━━━━━━━━━━━━━━━━━━\u001b[0m\u001b[37m\u001b[0m \u001b[1m3s\u001b[0m 2ms/step - accuracy: 0.5459 - loss: 1.1056 - val_accuracy: 0.5275 - val_loss: 1.1145\n",
            "Epoch 113/325\n",
            "\u001b[1m873/873\u001b[0m \u001b[32m━━━━━━━━━━━━━━━━━━━━\u001b[0m\u001b[37m\u001b[0m \u001b[1m2s\u001b[0m 2ms/step - accuracy: 0.5438 - loss: 1.0984 - val_accuracy: 0.5594 - val_loss: 1.1023\n",
            "Epoch 114/325\n",
            "\u001b[1m873/873\u001b[0m \u001b[32m━━━━━━━━━━━━━━━━━━━━\u001b[0m\u001b[37m\u001b[0m \u001b[1m3s\u001b[0m 2ms/step - accuracy: 0.5537 - loss: 1.0907 - val_accuracy: 0.5473 - val_loss: 1.1038\n",
            "Epoch 115/325\n",
            "\u001b[1m873/873\u001b[0m \u001b[32m━━━━━━━━━━━━━━━━━━━━\u001b[0m\u001b[37m\u001b[0m \u001b[1m2s\u001b[0m 1ms/step - accuracy: 0.5502 - loss: 1.0834 - val_accuracy: 0.5499 - val_loss: 1.0957\n",
            "Epoch 116/325\n",
            "\u001b[1m873/873\u001b[0m \u001b[32m━━━━━━━━━━━━━━━━━━━━\u001b[0m\u001b[37m\u001b[0m \u001b[1m3s\u001b[0m 1ms/step - accuracy: 0.5562 - loss: 1.0867 - val_accuracy: 0.5611 - val_loss: 1.0872\n",
            "Epoch 117/325\n",
            "\u001b[1m873/873\u001b[0m \u001b[32m━━━━━━━━━━━━━━━━━━━━\u001b[0m\u001b[37m\u001b[0m \u001b[1m2s\u001b[0m 2ms/step - accuracy: 0.5545 - loss: 1.0829 - val_accuracy: 0.5559 - val_loss: 1.0848\n",
            "Epoch 118/325\n",
            "\u001b[1m873/873\u001b[0m \u001b[32m━━━━━━━━━━━━━━━━━━━━\u001b[0m\u001b[37m\u001b[0m \u001b[1m3s\u001b[0m 2ms/step - accuracy: 0.5594 - loss: 1.0765 - val_accuracy: 0.5637 - val_loss: 1.0780\n",
            "Epoch 119/325\n",
            "\u001b[1m873/873\u001b[0m \u001b[32m━━━━━━━━━━━━━━━━━━━━\u001b[0m\u001b[37m\u001b[0m \u001b[1m2s\u001b[0m 2ms/step - accuracy: 0.5500 - loss: 1.0747 - val_accuracy: 0.5241 - val_loss: 1.0921\n",
            "Epoch 120/325\n",
            "\u001b[1m873/873\u001b[0m \u001b[32m━━━━━━━━━━━━━━━━━━━━\u001b[0m\u001b[37m\u001b[0m \u001b[1m2s\u001b[0m 1ms/step - accuracy: 0.5705 - loss: 1.0648 - val_accuracy: 0.5508 - val_loss: 1.0733\n",
            "Epoch 121/325\n",
            "\u001b[1m873/873\u001b[0m \u001b[32m━━━━━━━━━━━━━━━━━━━━\u001b[0m\u001b[37m\u001b[0m \u001b[1m1s\u001b[0m 2ms/step - accuracy: 0.5700 - loss: 1.0563 - val_accuracy: 0.5680 - val_loss: 1.0644\n",
            "Epoch 122/325\n",
            "\u001b[1m873/873\u001b[0m \u001b[32m━━━━━━━━━━━━━━━━━━━━\u001b[0m\u001b[37m\u001b[0m \u001b[1m2s\u001b[0m 1ms/step - accuracy: 0.5688 - loss: 1.0543 - val_accuracy: 0.5628 - val_loss: 1.0652\n",
            "Epoch 123/325\n",
            "\u001b[1m873/873\u001b[0m \u001b[32m━━━━━━━━━━━━━━━━━━━━\u001b[0m\u001b[37m\u001b[0m \u001b[1m2s\u001b[0m 2ms/step - accuracy: 0.5800 - loss: 1.0451 - val_accuracy: 0.5800 - val_loss: 1.0550\n",
            "Epoch 124/325\n",
            "\u001b[1m873/873\u001b[0m \u001b[32m━━━━━━━━━━━━━━━━━━━━\u001b[0m\u001b[37m\u001b[0m \u001b[1m3s\u001b[0m 2ms/step - accuracy: 0.5750 - loss: 1.0477 - val_accuracy: 0.5714 - val_loss: 1.0550\n",
            "Epoch 125/325\n",
            "\u001b[1m873/873\u001b[0m \u001b[32m━━━━━━━━━━━━━━━━━━━━\u001b[0m\u001b[37m\u001b[0m \u001b[1m1s\u001b[0m 1ms/step - accuracy: 0.5679 - loss: 1.0436 - val_accuracy: 0.5835 - val_loss: 1.0477\n",
            "Epoch 126/325\n",
            "\u001b[1m873/873\u001b[0m \u001b[32m━━━━━━━━━━━━━━━━━━━━\u001b[0m\u001b[37m\u001b[0m \u001b[1m3s\u001b[0m 2ms/step - accuracy: 0.5663 - loss: 1.0399 - val_accuracy: 0.5749 - val_loss: 1.0452\n",
            "Epoch 127/325\n",
            "\u001b[1m873/873\u001b[0m \u001b[32m━━━━━━━━━━━━━━━━━━━━\u001b[0m\u001b[37m\u001b[0m \u001b[1m2s\u001b[0m 1ms/step - accuracy: 0.5650 - loss: 1.0333 - val_accuracy: 0.5396 - val_loss: 1.0507\n",
            "Epoch 128/325\n",
            "\u001b[1m873/873\u001b[0m \u001b[32m━━━━━━━━━━━━━━━━━━━━\u001b[0m\u001b[37m\u001b[0m \u001b[1m1s\u001b[0m 2ms/step - accuracy: 0.5825 - loss: 1.0226 - val_accuracy: 0.5826 - val_loss: 1.0405\n",
            "Epoch 129/325\n",
            "\u001b[1m873/873\u001b[0m \u001b[32m━━━━━━━━━━━━━━━━━━━━\u001b[0m\u001b[37m\u001b[0m \u001b[1m3s\u001b[0m 2ms/step - accuracy: 0.5675 - loss: 1.0256 - val_accuracy: 0.5688 - val_loss: 1.0340\n",
            "Epoch 130/325\n",
            "\u001b[1m873/873\u001b[0m \u001b[32m━━━━━━━━━━━━━━━━━━━━\u001b[0m\u001b[37m\u001b[0m \u001b[1m2s\u001b[0m 2ms/step - accuracy: 0.5760 - loss: 1.0170 - val_accuracy: 0.5714 - val_loss: 1.0292\n",
            "Epoch 131/325\n",
            "\u001b[1m873/873\u001b[0m \u001b[32m━━━━━━━━━━━━━━━━━━━━\u001b[0m\u001b[37m\u001b[0m \u001b[1m2s\u001b[0m 1ms/step - accuracy: 0.5758 - loss: 1.0125 - val_accuracy: 0.5895 - val_loss: 1.0267\n",
            "Epoch 132/325\n",
            "\u001b[1m873/873\u001b[0m \u001b[32m━━━━━━━━━━━━━━━━━━━━\u001b[0m\u001b[37m\u001b[0m \u001b[1m1s\u001b[0m 1ms/step - accuracy: 0.5651 - loss: 1.0190 - val_accuracy: 0.5723 - val_loss: 1.0219\n",
            "Epoch 133/325\n",
            "\u001b[1m873/873\u001b[0m \u001b[32m━━━━━━━━━━━━━━━━━━━━\u001b[0m\u001b[37m\u001b[0m \u001b[1m1s\u001b[0m 1ms/step - accuracy: 0.5868 - loss: 1.0030 - val_accuracy: 0.5818 - val_loss: 1.0183\n",
            "Epoch 134/325\n",
            "\u001b[1m873/873\u001b[0m \u001b[32m━━━━━━━━━━━━━━━━━━━━\u001b[0m\u001b[37m\u001b[0m \u001b[1m3s\u001b[0m 1ms/step - accuracy: 0.5842 - loss: 0.9949 - val_accuracy: 0.5843 - val_loss: 1.0166\n",
            "Epoch 135/325\n",
            "\u001b[1m873/873\u001b[0m \u001b[32m━━━━━━━━━━━━━━━━━━━━\u001b[0m\u001b[37m\u001b[0m \u001b[1m3s\u001b[0m 2ms/step - accuracy: 0.5795 - loss: 1.0055 - val_accuracy: 0.5172 - val_loss: 1.0366\n",
            "Epoch 136/325\n",
            "\u001b[1m873/873\u001b[0m \u001b[32m━━━━━━━━━━━━━━━━━━━━\u001b[0m\u001b[37m\u001b[0m \u001b[1m3s\u001b[0m 2ms/step - accuracy: 0.5762 - loss: 1.0002 - val_accuracy: 0.5723 - val_loss: 1.0180\n",
            "Epoch 137/325\n",
            "\u001b[1m873/873\u001b[0m \u001b[32m━━━━━━━━━━━━━━━━━━━━\u001b[0m\u001b[37m\u001b[0m \u001b[1m2s\u001b[0m 1ms/step - accuracy: 0.5760 - loss: 1.0089 - val_accuracy: 0.5731 - val_loss: 1.0079\n",
            "Epoch 138/325\n",
            "\u001b[1m873/873\u001b[0m \u001b[32m━━━━━━━━━━━━━━━━━━━━\u001b[0m\u001b[37m\u001b[0m \u001b[1m3s\u001b[0m 1ms/step - accuracy: 0.5794 - loss: 0.9956 - val_accuracy: 0.5809 - val_loss: 1.0077\n",
            "Epoch 139/325\n",
            "\u001b[1m873/873\u001b[0m \u001b[32m━━━━━━━━━━━━━━━━━━━━\u001b[0m\u001b[37m\u001b[0m \u001b[1m1s\u001b[0m 1ms/step - accuracy: 0.5855 - loss: 0.9997 - val_accuracy: 0.5714 - val_loss: 1.0042\n",
            "Epoch 140/325\n",
            "\u001b[1m873/873\u001b[0m \u001b[32m━━━━━━━━━━━━━━━━━━━━\u001b[0m\u001b[37m\u001b[0m \u001b[1m1s\u001b[0m 2ms/step - accuracy: 0.5836 - loss: 0.9838 - val_accuracy: 0.5439 - val_loss: 1.0168\n",
            "Epoch 141/325\n",
            "\u001b[1m873/873\u001b[0m \u001b[32m━━━━━━━━━━━━━━━━━━━━\u001b[0m\u001b[37m\u001b[0m \u001b[1m3s\u001b[0m 2ms/step - accuracy: 0.5904 - loss: 0.9850 - val_accuracy: 0.6015 - val_loss: 0.9953\n",
            "Epoch 142/325\n",
            "\u001b[1m873/873\u001b[0m \u001b[32m━━━━━━━━━━━━━━━━━━━━\u001b[0m\u001b[37m\u001b[0m \u001b[1m3s\u001b[0m 2ms/step - accuracy: 0.5961 - loss: 0.9773 - val_accuracy: 0.5370 - val_loss: 1.0116\n",
            "Epoch 143/325\n",
            "\u001b[1m873/873\u001b[0m \u001b[32m━━━━━━━━━━━━━━━━━━━━\u001b[0m\u001b[37m\u001b[0m \u001b[1m1s\u001b[0m 2ms/step - accuracy: 0.5959 - loss: 0.9750 - val_accuracy: 0.5904 - val_loss: 0.9940\n",
            "Epoch 144/325\n",
            "\u001b[1m873/873\u001b[0m \u001b[32m━━━━━━━━━━━━━━━━━━━━\u001b[0m\u001b[37m\u001b[0m \u001b[1m2s\u001b[0m 1ms/step - accuracy: 0.5934 - loss: 0.9701 - val_accuracy: 0.6059 - val_loss: 0.9843\n",
            "Epoch 145/325\n",
            "\u001b[1m873/873\u001b[0m \u001b[32m━━━━━━━━━━━━━━━━━━━━\u001b[0m\u001b[37m\u001b[0m \u001b[1m3s\u001b[0m 1ms/step - accuracy: 0.5992 - loss: 0.9720 - val_accuracy: 0.5594 - val_loss: 0.9881\n",
            "Epoch 146/325\n",
            "\u001b[1m873/873\u001b[0m \u001b[32m━━━━━━━━━━━━━━━━━━━━\u001b[0m\u001b[37m\u001b[0m \u001b[1m3s\u001b[0m 2ms/step - accuracy: 0.5922 - loss: 0.9775 - val_accuracy: 0.5947 - val_loss: 0.9777\n",
            "Epoch 147/325\n",
            "\u001b[1m873/873\u001b[0m \u001b[32m━━━━━━━━━━━━━━━━━━━━\u001b[0m\u001b[37m\u001b[0m \u001b[1m3s\u001b[0m 2ms/step - accuracy: 0.5895 - loss: 0.9653 - val_accuracy: 0.4664 - val_loss: 1.0308\n",
            "Epoch 148/325\n",
            "\u001b[1m873/873\u001b[0m \u001b[32m━━━━━━━━━━━━━━━━━━━━\u001b[0m\u001b[37m\u001b[0m \u001b[1m2s\u001b[0m 2ms/step - accuracy: 0.5953 - loss: 0.9533 - val_accuracy: 0.6093 - val_loss: 0.9729\n",
            "Epoch 149/325\n",
            "\u001b[1m873/873\u001b[0m \u001b[32m━━━━━━━━━━━━━━━━━━━━\u001b[0m\u001b[37m\u001b[0m \u001b[1m2s\u001b[0m 1ms/step - accuracy: 0.5920 - loss: 0.9566 - val_accuracy: 0.5628 - val_loss: 0.9876\n",
            "Epoch 150/325\n",
            "\u001b[1m873/873\u001b[0m \u001b[32m━━━━━━━━━━━━━━━━━━━━\u001b[0m\u001b[37m\u001b[0m \u001b[1m1s\u001b[0m 2ms/step - accuracy: 0.6034 - loss: 0.9533 - val_accuracy: 0.6007 - val_loss: 0.9664\n",
            "Epoch 151/325\n",
            "\u001b[1m873/873\u001b[0m \u001b[32m━━━━━━━━━━━━━━━━━━━━\u001b[0m\u001b[37m\u001b[0m \u001b[1m2s\u001b[0m 1ms/step - accuracy: 0.5982 - loss: 0.9562 - val_accuracy: 0.3709 - val_loss: 1.1253\n",
            "Epoch 152/325\n",
            "\u001b[1m873/873\u001b[0m \u001b[32m━━━━━━━━━━━━━━━━━━━━\u001b[0m\u001b[37m\u001b[0m \u001b[1m1s\u001b[0m 1ms/step - accuracy: 0.6025 - loss: 0.9540 - val_accuracy: 0.5947 - val_loss: 0.9618\n",
            "Epoch 153/325\n",
            "\u001b[1m873/873\u001b[0m \u001b[32m━━━━━━━━━━━━━━━━━━━━\u001b[0m\u001b[37m\u001b[0m \u001b[1m2s\u001b[0m 2ms/step - accuracy: 0.5919 - loss: 0.9518 - val_accuracy: 0.5723 - val_loss: 0.9635\n",
            "Epoch 154/325\n",
            "\u001b[1m873/873\u001b[0m \u001b[32m━━━━━━━━━━━━━━━━━━━━\u001b[0m\u001b[37m\u001b[0m \u001b[1m3s\u001b[0m 2ms/step - accuracy: 0.5972 - loss: 0.9557 - val_accuracy: 0.5981 - val_loss: 0.9583\n",
            "Epoch 155/325\n",
            "\u001b[1m873/873\u001b[0m \u001b[32m━━━━━━━━━━━━━━━━━━━━\u001b[0m\u001b[37m\u001b[0m \u001b[1m2s\u001b[0m 2ms/step - accuracy: 0.5993 - loss: 0.9407 - val_accuracy: 0.5336 - val_loss: 0.9755\n",
            "Epoch 156/325\n",
            "\u001b[1m873/873\u001b[0m \u001b[32m━━━━━━━━━━━━━━━━━━━━\u001b[0m\u001b[37m\u001b[0m \u001b[1m2s\u001b[0m 1ms/step - accuracy: 0.6067 - loss: 0.9438 - val_accuracy: 0.6205 - val_loss: 0.9550\n",
            "Epoch 157/325\n",
            "\u001b[1m873/873\u001b[0m \u001b[32m━━━━━━━━━━━━━━━━━━━━\u001b[0m\u001b[37m\u001b[0m \u001b[1m1s\u001b[0m 2ms/step - accuracy: 0.6058 - loss: 0.9394 - val_accuracy: 0.5861 - val_loss: 0.9526\n",
            "Epoch 158/325\n",
            "\u001b[1m873/873\u001b[0m \u001b[32m━━━━━━━━━━━━━━━━━━━━\u001b[0m\u001b[37m\u001b[0m \u001b[1m2s\u001b[0m 1ms/step - accuracy: 0.6012 - loss: 0.9360 - val_accuracy: 0.5749 - val_loss: 0.9683\n",
            "Epoch 159/325\n",
            "\u001b[1m873/873\u001b[0m \u001b[32m━━━━━━━━━━━━━━━━━━━━\u001b[0m\u001b[37m\u001b[0m \u001b[1m3s\u001b[0m 2ms/step - accuracy: 0.6105 - loss: 0.9321 - val_accuracy: 0.5602 - val_loss: 0.9531\n",
            "Epoch 160/325\n",
            "\u001b[1m873/873\u001b[0m \u001b[32m━━━━━━━━━━━━━━━━━━━━\u001b[0m\u001b[37m\u001b[0m \u001b[1m2s\u001b[0m 2ms/step - accuracy: 0.6079 - loss: 0.9307 - val_accuracy: 0.6084 - val_loss: 0.9459\n",
            "Epoch 161/325\n",
            "\u001b[1m873/873\u001b[0m \u001b[32m━━━━━━━━━━━━━━━━━━━━\u001b[0m\u001b[37m\u001b[0m \u001b[1m1s\u001b[0m 1ms/step - accuracy: 0.5974 - loss: 0.9375 - val_accuracy: 0.6050 - val_loss: 0.9526\n",
            "Epoch 162/325\n",
            "\u001b[1m873/873\u001b[0m \u001b[32m━━━━━━━━━━━━━━━━━━━━\u001b[0m\u001b[37m\u001b[0m \u001b[1m1s\u001b[0m 1ms/step - accuracy: 0.6033 - loss: 0.9302 - val_accuracy: 0.5448 - val_loss: 0.9555\n",
            "Epoch 163/325\n",
            "\u001b[1m873/873\u001b[0m \u001b[32m━━━━━━━━━━━━━━━━━━━━\u001b[0m\u001b[37m\u001b[0m \u001b[1m3s\u001b[0m 2ms/step - accuracy: 0.6074 - loss: 0.9210 - val_accuracy: 0.6059 - val_loss: 0.9539\n",
            "Epoch 164/325\n",
            "\u001b[1m873/873\u001b[0m \u001b[32m━━━━━━━━━━━━━━━━━━━━\u001b[0m\u001b[37m\u001b[0m \u001b[1m1s\u001b[0m 1ms/step - accuracy: 0.6058 - loss: 0.9175 - val_accuracy: 0.6239 - val_loss: 0.9317\n",
            "Epoch 165/325\n",
            "\u001b[1m873/873\u001b[0m \u001b[32m━━━━━━━━━━━━━━━━━━━━\u001b[0m\u001b[37m\u001b[0m \u001b[1m3s\u001b[0m 1ms/step - accuracy: 0.6121 - loss: 0.9224 - val_accuracy: 0.6067 - val_loss: 0.9450\n",
            "Epoch 166/325\n",
            "\u001b[1m873/873\u001b[0m \u001b[32m━━━━━━━━━━━━━━━━━━━━\u001b[0m\u001b[37m\u001b[0m \u001b[1m2s\u001b[0m 2ms/step - accuracy: 0.6062 - loss: 0.9188 - val_accuracy: 0.6205 - val_loss: 0.9287\n",
            "Epoch 167/325\n",
            "\u001b[1m873/873\u001b[0m \u001b[32m━━━━━━━━━━━━━━━━━━━━\u001b[0m\u001b[37m\u001b[0m \u001b[1m2s\u001b[0m 2ms/step - accuracy: 0.6066 - loss: 0.9210 - val_accuracy: 0.5783 - val_loss: 0.9320\n",
            "Epoch 168/325\n",
            "\u001b[1m873/873\u001b[0m \u001b[32m━━━━━━━━━━━━━━━━━━━━\u001b[0m\u001b[37m\u001b[0m \u001b[1m2s\u001b[0m 1ms/step - accuracy: 0.6152 - loss: 0.9090 - val_accuracy: 0.5886 - val_loss: 0.9260\n",
            "Epoch 169/325\n",
            "\u001b[1m873/873\u001b[0m \u001b[32m━━━━━━━━━━━━━━━━━━━━\u001b[0m\u001b[37m\u001b[0m \u001b[1m3s\u001b[0m 1ms/step - accuracy: 0.6060 - loss: 0.9207 - val_accuracy: 0.5594 - val_loss: 0.9420\n",
            "Epoch 170/325\n",
            "\u001b[1m873/873\u001b[0m \u001b[32m━━━━━━━━━━━━━━━━━━━━\u001b[0m\u001b[37m\u001b[0m \u001b[1m1s\u001b[0m 2ms/step - accuracy: 0.6154 - loss: 0.9046 - val_accuracy: 0.5559 - val_loss: 0.9376\n",
            "Epoch 171/325\n",
            "\u001b[1m873/873\u001b[0m \u001b[32m━━━━━━━━━━━━━━━━━━━━\u001b[0m\u001b[37m\u001b[0m \u001b[1m2s\u001b[0m 1ms/step - accuracy: 0.6122 - loss: 0.9028 - val_accuracy: 0.6248 - val_loss: 0.9237\n",
            "Epoch 172/325\n",
            "\u001b[1m873/873\u001b[0m \u001b[32m━━━━━━━━━━━━━━━━━━━━\u001b[0m\u001b[37m\u001b[0m \u001b[1m1s\u001b[0m 2ms/step - accuracy: 0.6209 - loss: 0.8924 - val_accuracy: 0.5981 - val_loss: 0.9161\n",
            "Epoch 173/325\n",
            "\u001b[1m873/873\u001b[0m \u001b[32m━━━━━━━━━━━━━━━━━━━━\u001b[0m\u001b[37m\u001b[0m \u001b[1m3s\u001b[0m 2ms/step - accuracy: 0.6090 - loss: 0.9111 - val_accuracy: 0.5998 - val_loss: 0.9124\n",
            "Epoch 174/325\n",
            "\u001b[1m873/873\u001b[0m \u001b[32m━━━━━━━━━━━━━━━━━━━━\u001b[0m\u001b[37m\u001b[0m \u001b[1m1s\u001b[0m 2ms/step - accuracy: 0.6165 - loss: 0.9017 - val_accuracy: 0.6343 - val_loss: 0.9142\n",
            "Epoch 175/325\n",
            "\u001b[1m873/873\u001b[0m \u001b[32m━━━━━━━━━━━━━━━━━━━━\u001b[0m\u001b[37m\u001b[0m \u001b[1m3s\u001b[0m 2ms/step - accuracy: 0.6117 - loss: 0.9042 - val_accuracy: 0.5981 - val_loss: 0.9164\n",
            "Epoch 176/325\n",
            "\u001b[1m873/873\u001b[0m \u001b[32m━━━━━━━━━━━━━━━━━━━━\u001b[0m\u001b[37m\u001b[0m \u001b[1m2s\u001b[0m 2ms/step - accuracy: 0.6207 - loss: 0.9098 - val_accuracy: 0.5516 - val_loss: 0.9410\n",
            "Epoch 177/325\n",
            "\u001b[1m873/873\u001b[0m \u001b[32m━━━━━━━━━━━━━━━━━━━━\u001b[0m\u001b[37m\u001b[0m \u001b[1m3s\u001b[0m 2ms/step - accuracy: 0.6160 - loss: 0.9012 - val_accuracy: 0.5594 - val_loss: 0.9260\n",
            "Epoch 178/325\n",
            "\u001b[1m873/873\u001b[0m \u001b[32m━━━━━━━━━━━━━━━━━━━━\u001b[0m\u001b[37m\u001b[0m \u001b[1m2s\u001b[0m 3ms/step - accuracy: 0.6300 - loss: 0.8921 - val_accuracy: 0.6351 - val_loss: 0.9082\n",
            "Epoch 179/325\n",
            "\u001b[1m873/873\u001b[0m \u001b[32m━━━━━━━━━━━━━━━━━━━━\u001b[0m\u001b[37m\u001b[0m \u001b[1m2s\u001b[0m 2ms/step - accuracy: 0.6164 - loss: 0.8903 - val_accuracy: 0.5731 - val_loss: 0.9270\n",
            "Epoch 180/325\n",
            "\u001b[1m873/873\u001b[0m \u001b[32m━━━━━━━━━━━━━━━━━━━━\u001b[0m\u001b[37m\u001b[0m \u001b[1m2s\u001b[0m 2ms/step - accuracy: 0.6222 - loss: 0.8813 - val_accuracy: 0.5499 - val_loss: 0.9232\n",
            "Epoch 181/325\n",
            "\u001b[1m873/873\u001b[0m \u001b[32m━━━━━━━━━━━━━━━━━━━━\u001b[0m\u001b[37m\u001b[0m \u001b[1m2s\u001b[0m 1ms/step - accuracy: 0.6154 - loss: 0.8840 - val_accuracy: 0.6377 - val_loss: 0.9125\n",
            "Epoch 182/325\n",
            "\u001b[1m873/873\u001b[0m \u001b[32m━━━━━━━━━━━━━━━━━━━━\u001b[0m\u001b[37m\u001b[0m \u001b[1m3s\u001b[0m 2ms/step - accuracy: 0.6251 - loss: 0.8861 - val_accuracy: 0.5671 - val_loss: 0.9153\n",
            "Epoch 183/325\n",
            "\u001b[1m873/873\u001b[0m \u001b[32m━━━━━━━━━━━━━━━━━━━━\u001b[0m\u001b[37m\u001b[0m \u001b[1m3s\u001b[0m 2ms/step - accuracy: 0.6172 - loss: 0.8775 - val_accuracy: 0.6231 - val_loss: 0.8965\n",
            "Epoch 184/325\n",
            "\u001b[1m873/873\u001b[0m \u001b[32m━━━━━━━━━━━━━━━━━━━━\u001b[0m\u001b[37m\u001b[0m \u001b[1m2s\u001b[0m 2ms/step - accuracy: 0.6123 - loss: 0.8799 - val_accuracy: 0.6325 - val_loss: 0.8935\n",
            "Epoch 185/325\n",
            "\u001b[1m873/873\u001b[0m \u001b[32m━━━━━━━━━━━━━━━━━━━━\u001b[0m\u001b[37m\u001b[0m \u001b[1m2s\u001b[0m 2ms/step - accuracy: 0.6182 - loss: 0.8722 - val_accuracy: 0.6351 - val_loss: 0.8955\n",
            "Epoch 186/325\n",
            "\u001b[1m873/873\u001b[0m \u001b[32m━━━━━━━━━━━━━━━━━━━━\u001b[0m\u001b[37m\u001b[0m \u001b[1m2s\u001b[0m 2ms/step - accuracy: 0.6138 - loss: 0.8814 - val_accuracy: 0.5964 - val_loss: 0.9016\n",
            "Epoch 187/325\n",
            "\u001b[1m873/873\u001b[0m \u001b[32m━━━━━━━━━━━━━━━━━━━━\u001b[0m\u001b[37m\u001b[0m \u001b[1m3s\u001b[0m 2ms/step - accuracy: 0.6232 - loss: 0.8706 - val_accuracy: 0.6429 - val_loss: 0.8939\n",
            "Epoch 188/325\n",
            "\u001b[1m873/873\u001b[0m \u001b[32m━━━━━━━━━━━━━━━━━━━━\u001b[0m\u001b[37m\u001b[0m \u001b[1m1s\u001b[0m 1ms/step - accuracy: 0.6269 - loss: 0.8785 - val_accuracy: 0.6067 - val_loss: 0.8839\n",
            "Epoch 189/325\n",
            "\u001b[1m873/873\u001b[0m \u001b[32m━━━━━━━━━━━━━━━━━━━━\u001b[0m\u001b[37m\u001b[0m \u001b[1m3s\u001b[0m 1ms/step - accuracy: 0.6152 - loss: 0.8820 - val_accuracy: 0.4028 - val_loss: 1.1181\n",
            "Epoch 190/325\n",
            "\u001b[1m873/873\u001b[0m \u001b[32m━━━━━━━━━━━━━━━━━━━━\u001b[0m\u001b[37m\u001b[0m \u001b[1m1s\u001b[0m 2ms/step - accuracy: 0.6260 - loss: 0.8627 - val_accuracy: 0.6317 - val_loss: 0.8808\n",
            "Epoch 191/325\n",
            "\u001b[1m873/873\u001b[0m \u001b[32m━━━━━━━━━━━━━━━━━━━━\u001b[0m\u001b[37m\u001b[0m \u001b[1m3s\u001b[0m 2ms/step - accuracy: 0.6266 - loss: 0.8728 - val_accuracy: 0.6489 - val_loss: 0.8847\n",
            "Epoch 192/325\n",
            "\u001b[1m873/873\u001b[0m \u001b[32m━━━━━━━━━━━━━━━━━━━━\u001b[0m\u001b[37m\u001b[0m \u001b[1m2s\u001b[0m 3ms/step - accuracy: 0.6255 - loss: 0.8557 - val_accuracy: 0.5775 - val_loss: 0.8886\n",
            "Epoch 193/325\n",
            "\u001b[1m873/873\u001b[0m \u001b[32m━━━━━━━━━━━━━━━━━━━━\u001b[0m\u001b[37m\u001b[0m \u001b[1m2s\u001b[0m 2ms/step - accuracy: 0.6298 - loss: 0.8569 - val_accuracy: 0.5826 - val_loss: 0.8829\n",
            "Epoch 194/325\n",
            "\u001b[1m873/873\u001b[0m \u001b[32m━━━━━━━━━━━━━━━━━━━━\u001b[0m\u001b[37m\u001b[0m \u001b[1m2s\u001b[0m 2ms/step - accuracy: 0.6236 - loss: 0.8627 - val_accuracy: 0.4363 - val_loss: 1.0244\n",
            "Epoch 195/325\n",
            "\u001b[1m873/873\u001b[0m \u001b[32m━━━━━━━━━━━━━━━━━━━━\u001b[0m\u001b[37m\u001b[0m \u001b[1m2s\u001b[0m 1ms/step - accuracy: 0.6200 - loss: 0.8666 - val_accuracy: 0.6351 - val_loss: 0.8719\n",
            "Epoch 196/325\n",
            "\u001b[1m873/873\u001b[0m \u001b[32m━━━━━━━━━━━━━━━━━━━━\u001b[0m\u001b[37m\u001b[0m \u001b[1m1s\u001b[0m 2ms/step - accuracy: 0.6231 - loss: 0.8651 - val_accuracy: 0.6489 - val_loss: 0.8770\n",
            "Epoch 197/325\n",
            "\u001b[1m873/873\u001b[0m \u001b[32m━━━━━━━━━━━━━━━━━━━━\u001b[0m\u001b[37m\u001b[0m \u001b[1m2s\u001b[0m 2ms/step - accuracy: 0.6366 - loss: 0.8507 - val_accuracy: 0.5895 - val_loss: 0.8763\n",
            "Epoch 198/325\n",
            "\u001b[1m873/873\u001b[0m \u001b[32m━━━━━━━━━━━━━━━━━━━━\u001b[0m\u001b[37m\u001b[0m \u001b[1m3s\u001b[0m 2ms/step - accuracy: 0.6208 - loss: 0.8475 - val_accuracy: 0.4587 - val_loss: 0.9637\n",
            "Epoch 199/325\n",
            "\u001b[1m873/873\u001b[0m \u001b[32m━━━━━━━━━━━━━━━━━━━━\u001b[0m\u001b[37m\u001b[0m \u001b[1m2s\u001b[0m 2ms/step - accuracy: 0.6116 - loss: 0.8753 - val_accuracy: 0.6102 - val_loss: 0.8635\n",
            "Epoch 200/325\n",
            "\u001b[1m873/873\u001b[0m \u001b[32m━━━━━━━━━━━━━━━━━━━━\u001b[0m\u001b[37m\u001b[0m \u001b[1m2s\u001b[0m 2ms/step - accuracy: 0.6172 - loss: 0.8485 - val_accuracy: 0.6291 - val_loss: 0.8613\n",
            "Epoch 201/325\n",
            "\u001b[1m873/873\u001b[0m \u001b[32m━━━━━━━━━━━━━━━━━━━━\u001b[0m\u001b[37m\u001b[0m \u001b[1m1s\u001b[0m 2ms/step - accuracy: 0.6180 - loss: 0.8497 - val_accuracy: 0.6291 - val_loss: 0.8552\n",
            "Epoch 202/325\n",
            "\u001b[1m873/873\u001b[0m \u001b[32m━━━━━━━━━━━━━━━━━━━━\u001b[0m\u001b[37m\u001b[0m \u001b[1m3s\u001b[0m 2ms/step - accuracy: 0.6257 - loss: 0.8454 - val_accuracy: 0.6540 - val_loss: 0.8617\n",
            "Epoch 203/325\n",
            "\u001b[1m873/873\u001b[0m \u001b[32m━━━━━━━━━━━━━━━━━━━━\u001b[0m\u001b[37m\u001b[0m \u001b[1m3s\u001b[0m 2ms/step - accuracy: 0.6155 - loss: 0.8482 - val_accuracy: 0.4535 - val_loss: 1.0099\n",
            "Epoch 204/325\n",
            "\u001b[1m873/873\u001b[0m \u001b[32m━━━━━━━━━━━━━━━━━━━━\u001b[0m\u001b[37m\u001b[0m \u001b[1m2s\u001b[0m 2ms/step - accuracy: 0.6185 - loss: 0.8509 - val_accuracy: 0.6239 - val_loss: 0.8615\n",
            "Epoch 205/325\n",
            "\u001b[1m873/873\u001b[0m \u001b[32m━━━━━━━━━━━━━━━━━━━━\u001b[0m\u001b[37m\u001b[0m \u001b[1m2s\u001b[0m 2ms/step - accuracy: 0.6300 - loss: 0.8400 - val_accuracy: 0.5680 - val_loss: 0.8791\n",
            "Epoch 206/325\n",
            "\u001b[1m873/873\u001b[0m \u001b[32m━━━━━━━━━━━━━━━━━━━━\u001b[0m\u001b[37m\u001b[0m \u001b[1m3s\u001b[0m 2ms/step - accuracy: 0.6237 - loss: 0.8398 - val_accuracy: 0.6497 - val_loss: 0.8460\n",
            "Epoch 207/325\n",
            "\u001b[1m873/873\u001b[0m \u001b[32m━━━━━━━━━━━━━━━━━━━━\u001b[0m\u001b[37m\u001b[0m \u001b[1m1s\u001b[0m 1ms/step - accuracy: 0.6217 - loss: 0.8488 - val_accuracy: 0.6299 - val_loss: 0.8581\n",
            "Epoch 208/325\n",
            "\u001b[1m873/873\u001b[0m \u001b[32m━━━━━━━━━━━━━━━━━━━━\u001b[0m\u001b[37m\u001b[0m \u001b[1m3s\u001b[0m 2ms/step - accuracy: 0.6262 - loss: 0.8484 - val_accuracy: 0.6403 - val_loss: 0.8444\n",
            "Epoch 209/325\n",
            "\u001b[1m873/873\u001b[0m \u001b[32m━━━━━━━━━━━━━━━━━━━━\u001b[0m\u001b[37m\u001b[0m \u001b[1m3s\u001b[0m 2ms/step - accuracy: 0.6343 - loss: 0.8258 - val_accuracy: 0.6334 - val_loss: 0.8425\n",
            "Epoch 210/325\n",
            "\u001b[1m873/873\u001b[0m \u001b[32m━━━━━━━━━━━━━━━━━━━━\u001b[0m\u001b[37m\u001b[0m \u001b[1m3s\u001b[0m 2ms/step - accuracy: 0.6212 - loss: 0.8353 - val_accuracy: 0.5688 - val_loss: 0.8745\n",
            "Epoch 211/325\n",
            "\u001b[1m873/873\u001b[0m \u001b[32m━━━━━━━━━━━━━━━━━━━━\u001b[0m\u001b[37m\u001b[0m \u001b[1m1s\u001b[0m 2ms/step - accuracy: 0.6195 - loss: 0.8400 - val_accuracy: 0.4991 - val_loss: 0.9329\n",
            "Epoch 212/325\n",
            "\u001b[1m873/873\u001b[0m \u001b[32m━━━━━━━━━━━━━━━━━━━━\u001b[0m\u001b[37m\u001b[0m \u001b[1m1s\u001b[0m 1ms/step - accuracy: 0.6273 - loss: 0.8316 - val_accuracy: 0.5955 - val_loss: 0.8538\n",
            "Epoch 213/325\n",
            "\u001b[1m873/873\u001b[0m \u001b[32m━━━━━━━━━━━━━━━━━━━━\u001b[0m\u001b[37m\u001b[0m \u001b[1m1s\u001b[0m 1ms/step - accuracy: 0.6374 - loss: 0.8299 - val_accuracy: 0.6076 - val_loss: 0.8480\n",
            "Epoch 214/325\n",
            "\u001b[1m873/873\u001b[0m \u001b[32m━━━━━━━━━━━━━━━━━━━━\u001b[0m\u001b[37m\u001b[0m \u001b[1m1s\u001b[0m 2ms/step - accuracy: 0.6223 - loss: 0.8304 - val_accuracy: 0.5585 - val_loss: 0.8757\n",
            "Epoch 215/325\n",
            "\u001b[1m873/873\u001b[0m \u001b[32m━━━━━━━━━━━━━━━━━━━━\u001b[0m\u001b[37m\u001b[0m \u001b[1m1s\u001b[0m 2ms/step - accuracy: 0.6323 - loss: 0.8261 - val_accuracy: 0.6222 - val_loss: 0.8626\n",
            "Epoch 216/325\n",
            "\u001b[1m873/873\u001b[0m \u001b[32m━━━━━━━━━━━━━━━━━━━━\u001b[0m\u001b[37m\u001b[0m \u001b[1m3s\u001b[0m 2ms/step - accuracy: 0.6262 - loss: 0.8174 - val_accuracy: 0.6179 - val_loss: 0.8469\n",
            "Epoch 217/325\n",
            "\u001b[1m873/873\u001b[0m \u001b[32m━━━━━━━━━━━━━━━━━━━━\u001b[0m\u001b[37m\u001b[0m \u001b[1m2s\u001b[0m 2ms/step - accuracy: 0.6204 - loss: 0.8411 - val_accuracy: 0.6368 - val_loss: 0.8459\n",
            "Epoch 218/325\n",
            "\u001b[1m873/873\u001b[0m \u001b[32m━━━━━━━━━━━━━━━━━━━━\u001b[0m\u001b[37m\u001b[0m \u001b[1m2s\u001b[0m 2ms/step - accuracy: 0.6263 - loss: 0.8222 - val_accuracy: 0.4174 - val_loss: 1.1140\n",
            "Epoch 219/325\n",
            "\u001b[1m873/873\u001b[0m \u001b[32m━━━━━━━━━━━━━━━━━━━━\u001b[0m\u001b[37m\u001b[0m \u001b[1m2s\u001b[0m 2ms/step - accuracy: 0.6166 - loss: 0.8230 - val_accuracy: 0.5172 - val_loss: 0.9229\n",
            "Epoch 220/325\n",
            "\u001b[1m873/873\u001b[0m \u001b[32m━━━━━━━━━━━━━━━━━━━━\u001b[0m\u001b[37m\u001b[0m \u001b[1m1s\u001b[0m 2ms/step - accuracy: 0.6233 - loss: 0.8214 - val_accuracy: 0.6291 - val_loss: 0.8390\n",
            "Epoch 221/325\n",
            "\u001b[1m873/873\u001b[0m \u001b[32m━━━━━━━━━━━━━━━━━━━━\u001b[0m\u001b[37m\u001b[0m \u001b[1m3s\u001b[0m 2ms/step - accuracy: 0.6318 - loss: 0.8200 - val_accuracy: 0.6127 - val_loss: 0.8766\n",
            "Epoch 222/325\n",
            "\u001b[1m873/873\u001b[0m \u001b[32m━━━━━━━━━━━━━━━━━━━━\u001b[0m\u001b[37m\u001b[0m \u001b[1m1s\u001b[0m 2ms/step - accuracy: 0.6281 - loss: 0.8152 - val_accuracy: 0.6437 - val_loss: 0.8219\n",
            "Epoch 223/325\n",
            "\u001b[1m873/873\u001b[0m \u001b[32m━━━━━━━━━━━━━━━━━━━━\u001b[0m\u001b[37m\u001b[0m \u001b[1m3s\u001b[0m 2ms/step - accuracy: 0.6283 - loss: 0.8204 - val_accuracy: 0.6351 - val_loss: 0.8225\n",
            "Epoch 224/325\n",
            "\u001b[1m873/873\u001b[0m \u001b[32m━━━━━━━━━━━━━━━━━━━━\u001b[0m\u001b[37m\u001b[0m \u001b[1m2s\u001b[0m 2ms/step - accuracy: 0.6328 - loss: 0.8236 - val_accuracy: 0.4570 - val_loss: 1.0477\n",
            "Epoch 225/325\n",
            "\u001b[1m873/873\u001b[0m \u001b[32m━━━━━━━━━━━━━━━━━━━━\u001b[0m\u001b[37m\u001b[0m \u001b[1m2s\u001b[0m 2ms/step - accuracy: 0.6160 - loss: 0.8206 - val_accuracy: 0.6248 - val_loss: 0.8276\n",
            "Epoch 226/325\n",
            "\u001b[1m873/873\u001b[0m \u001b[32m━━━━━━━━━━━━━━━━━━━━\u001b[0m\u001b[37m\u001b[0m \u001b[1m1s\u001b[0m 2ms/step - accuracy: 0.6161 - loss: 0.8248 - val_accuracy: 0.5370 - val_loss: 0.8949\n",
            "Epoch 227/325\n",
            "\u001b[1m873/873\u001b[0m \u001b[32m━━━━━━━━━━━━━━━━━━━━\u001b[0m\u001b[37m\u001b[0m \u001b[1m3s\u001b[0m 2ms/step - accuracy: 0.6383 - loss: 0.8247 - val_accuracy: 0.5878 - val_loss: 0.8782\n",
            "Epoch 228/325\n",
            "\u001b[1m873/873\u001b[0m \u001b[32m━━━━━━━━━━━━━━━━━━━━\u001b[0m\u001b[37m\u001b[0m \u001b[1m2s\u001b[0m 2ms/step - accuracy: 0.6315 - loss: 0.8139 - val_accuracy: 0.6343 - val_loss: 0.8527\n",
            "Epoch 229/325\n",
            "\u001b[1m873/873\u001b[0m \u001b[32m━━━━━━━━━━━━━━━━━━━━\u001b[0m\u001b[37m\u001b[0m \u001b[1m1s\u001b[0m 2ms/step - accuracy: 0.6250 - loss: 0.8149 - val_accuracy: 0.6007 - val_loss: 0.8274\n",
            "Epoch 230/325\n",
            "\u001b[1m873/873\u001b[0m \u001b[32m━━━━━━━━━━━━━━━━━━━━\u001b[0m\u001b[37m\u001b[0m \u001b[1m3s\u001b[0m 2ms/step - accuracy: 0.6236 - loss: 0.8095 - val_accuracy: 0.6558 - val_loss: 0.8287\n",
            "Epoch 231/325\n",
            "\u001b[1m873/873\u001b[0m \u001b[32m━━━━━━━━━━━━━━━━━━━━\u001b[0m\u001b[37m\u001b[0m \u001b[1m2s\u001b[0m 2ms/step - accuracy: 0.6297 - loss: 0.8186 - val_accuracy: 0.6489 - val_loss: 0.8285\n",
            "Epoch 232/325\n",
            "\u001b[1m873/873\u001b[0m \u001b[32m━━━━━━━━━━━━━━━━━━━━\u001b[0m\u001b[37m\u001b[0m \u001b[1m1s\u001b[0m 2ms/step - accuracy: 0.6321 - loss: 0.8016 - val_accuracy: 0.6575 - val_loss: 0.8172\n",
            "Epoch 233/325\n",
            "\u001b[1m873/873\u001b[0m \u001b[32m━━━━━━━━━━━━━━━━━━━━\u001b[0m\u001b[37m\u001b[0m \u001b[1m2s\u001b[0m 1ms/step - accuracy: 0.6280 - loss: 0.8090 - val_accuracy: 0.6497 - val_loss: 0.8059\n",
            "Epoch 234/325\n",
            "\u001b[1m873/873\u001b[0m \u001b[32m━━━━━━━━━━━━━━━━━━━━\u001b[0m\u001b[37m\u001b[0m \u001b[1m3s\u001b[0m 2ms/step - accuracy: 0.6365 - loss: 0.7913 - val_accuracy: 0.6575 - val_loss: 0.8262\n",
            "Epoch 235/325\n",
            "\u001b[1m873/873\u001b[0m \u001b[32m━━━━━━━━━━━━━━━━━━━━\u001b[0m\u001b[37m\u001b[0m \u001b[1m3s\u001b[0m 2ms/step - accuracy: 0.6232 - loss: 0.8059 - val_accuracy: 0.6472 - val_loss: 0.8175\n",
            "Epoch 236/325\n",
            "\u001b[1m873/873\u001b[0m \u001b[32m━━━━━━━━━━━━━━━━━━━━\u001b[0m\u001b[37m\u001b[0m \u001b[1m3s\u001b[0m 2ms/step - accuracy: 0.6356 - loss: 0.7957 - val_accuracy: 0.6506 - val_loss: 0.8289\n",
            "Epoch 237/325\n",
            "\u001b[1m873/873\u001b[0m \u001b[32m━━━━━━━━━━━━━━━━━━━━\u001b[0m\u001b[37m\u001b[0m \u001b[1m2s\u001b[0m 1ms/step - accuracy: 0.6443 - loss: 0.7963 - val_accuracy: 0.6239 - val_loss: 0.8073\n",
            "Epoch 238/325\n",
            "\u001b[1m873/873\u001b[0m \u001b[32m━━━━━━━━━━━━━━━━━━━━\u001b[0m\u001b[37m\u001b[0m \u001b[1m3s\u001b[0m 2ms/step - accuracy: 0.6352 - loss: 0.7913 - val_accuracy: 0.5706 - val_loss: 0.8752\n",
            "Epoch 239/325\n",
            "\u001b[1m873/873\u001b[0m \u001b[32m━━━━━━━━━━━━━━━━━━━━\u001b[0m\u001b[37m\u001b[0m \u001b[1m1s\u001b[0m 2ms/step - accuracy: 0.6303 - loss: 0.7947 - val_accuracy: 0.5680 - val_loss: 0.8648\n",
            "Epoch 240/325\n",
            "\u001b[1m873/873\u001b[0m \u001b[32m━━━━━━━━━━━━━━━━━━━━\u001b[0m\u001b[37m\u001b[0m \u001b[1m1s\u001b[0m 2ms/step - accuracy: 0.6267 - loss: 0.8000 - val_accuracy: 0.5852 - val_loss: 0.8645\n",
            "Epoch 241/325\n",
            "\u001b[1m873/873\u001b[0m \u001b[32m━━━━━━━━━━━━━━━━━━━━\u001b[0m\u001b[37m\u001b[0m \u001b[1m1s\u001b[0m 1ms/step - accuracy: 0.6321 - loss: 0.7943 - val_accuracy: 0.6343 - val_loss: 0.8151\n",
            "Epoch 242/325\n",
            "\u001b[1m873/873\u001b[0m \u001b[32m━━━━━━━━━━━━━━━━━━━━\u001b[0m\u001b[37m\u001b[0m \u001b[1m2s\u001b[0m 2ms/step - accuracy: 0.6226 - loss: 0.7945 - val_accuracy: 0.6713 - val_loss: 0.7994\n",
            "Epoch 243/325\n",
            "\u001b[1m873/873\u001b[0m \u001b[32m━━━━━━━━━━━━━━━━━━━━\u001b[0m\u001b[37m\u001b[0m \u001b[1m3s\u001b[0m 2ms/step - accuracy: 0.6197 - loss: 0.7950 - val_accuracy: 0.6566 - val_loss: 0.7933\n",
            "Epoch 244/325\n",
            "\u001b[1m873/873\u001b[0m \u001b[32m━━━━━━━━━━━━━━━━━━━━\u001b[0m\u001b[37m\u001b[0m \u001b[1m2s\u001b[0m 2ms/step - accuracy: 0.6311 - loss: 0.7901 - val_accuracy: 0.6429 - val_loss: 0.8325\n",
            "Epoch 245/325\n",
            "\u001b[1m873/873\u001b[0m \u001b[32m━━━━━━━━━━━━━━━━━━━━\u001b[0m\u001b[37m\u001b[0m \u001b[1m1s\u001b[0m 1ms/step - accuracy: 0.6296 - loss: 0.7971 - val_accuracy: 0.5706 - val_loss: 0.8404\n",
            "Epoch 246/325\n",
            "\u001b[1m873/873\u001b[0m \u001b[32m━━━━━━━━━━━━━━━━━━━━\u001b[0m\u001b[37m\u001b[0m \u001b[1m1s\u001b[0m 2ms/step - accuracy: 0.6241 - loss: 0.8015 - val_accuracy: 0.6343 - val_loss: 0.8376\n",
            "Epoch 247/325\n",
            "\u001b[1m873/873\u001b[0m \u001b[32m━━━━━━━━━━━━━━━━━━━━\u001b[0m\u001b[37m\u001b[0m \u001b[1m3s\u001b[0m 2ms/step - accuracy: 0.6291 - loss: 0.7883 - val_accuracy: 0.6231 - val_loss: 0.8069\n",
            "Epoch 248/325\n",
            "\u001b[1m873/873\u001b[0m \u001b[32m━━━━━━━━━━━━━━━━━━━━\u001b[0m\u001b[37m\u001b[0m \u001b[1m2s\u001b[0m 2ms/step - accuracy: 0.6351 - loss: 0.7816 - val_accuracy: 0.6317 - val_loss: 0.8105\n",
            "Epoch 249/325\n",
            "\u001b[1m873/873\u001b[0m \u001b[32m━━━━━━━━━━━━━━━━━━━━\u001b[0m\u001b[37m\u001b[0m \u001b[1m3s\u001b[0m 2ms/step - accuracy: 0.6362 - loss: 0.7845 - val_accuracy: 0.4010 - val_loss: 1.2367\n",
            "Epoch 250/325\n",
            "\u001b[1m873/873\u001b[0m \u001b[32m━━━━━━━━━━━━━━━━━━━━\u001b[0m\u001b[37m\u001b[0m \u001b[1m2s\u001b[0m 2ms/step - accuracy: 0.6394 - loss: 0.7770 - val_accuracy: 0.6377 - val_loss: 0.8055\n",
            "Epoch 251/325\n",
            "\u001b[1m873/873\u001b[0m \u001b[32m━━━━━━━━━━━━━━━━━━━━\u001b[0m\u001b[37m\u001b[0m \u001b[1m2s\u001b[0m 2ms/step - accuracy: 0.6468 - loss: 0.7734 - val_accuracy: 0.5353 - val_loss: 0.9248\n",
            "Epoch 252/325\n",
            "\u001b[1m873/873\u001b[0m \u001b[32m━━━━━━━━━━━━━━━━━━━━\u001b[0m\u001b[37m\u001b[0m \u001b[1m3s\u001b[0m 2ms/step - accuracy: 0.6320 - loss: 0.7825 - val_accuracy: 0.4415 - val_loss: 1.0204\n",
            "Epoch 253/325\n",
            "\u001b[1m873/873\u001b[0m \u001b[32m━━━━━━━━━━━━━━━━━━━━\u001b[0m\u001b[37m\u001b[0m \u001b[1m1s\u001b[0m 2ms/step - accuracy: 0.6339 - loss: 0.7831 - val_accuracy: 0.5990 - val_loss: 0.8308\n",
            "Epoch 254/325\n",
            "\u001b[1m873/873\u001b[0m \u001b[32m━━━━━━━━━━━━━━━━━━━━\u001b[0m\u001b[37m\u001b[0m \u001b[1m3s\u001b[0m 2ms/step - accuracy: 0.6392 - loss: 0.7753 - val_accuracy: 0.5895 - val_loss: 0.8293\n",
            "Epoch 255/325\n",
            "\u001b[1m873/873\u001b[0m \u001b[32m━━━━━━━━━━━━━━━━━━━━\u001b[0m\u001b[37m\u001b[0m \u001b[1m3s\u001b[0m 2ms/step - accuracy: 0.6409 - loss: 0.7817 - val_accuracy: 0.6463 - val_loss: 0.8003\n",
            "Epoch 256/325\n",
            "\u001b[1m873/873\u001b[0m \u001b[32m━━━━━━━━━━━━━━━━━━━━\u001b[0m\u001b[37m\u001b[0m \u001b[1m1s\u001b[0m 2ms/step - accuracy: 0.6335 - loss: 0.7803 - val_accuracy: 0.5430 - val_loss: 0.9143\n",
            "Epoch 257/325\n",
            "\u001b[1m873/873\u001b[0m \u001b[32m━━━━━━━━━━━━━━━━━━━━\u001b[0m\u001b[37m\u001b[0m \u001b[1m2s\u001b[0m 1ms/step - accuracy: 0.6299 - loss: 0.7774 - val_accuracy: 0.6601 - val_loss: 0.8159\n",
            "Epoch 258/325\n",
            "\u001b[1m873/873\u001b[0m \u001b[32m━━━━━━━━━━━━━━━━━━━━\u001b[0m\u001b[37m\u001b[0m \u001b[1m3s\u001b[0m 1ms/step - accuracy: 0.6279 - loss: 0.7888 - val_accuracy: 0.5878 - val_loss: 0.8326\n",
            "Epoch 259/325\n",
            "\u001b[1m873/873\u001b[0m \u001b[32m━━━━━━━━━━━━━━━━━━━━\u001b[0m\u001b[37m\u001b[0m \u001b[1m1s\u001b[0m 2ms/step - accuracy: 0.6348 - loss: 0.7659 - val_accuracy: 0.6721 - val_loss: 0.7697\n",
            "Epoch 260/325\n",
            "\u001b[1m873/873\u001b[0m \u001b[32m━━━━━━━━━━━━━━━━━━━━\u001b[0m\u001b[37m\u001b[0m \u001b[1m3s\u001b[0m 2ms/step - accuracy: 0.6386 - loss: 0.7698 - val_accuracy: 0.6575 - val_loss: 0.7705\n",
            "Epoch 261/325\n",
            "\u001b[1m873/873\u001b[0m \u001b[32m━━━━━━━━━━━━━━━━━━━━\u001b[0m\u001b[37m\u001b[0m \u001b[1m3s\u001b[0m 2ms/step - accuracy: 0.6328 - loss: 0.7692 - val_accuracy: 0.6102 - val_loss: 0.7985\n",
            "Epoch 262/325\n",
            "\u001b[1m873/873\u001b[0m \u001b[32m━━━━━━━━━━━━━━━━━━━━\u001b[0m\u001b[37m\u001b[0m \u001b[1m1s\u001b[0m 2ms/step - accuracy: 0.6486 - loss: 0.7586 - val_accuracy: 0.6540 - val_loss: 0.8094\n",
            "Epoch 263/325\n",
            "\u001b[1m873/873\u001b[0m \u001b[32m━━━━━━━━━━━━━━━━━━━━\u001b[0m\u001b[37m\u001b[0m \u001b[1m3s\u001b[0m 2ms/step - accuracy: 0.6484 - loss: 0.7512 - val_accuracy: 0.4208 - val_loss: 1.1283\n",
            "Epoch 264/325\n",
            "\u001b[1m873/873\u001b[0m \u001b[32m━━━━━━━━━━━━━━━━━━━━\u001b[0m\u001b[37m\u001b[0m \u001b[1m3s\u001b[0m 2ms/step - accuracy: 0.6458 - loss: 0.7623 - val_accuracy: 0.6454 - val_loss: 0.7742\n",
            "Epoch 265/325\n",
            "\u001b[1m873/873\u001b[0m \u001b[32m━━━━━━━━━━━━━━━━━━━━\u001b[0m\u001b[37m\u001b[0m \u001b[1m2s\u001b[0m 2ms/step - accuracy: 0.6440 - loss: 0.7665 - val_accuracy: 0.5525 - val_loss: 0.8982\n",
            "Epoch 266/325\n",
            "\u001b[1m873/873\u001b[0m \u001b[32m━━━━━━━━━━━━━━━━━━━━\u001b[0m\u001b[37m\u001b[0m \u001b[1m3s\u001b[0m 2ms/step - accuracy: 0.6461 - loss: 0.7592 - val_accuracy: 0.6670 - val_loss: 0.7876\n",
            "Epoch 267/325\n",
            "\u001b[1m873/873\u001b[0m \u001b[32m━━━━━━━━━━━━━━━━━━━━\u001b[0m\u001b[37m\u001b[0m \u001b[1m2s\u001b[0m 2ms/step - accuracy: 0.6422 - loss: 0.7669 - val_accuracy: 0.6334 - val_loss: 0.8095\n",
            "Epoch 268/325\n",
            "\u001b[1m873/873\u001b[0m \u001b[32m━━━━━━━━━━━━━━━━━━━━\u001b[0m\u001b[37m\u001b[0m \u001b[1m1s\u001b[0m 2ms/step - accuracy: 0.6393 - loss: 0.7647 - val_accuracy: 0.6386 - val_loss: 0.7761\n",
            "Epoch 269/325\n",
            "\u001b[1m873/873\u001b[0m \u001b[32m━━━━━━━━━━━━━━━━━━━━\u001b[0m\u001b[37m\u001b[0m \u001b[1m2s\u001b[0m 1ms/step - accuracy: 0.6460 - loss: 0.7536 - val_accuracy: 0.6635 - val_loss: 0.7668\n",
            "Epoch 270/325\n",
            "\u001b[1m873/873\u001b[0m \u001b[32m━━━━━━━━━━━━━━━━━━━━\u001b[0m\u001b[37m\u001b[0m \u001b[1m3s\u001b[0m 2ms/step - accuracy: 0.6529 - loss: 0.7531 - val_accuracy: 0.6532 - val_loss: 0.7765\n",
            "Epoch 271/325\n",
            "\u001b[1m873/873\u001b[0m \u001b[32m━━━━━━━━━━━━━━━━━━━━\u001b[0m\u001b[37m\u001b[0m \u001b[1m3s\u001b[0m 2ms/step - accuracy: 0.6434 - loss: 0.7550 - val_accuracy: 0.6015 - val_loss: 0.8033\n",
            "Epoch 272/325\n",
            "\u001b[1m873/873\u001b[0m \u001b[32m━━━━━━━━━━━━━━━━━━━━\u001b[0m\u001b[37m\u001b[0m \u001b[1m3s\u001b[0m 2ms/step - accuracy: 0.6368 - loss: 0.7610 - val_accuracy: 0.6687 - val_loss: 0.7574\n",
            "Epoch 273/325\n",
            "\u001b[1m873/873\u001b[0m \u001b[32m━━━━━━━━━━━━━━━━━━━━\u001b[0m\u001b[37m\u001b[0m \u001b[1m2s\u001b[0m 1ms/step - accuracy: 0.6416 - loss: 0.7515 - val_accuracy: 0.6609 - val_loss: 0.7859\n",
            "Epoch 274/325\n",
            "\u001b[1m873/873\u001b[0m \u001b[32m━━━━━━━━━━━━━━━━━━━━\u001b[0m\u001b[37m\u001b[0m \u001b[1m3s\u001b[0m 2ms/step - accuracy: 0.6288 - loss: 0.7576 - val_accuracy: 0.6386 - val_loss: 0.7773\n",
            "Epoch 275/325\n",
            "\u001b[1m873/873\u001b[0m \u001b[32m━━━━━━━━━━━━━━━━━━━━\u001b[0m\u001b[37m\u001b[0m \u001b[1m3s\u001b[0m 2ms/step - accuracy: 0.6497 - loss: 0.7459 - val_accuracy: 0.6618 - val_loss: 0.7851\n",
            "Epoch 276/325\n",
            "\u001b[1m873/873\u001b[0m \u001b[32m━━━━━━━━━━━━━━━━━━━━\u001b[0m\u001b[37m\u001b[0m \u001b[1m3s\u001b[0m 2ms/step - accuracy: 0.6414 - loss: 0.7519 - val_accuracy: 0.6213 - val_loss: 0.7797\n",
            "Epoch 277/325\n",
            "\u001b[1m873/873\u001b[0m \u001b[32m━━━━━━━━━━━━━━━━━━━━\u001b[0m\u001b[37m\u001b[0m \u001b[1m3s\u001b[0m 2ms/step - accuracy: 0.6448 - loss: 0.7483 - val_accuracy: 0.5086 - val_loss: 0.9320\n",
            "Epoch 278/325\n",
            "\u001b[1m873/873\u001b[0m \u001b[32m━━━━━━━━━━━━━━━━━━━━\u001b[0m\u001b[37m\u001b[0m \u001b[1m4s\u001b[0m 4ms/step - accuracy: 0.6426 - loss: 0.7545 - val_accuracy: 0.6403 - val_loss: 0.7741\n",
            "Epoch 279/325\n",
            "\u001b[1m873/873\u001b[0m \u001b[32m━━━━━━━━━━━━━━━━━━━━\u001b[0m\u001b[37m\u001b[0m \u001b[1m5s\u001b[0m 3ms/step - accuracy: 0.6409 - loss: 0.7360 - val_accuracy: 0.6609 - val_loss: 0.7826\n",
            "Epoch 280/325\n",
            "\u001b[1m873/873\u001b[0m \u001b[32m━━━━━━━━━━━━━━━━━━━━\u001b[0m\u001b[37m\u001b[0m \u001b[1m1s\u001b[0m 1ms/step - accuracy: 0.6475 - loss: 0.7475 - val_accuracy: 0.5852 - val_loss: 0.8487\n",
            "Epoch 281/325\n",
            "\u001b[1m873/873\u001b[0m \u001b[32m━━━━━━━━━━━━━━━━━━━━\u001b[0m\u001b[37m\u001b[0m \u001b[1m3s\u001b[0m 2ms/step - accuracy: 0.6484 - loss: 0.7481 - val_accuracy: 0.6532 - val_loss: 0.7652\n",
            "Epoch 282/325\n",
            "\u001b[1m873/873\u001b[0m \u001b[32m━━━━━━━━━━━━━━━━━━━━\u001b[0m\u001b[37m\u001b[0m \u001b[1m2s\u001b[0m 1ms/step - accuracy: 0.6483 - loss: 0.7464 - val_accuracy: 0.6540 - val_loss: 0.7563\n",
            "Epoch 283/325\n",
            "\u001b[1m873/873\u001b[0m \u001b[32m━━━━━━━━━━━━━━━━━━━━\u001b[0m\u001b[37m\u001b[0m \u001b[1m4s\u001b[0m 3ms/step - accuracy: 0.6352 - loss: 0.7578 - val_accuracy: 0.5990 - val_loss: 0.8047\n",
            "Epoch 284/325\n",
            "\u001b[1m873/873\u001b[0m \u001b[32m━━━━━━━━━━━━━━━━━━━━\u001b[0m\u001b[37m\u001b[0m \u001b[1m2s\u001b[0m 2ms/step - accuracy: 0.6413 - loss: 0.7574 - val_accuracy: 0.5972 - val_loss: 0.8196\n",
            "Epoch 285/325\n",
            "\u001b[1m873/873\u001b[0m \u001b[32m━━━━━━━━━━━━━━━━━━━━\u001b[0m\u001b[37m\u001b[0m \u001b[1m2s\u001b[0m 2ms/step - accuracy: 0.6452 - loss: 0.7359 - val_accuracy: 0.5775 - val_loss: 0.8628\n",
            "Epoch 286/325\n",
            "\u001b[1m873/873\u001b[0m \u001b[32m━━━━━━━━━━━━━━━━━━━━\u001b[0m\u001b[37m\u001b[0m \u001b[1m3s\u001b[0m 2ms/step - accuracy: 0.6427 - loss: 0.7468 - val_accuracy: 0.5602 - val_loss: 0.8735\n",
            "Epoch 287/325\n",
            "\u001b[1m873/873\u001b[0m \u001b[32m━━━━━━━━━━━━━━━━━━━━\u001b[0m\u001b[37m\u001b[0m \u001b[1m2s\u001b[0m 2ms/step - accuracy: 0.6543 - loss: 0.7322 - val_accuracy: 0.6566 - val_loss: 0.7746\n",
            "Epoch 288/325\n",
            "\u001b[1m873/873\u001b[0m \u001b[32m━━━━━━━━━━━━━━━━━━━━\u001b[0m\u001b[37m\u001b[0m \u001b[1m3s\u001b[0m 2ms/step - accuracy: 0.6567 - loss: 0.7328 - val_accuracy: 0.6325 - val_loss: 0.8068\n",
            "Epoch 289/325\n",
            "\u001b[1m873/873\u001b[0m \u001b[32m━━━━━━━━━━━━━━━━━━━━\u001b[0m\u001b[37m\u001b[0m \u001b[1m2s\u001b[0m 1ms/step - accuracy: 0.6559 - loss: 0.7336 - val_accuracy: 0.6670 - val_loss: 0.7445\n",
            "Epoch 290/325\n",
            "\u001b[1m873/873\u001b[0m \u001b[32m━━━━━━━━━━━━━━━━━━━━\u001b[0m\u001b[37m\u001b[0m \u001b[1m2s\u001b[0m 2ms/step - accuracy: 0.6474 - loss: 0.7320 - val_accuracy: 0.4406 - val_loss: 1.1740\n",
            "Epoch 291/325\n",
            "\u001b[1m873/873\u001b[0m \u001b[32m━━━━━━━━━━━━━━━━━━━━\u001b[0m\u001b[37m\u001b[0m \u001b[1m3s\u001b[0m 2ms/step - accuracy: 0.6435 - loss: 0.7396 - val_accuracy: 0.6299 - val_loss: 0.7884\n",
            "Epoch 292/325\n",
            "\u001b[1m873/873\u001b[0m \u001b[32m━━━━━━━━━━━━━━━━━━━━\u001b[0m\u001b[37m\u001b[0m \u001b[1m3s\u001b[0m 2ms/step - accuracy: 0.6476 - loss: 0.7490 - val_accuracy: 0.6110 - val_loss: 0.7894\n",
            "Epoch 293/325\n",
            "\u001b[1m873/873\u001b[0m \u001b[32m━━━━━━━━━━━━━━━━━━━━\u001b[0m\u001b[37m\u001b[0m \u001b[1m2s\u001b[0m 2ms/step - accuracy: 0.6513 - loss: 0.7371 - val_accuracy: 0.6764 - val_loss: 0.7353\n",
            "Epoch 294/325\n",
            "\u001b[1m873/873\u001b[0m \u001b[32m━━━━━━━━━━━━━━━━━━━━\u001b[0m\u001b[37m\u001b[0m \u001b[1m1s\u001b[0m 2ms/step - accuracy: 0.6528 - loss: 0.7332 - val_accuracy: 0.6764 - val_loss: 0.7386\n",
            "Epoch 295/325\n",
            "\u001b[1m873/873\u001b[0m \u001b[32m━━━━━━━━━━━━━━━━━━━━\u001b[0m\u001b[37m\u001b[0m \u001b[1m2s\u001b[0m 2ms/step - accuracy: 0.6497 - loss: 0.7455 - val_accuracy: 0.6661 - val_loss: 0.7700\n",
            "Epoch 296/325\n",
            "\u001b[1m873/873\u001b[0m \u001b[32m━━━━━━━━━━━━━━━━━━━━\u001b[0m\u001b[37m\u001b[0m \u001b[1m3s\u001b[0m 2ms/step - accuracy: 0.6516 - loss: 0.7291 - val_accuracy: 0.5852 - val_loss: 0.8391\n",
            "Epoch 297/325\n",
            "\u001b[1m873/873\u001b[0m \u001b[32m━━━━━━━━━━━━━━━━━━━━\u001b[0m\u001b[37m\u001b[0m \u001b[1m3s\u001b[0m 2ms/step - accuracy: 0.6448 - loss: 0.7349 - val_accuracy: 0.6231 - val_loss: 0.7759\n",
            "Epoch 298/325\n",
            "\u001b[1m873/873\u001b[0m \u001b[32m━━━━━━━━━━━━━━━━━━━━\u001b[0m\u001b[37m\u001b[0m \u001b[1m2s\u001b[0m 2ms/step - accuracy: 0.6556 - loss: 0.7242 - val_accuracy: 0.6041 - val_loss: 0.7986\n",
            "Epoch 299/325\n",
            "\u001b[1m873/873\u001b[0m \u001b[32m━━━━━━━━━━━━━━━━━━━━\u001b[0m\u001b[37m\u001b[0m \u001b[1m2s\u001b[0m 2ms/step - accuracy: 0.6477 - loss: 0.7432 - val_accuracy: 0.6308 - val_loss: 0.8165\n",
            "Epoch 300/325\n",
            "\u001b[1m873/873\u001b[0m \u001b[32m━━━━━━━━━━━━━━━━━━━━\u001b[0m\u001b[37m\u001b[0m \u001b[1m1s\u001b[0m 2ms/step - accuracy: 0.6537 - loss: 0.7298 - val_accuracy: 0.6015 - val_loss: 0.8106\n",
            "Epoch 301/325\n",
            "\u001b[1m873/873\u001b[0m \u001b[32m━━━━━━━━━━━━━━━━━━━━\u001b[0m\u001b[37m\u001b[0m \u001b[1m3s\u001b[0m 2ms/step - accuracy: 0.6578 - loss: 0.7282 - val_accuracy: 0.6790 - val_loss: 0.7301\n",
            "Epoch 302/325\n",
            "\u001b[1m873/873\u001b[0m \u001b[32m━━━━━━━━━━━━━━━━━━━━\u001b[0m\u001b[37m\u001b[0m \u001b[1m3s\u001b[0m 2ms/step - accuracy: 0.6567 - loss: 0.7306 - val_accuracy: 0.6756 - val_loss: 0.7513\n",
            "Epoch 303/325\n",
            "\u001b[1m873/873\u001b[0m \u001b[32m━━━━━━━━━━━━━━━━━━━━\u001b[0m\u001b[37m\u001b[0m \u001b[1m3s\u001b[0m 2ms/step - accuracy: 0.6394 - loss: 0.7369 - val_accuracy: 0.6799 - val_loss: 0.7230\n",
            "Epoch 304/325\n",
            "\u001b[1m873/873\u001b[0m \u001b[32m━━━━━━━━━━━━━━━━━━━━\u001b[0m\u001b[37m\u001b[0m \u001b[1m2s\u001b[0m 2ms/step - accuracy: 0.6457 - loss: 0.7220 - val_accuracy: 0.6437 - val_loss: 0.7954\n",
            "Epoch 305/325\n",
            "\u001b[1m873/873\u001b[0m \u001b[32m━━━━━━━━━━━━━━━━━━━━\u001b[0m\u001b[37m\u001b[0m \u001b[1m2s\u001b[0m 2ms/step - accuracy: 0.6496 - loss: 0.7245 - val_accuracy: 0.6515 - val_loss: 0.7631\n",
            "Epoch 306/325\n",
            "\u001b[1m873/873\u001b[0m \u001b[32m━━━━━━━━━━━━━━━━━━━━\u001b[0m\u001b[37m\u001b[0m \u001b[1m2s\u001b[0m 2ms/step - accuracy: 0.6383 - loss: 0.7322 - val_accuracy: 0.6351 - val_loss: 0.7606\n",
            "Epoch 307/325\n",
            "\u001b[1m873/873\u001b[0m \u001b[32m━━━━━━━━━━━━━━━━━━━━\u001b[0m\u001b[37m\u001b[0m \u001b[1m3s\u001b[0m 2ms/step - accuracy: 0.6569 - loss: 0.7287 - val_accuracy: 0.6222 - val_loss: 0.7706\n",
            "Epoch 308/325\n",
            "\u001b[1m873/873\u001b[0m \u001b[32m━━━━━━━━━━━━━━━━━━━━\u001b[0m\u001b[37m\u001b[0m \u001b[1m3s\u001b[0m 2ms/step - accuracy: 0.6702 - loss: 0.7078 - val_accuracy: 0.5783 - val_loss: 0.8287\n",
            "Epoch 309/325\n",
            "\u001b[1m873/873\u001b[0m \u001b[32m━━━━━━━━━━━━━━━━━━━━\u001b[0m\u001b[37m\u001b[0m \u001b[1m3s\u001b[0m 2ms/step - accuracy: 0.6578 - loss: 0.7208 - val_accuracy: 0.6876 - val_loss: 0.7282\n",
            "Epoch 310/325\n",
            "\u001b[1m873/873\u001b[0m \u001b[32m━━━━━━━━━━━━━━━━━━━━\u001b[0m\u001b[37m\u001b[0m \u001b[1m2s\u001b[0m 3ms/step - accuracy: 0.6469 - loss: 0.7294 - val_accuracy: 0.6824 - val_loss: 0.7164\n",
            "Epoch 311/325\n",
            "\u001b[1m873/873\u001b[0m \u001b[32m━━━━━━━━━━━━━━━━━━━━\u001b[0m\u001b[37m\u001b[0m \u001b[1m1s\u001b[0m 2ms/step - accuracy: 0.6444 - loss: 0.7194 - val_accuracy: 0.6867 - val_loss: 0.7282\n",
            "Epoch 312/325\n",
            "\u001b[1m873/873\u001b[0m \u001b[32m━━━━━━━━━━━━━━━━━━━━\u001b[0m\u001b[37m\u001b[0m \u001b[1m3s\u001b[0m 2ms/step - accuracy: 0.6561 - loss: 0.7181 - val_accuracy: 0.6790 - val_loss: 0.7166\n",
            "Epoch 313/325\n",
            "\u001b[1m873/873\u001b[0m \u001b[32m━━━━━━━━━━━━━━━━━━━━\u001b[0m\u001b[37m\u001b[0m \u001b[1m3s\u001b[0m 2ms/step - accuracy: 0.6537 - loss: 0.7186 - val_accuracy: 0.6256 - val_loss: 0.7569\n",
            "Epoch 314/325\n",
            "\u001b[1m873/873\u001b[0m \u001b[32m━━━━━━━━━━━━━━━━━━━━\u001b[0m\u001b[37m\u001b[0m \u001b[1m3s\u001b[0m 2ms/step - accuracy: 0.6513 - loss: 0.7184 - val_accuracy: 0.5731 - val_loss: 0.8714\n",
            "Epoch 315/325\n",
            "\u001b[1m873/873\u001b[0m \u001b[32m━━━━━━━━━━━━━━━━━━━━\u001b[0m\u001b[37m\u001b[0m \u001b[1m3s\u001b[0m 2ms/step - accuracy: 0.6690 - loss: 0.7218 - val_accuracy: 0.6566 - val_loss: 0.7392\n",
            "Epoch 316/325\n",
            "\u001b[1m873/873\u001b[0m \u001b[32m━━━━━━━━━━━━━━━━━━━━\u001b[0m\u001b[37m\u001b[0m \u001b[1m2s\u001b[0m 2ms/step - accuracy: 0.6567 - loss: 0.7202 - val_accuracy: 0.6497 - val_loss: 0.7580\n",
            "Epoch 317/325\n",
            "\u001b[1m873/873\u001b[0m \u001b[32m━━━━━━━━━━━━━━━━━━━━\u001b[0m\u001b[37m\u001b[0m \u001b[1m1s\u001b[0m 2ms/step - accuracy: 0.6592 - loss: 0.7137 - val_accuracy: 0.6824 - val_loss: 0.7239\n",
            "Epoch 318/325\n",
            "\u001b[1m873/873\u001b[0m \u001b[32m━━━━━━━━━━━━━━━━━━━━\u001b[0m\u001b[37m\u001b[0m \u001b[1m2s\u001b[0m 2ms/step - accuracy: 0.6523 - loss: 0.7163 - val_accuracy: 0.6446 - val_loss: 0.8020\n",
            "Epoch 319/325\n",
            "\u001b[1m873/873\u001b[0m \u001b[32m━━━━━━━━━━━━━━━━━━━━\u001b[0m\u001b[37m\u001b[0m \u001b[1m3s\u001b[0m 2ms/step - accuracy: 0.6483 - loss: 0.7357 - val_accuracy: 0.4380 - val_loss: 1.3983\n",
            "Epoch 320/325\n",
            "\u001b[1m873/873\u001b[0m \u001b[32m━━━━━━━━━━━━━━━━━━━━\u001b[0m\u001b[37m\u001b[0m \u001b[1m1s\u001b[0m 2ms/step - accuracy: 0.6577 - loss: 0.7201 - val_accuracy: 0.5697 - val_loss: 0.8772\n",
            "Epoch 321/325\n",
            "\u001b[1m873/873\u001b[0m \u001b[32m━━━━━━━━━━━━━━━━━━━━\u001b[0m\u001b[37m\u001b[0m \u001b[1m3s\u001b[0m 2ms/step - accuracy: 0.6628 - loss: 0.7065 - val_accuracy: 0.6730 - val_loss: 0.7273\n",
            "Epoch 322/325\n",
            "\u001b[1m873/873\u001b[0m \u001b[32m━━━━━━━━━━━━━━━━━━━━\u001b[0m\u001b[37m\u001b[0m \u001b[1m2s\u001b[0m 2ms/step - accuracy: 0.6553 - loss: 0.7068 - val_accuracy: 0.6205 - val_loss: 0.7848\n",
            "Epoch 323/325\n",
            "\u001b[1m873/873\u001b[0m \u001b[32m━━━━━━━━━━━━━━━━━━━━\u001b[0m\u001b[37m\u001b[0m \u001b[1m2s\u001b[0m 2ms/step - accuracy: 0.6567 - loss: 0.7129 - val_accuracy: 0.5998 - val_loss: 0.8248\n",
            "Epoch 324/325\n",
            "\u001b[1m873/873\u001b[0m \u001b[32m━━━━━━━━━━━━━━━━━━━━\u001b[0m\u001b[37m\u001b[0m \u001b[1m1s\u001b[0m 2ms/step - accuracy: 0.6498 - loss: 0.7156 - val_accuracy: 0.6446 - val_loss: 0.7508\n",
            "Epoch 325/325\n",
            "\u001b[1m873/873\u001b[0m \u001b[32m━━━━━━━━━━━━━━━━━━━━\u001b[0m\u001b[37m\u001b[0m \u001b[1m3s\u001b[0m 2ms/step - accuracy: 0.6577 - loss: 0.7115 - val_accuracy: 0.6661 - val_loss: 0.7445\n"
          ]
        }
      ],
      "source": [
        "# Train the model with the normalized train set using the fit() function.\n",
        "# Use the normalized val1 set as validation data. You can do so with the 'validation_data' argument of the fit() function\n",
        "# that accepts a tuple as argument: model1.fit(..., validation_data = (val1_normalized, val1_labels))\n",
        "# Remember to set the number of epochs and the batch_size.\n",
        "\n",
        "# NOTE: After fitting a model its state is saved. If you change hyperparameters (learning rate, epohcs, etc.)\n",
        "# you should reinstantiate the model for example by re-reunning: model1 = keras.Sequential([....]]\n",
        "# compile the model again and fit.\n",
        "\n",
        "#### COMPLETE THE CODE ####\n",
        "history = model1.fit(train_normalized, train_labels,validation_data = (val1_normalized, val1_labels),\n",
        "                    epochs = 325, validation_split = 0.2, batch_size = 8, verbose = 1\n",
        ")"
      ]
    },
    {
      "cell_type": "code",
      "execution_count": null,
      "metadata": {
        "colab": {
          "base_uri": "https://localhost:8080/",
          "height": 927
        },
        "id": "YoDdp6T_7dDB",
        "outputId": "bae4c9f8-a79a-4c3b-e1ca-871cba7efcf9",
        "scrolled": false
      },
      "outputs": [
        {
          "data": {
            "image/png": "[encoded data removed]",
            "text/plain": [
              "<Figure size 640x480 with 1 Axes>"
            ]
          },
          "metadata": {},
          "output_type": "display_data"
        },
        {
          "data": {
            "image/png": "[encoded data removed]",
            "text/plain": [
              "<Figure size 640x480 with 1 Axes>"
            ]
          },
          "metadata": {},
          "output_type": "display_data"
        }
      ],
      "source": [
        "# Plot the accuracy and loss curves.\n",
        "# Based on the validation accuracy and curves, fine tune your model,\n",
        "# for example by changing the number of epochs, learning rate, network architecture, etc.\n",
        "\n",
        "import matplotlib.pyplot as plt\n",
        "%matplotlib inline\n",
        "# summarize history for accuracy\n",
        "plt.plot(history.history['accuracy'])\n",
        "plt.plot(history.history['val_accuracy'])\n",
        "plt.title('model accuracy')\n",
        "plt.ylabel('accuracy')\n",
        "plt.xlabel('epoch')\n",
        "plt.legend(['train', 'validation'], loc='upper left')\n",
        "plt.show()\n",
        "# summarize history for loss\n",
        "plt.plot(history.history['loss'])\n",
        "plt.plot(history.history['val_loss'])\n",
        "plt.title('model loss')\n",
        "plt.ylabel('loss')\n",
        "plt.xlabel('epoch')\n",
        "plt.legend(['train', 'validation'], loc='upper left')\n",
        "plt.show()"
      ]
    },
    {
      "cell_type": "markdown",
      "metadata": {
        "id": "_1CiGTaA7dDB"
      },
      "source": [
        "**Evaluate the performance on *val1 set*.**"
      ]
    },
    {
      "cell_type": "code",
      "execution_count": null,
      "metadata": {
        "colab": {
          "base_uri": "https://localhost:8080/"
        },
        "id": "Wh9hcLId7dDB",
        "outputId": "7bc086d6-7f26-4825-c45c-6c34de74129d"
      },
      "outputs": [
        {
          "name": "stdout",
          "output_type": "stream",
          "text": [
            "\u001b[1m37/37\u001b[0m \u001b[32m━━━━━━━━━━━━━━━━━━━━\u001b[0m\u001b[37m\u001b[0m \u001b[1m0s\u001b[0m 1ms/step - accuracy: 0.6645 - loss: 0.7312 \n"
          ]
        },
        {
          "data": {
            "text/plain": [
              "[0.7445253729820251, 0.6660929322242737]"
            ]
          },
          "execution_count": 18,
          "metadata": {},
          "output_type": "execute_result"
        }
      ],
      "source": [
        "# The evaluate() function can be used to evaluate the model on a specified dataset.\n",
        "# It returns the loss and the metrics specified in fit(), in this case 'accuracy'.\n",
        "# The following code prints the final loss and accuracy and should be the same as printed in the last epoch.\n",
        "model1.evaluate(val1_normalized, val1_labels) #[loss, accuracy]"
      ]
    },
    {
      "cell_type": "markdown",
      "metadata": {
        "id": "QzUqXmN57dDB"
      },
      "source": [
        "# Step 3: build and evaluate model 2.\n",
        "\n",
        "Build another network. This one should have a different architecture from `model1`.\n",
        "Store the model in a variable `model2`."
      ]
    },
    {
      "cell_type": "code",
      "execution_count": null,
      "metadata": {
        "colab": {
          "base_uri": "https://localhost:8080/",
          "height": 255
        },
        "id": "sRojl6J37dDB",
        "outputId": "9d213cc7-c704-42ab-de0f-961869d2a065"
      },
      "outputs": [
        {
          "data": {
            "text/html": [
              "<pre style=\"white-space:pre;overflow-x:auto;line-height:normal;font-family:Menlo,'DejaVu Sans Mono',consolas,'Courier New',monospace\"><span style=\"font-weight: bold\">Model: \"sequential_1\"</span>\n",
              "</pre>\n"
            ],
            "text/plain": [
              "\u001b[1mModel: \"sequential_1\"\u001b[0m\n"
            ]
          },
          "metadata": {},
          "output_type": "display_data"
        },
        {
          "data": {
            "text/html": [
              "<pre style=\"white-space:pre;overflow-x:auto;line-height:normal;font-family:Menlo,'DejaVu Sans Mono',consolas,'Courier New',monospace\">┏━━━━━━━━━━━━━━━━━━━━━━━━━━━━━━━━━━━━━━┳━━━━━━━━━━━━━━━━━━━━━━━━━━━━━┳━━━━━━━━━━━━━━━━━┓\n",
              "┃<span style=\"font-weight: bold\"> Layer (type)                         </span>┃<span style=\"font-weight: bold\"> Output Shape                </span>┃<span style=\"font-weight: bold\">         Param # </span>┃\n",
              "┡━━━━━━━━━━━━━━━━━━━━━━━━━━━━━━━━━━━━━━╇━━━━━━━━━━━━━━━━━━━━━━━━━━━━━╇━━━━━━━━━━━━━━━━━┩\n",
              "│ dense_3 (<span style=\"color: #0087ff; text-decoration-color: #0087ff\">Dense</span>)                      │ (<span style=\"color: #00d7ff; text-decoration-color: #00d7ff\">None</span>, <span style=\"color: #00af00; text-decoration-color: #00af00\">16</span>)                  │           <span style=\"color: #00af00; text-decoration-color: #00af00\">1,040</span> │\n",
              "├──────────────────────────────────────┼─────────────────────────────┼─────────────────┤\n",
              "│ dense_4 (<span style=\"color: #0087ff; text-decoration-color: #0087ff\">Dense</span>)                      │ (<span style=\"color: #00d7ff; text-decoration-color: #00d7ff\">None</span>, <span style=\"color: #00af00; text-decoration-color: #00af00\">8</span>)                   │             <span style=\"color: #00af00; text-decoration-color: #00af00\">136</span> │\n",
              "├──────────────────────────────────────┼─────────────────────────────┼─────────────────┤\n",
              "│ dense_5 (<span style=\"color: #0087ff; text-decoration-color: #0087ff\">Dense</span>)                      │ (<span style=\"color: #00d7ff; text-decoration-color: #00d7ff\">None</span>, <span style=\"color: #00af00; text-decoration-color: #00af00\">4</span>)                   │              <span style=\"color: #00af00; text-decoration-color: #00af00\">36</span> │\n",
              "└──────────────────────────────────────┴─────────────────────────────┴─────────────────┘\n",
              "</pre>\n"
            ],
            "text/plain": [
              "┏━━━━━━━━━━━━━━━━━━━━━━━━━━━━━━━━━━━━━━┳━━━━━━━━━━━━━━━━━━━━━━━━━━━━━┳━━━━━━━━━━━━━━━━━┓\n",
              "┃\u001b[1m \u001b[0m\u001b[1mLayer (type)                        \u001b[0m\u001b[1m \u001b[0m┃\u001b[1m \u001b[0m\u001b[1mOutput Shape               \u001b[0m\u001b[1m \u001b[0m┃\u001b[1m \u001b[0m\u001b[1m        Param #\u001b[0m\u001b[1m \u001b[0m┃\n",
              "┡━━━━━━━━━━━━━━━━━━━━━━━━━━━━━━━━━━━━━━╇━━━━━━━━━━━━━━━━━━━━━━━━━━━━━╇━━━━━━━━━━━━━━━━━┩\n",
              "│ dense_3 (\u001b[38;5;33mDense\u001b[0m)                      │ (\u001b[38;5;45mNone\u001b[0m, \u001b[38;5;34m16\u001b[0m)                  │           \u001b[38;5;34m1,040\u001b[0m │\n",
              "├──────────────────────────────────────┼─────────────────────────────┼─────────────────┤\n",
              "│ dense_4 (\u001b[38;5;33mDense\u001b[0m)                      │ (\u001b[38;5;45mNone\u001b[0m, \u001b[38;5;34m8\u001b[0m)                   │             \u001b[38;5;34m136\u001b[0m │\n",
              "├──────────────────────────────────────┼─────────────────────────────┼─────────────────┤\n",
              "│ dense_5 (\u001b[38;5;33mDense\u001b[0m)                      │ (\u001b[38;5;45mNone\u001b[0m, \u001b[38;5;34m4\u001b[0m)                   │              \u001b[38;5;34m36\u001b[0m │\n",
              "└──────────────────────────────────────┴─────────────────────────────┴─────────────────┘\n"
            ]
          },
          "metadata": {},
          "output_type": "display_data"
        },
        {
          "data": {
            "text/html": [
              "<pre style=\"white-space:pre;overflow-x:auto;line-height:normal;font-family:Menlo,'DejaVu Sans Mono',consolas,'Courier New',monospace\"><span style=\"font-weight: bold\"> Total params: </span><span style=\"color: #00af00; text-decoration-color: #00af00\">1,212</span> (4.73 KB)\n",
              "</pre>\n"
            ],
            "text/plain": [
              "\u001b[1m Total params: \u001b[0m\u001b[38;5;34m1,212\u001b[0m (4.73 KB)\n"
            ]
          },
          "metadata": {},
          "output_type": "display_data"
        },
        {
          "data": {
            "text/html": [
              "<pre style=\"white-space:pre;overflow-x:auto;line-height:normal;font-family:Menlo,'DejaVu Sans Mono',consolas,'Courier New',monospace\"><span style=\"font-weight: bold\"> Trainable params: </span><span style=\"color: #00af00; text-decoration-color: #00af00\">1,212</span> (4.73 KB)\n",
              "</pre>\n"
            ],
            "text/plain": [
              "\u001b[1m Trainable params: \u001b[0m\u001b[38;5;34m1,212\u001b[0m (4.73 KB)\n"
            ]
          },
          "metadata": {},
          "output_type": "display_data"
        },
        {
          "data": {
            "text/html": [
              "<pre style=\"white-space:pre;overflow-x:auto;line-height:normal;font-family:Menlo,'DejaVu Sans Mono',consolas,'Courier New',monospace\"><span style=\"font-weight: bold\"> Non-trainable params: </span><span style=\"color: #00af00; text-decoration-color: #00af00\">0</span> (0.00 B)\n",
              "</pre>\n"
            ],
            "text/plain": [
              "\u001b[1m Non-trainable params: \u001b[0m\u001b[38;5;34m0\u001b[0m (0.00 B)\n"
            ]
          },
          "metadata": {},
          "output_type": "display_data"
        },
        {
          "name": "stdout",
          "output_type": "stream",
          "text": [
            "None\n"
          ]
        }
      ],
      "source": [
        "#### YOUR CODE HERE ####\n",
        "model2 = keras.Sequential([\n",
        "    keras.layers.Dense(units = 16, input_shape=(64,), activation=tf.nn.leaky_relu),\n",
        "    keras.layers.Dense(units = 8, activation=tf.nn.leaky_relu),\n",
        "    keras.layers.Dense(units = 4, activation=tf.nn.softmax)\n",
        "])\n",
        "#Se intentó con sigmodides, probablemente funcione mejor con leaky_relu\n",
        "# Print model summary.\n",
        "print(model2.summary())\n",
        "\n"
      ]
    },
    {
      "cell_type": "code",
      "execution_count": null,
      "metadata": {
        "id": "hw-49fFX7dDB"
      },
      "outputs": [],
      "source": [
        "# Instantiate an optimizer and specify the learning rate.\n",
        "\n",
        "#### YOUR CODE HERE ####\n",
        "\n",
        "lr = .001\n",
        "\n",
        "\n",
        "# Compile the model with the instantiated optimizer.\n",
        "#### YOUR CODE HERE ####\n",
        "\n",
        "optimizer = tf.keras.optimizers.SGD(lr)\n",
        "\n",
        "# Compile the model.\n",
        "# Since this is a classification problem we need \"categorical_crossentropy\" as the loss function.\n",
        "model2.compile(optimizer = optimizer, loss = \"categorical_crossentropy\", metrics = ['accuracy'])"
      ]
    },
    {
      "cell_type": "code",
      "execution_count": null,
      "metadata": {
        "colab": {
          "background_save": true,
          "base_uri": "https://localhost:8080/"
        },
        "id": "HQADUiPh7dDB",
        "scrolled": true,
        "outputId": "24db82c7-97c8-4aa4-eeee-ed04811a7c3a"
      },
      "outputs": [
        {
          "name": "stdout",
          "output_type": "stream",
          "text": [
            "Epoch 1/325\n",
            "\u001b[1m873/873\u001b[0m \u001b[32m━━━━━━━━━━━━━━━━━━━━\u001b[0m\u001b[37m\u001b[0m \u001b[1m2s\u001b[0m 2ms/step - accuracy: 0.2571 - loss: 1.4092 - val_accuracy: 0.2539 - val_loss: 1.3886\n",
            "Epoch 2/325\n",
            "\u001b[1m873/873\u001b[0m \u001b[32m━━━━━━━━━━━━━━━━━━━━\u001b[0m\u001b[37m\u001b[0m \u001b[1m2s\u001b[0m 2ms/step - accuracy: 0.2498 - loss: 1.3865 - val_accuracy: 0.2341 - val_loss: 1.3894\n",
            "Epoch 3/325\n",
            "\u001b[1m873/873\u001b[0m \u001b[32m━━━━━━━━━━━━━━━━━━━━\u001b[0m\u001b[37m\u001b[0m \u001b[1m2s\u001b[0m 2ms/step - accuracy: 0.2357 - loss: 1.3880 - val_accuracy: 0.2427 - val_loss: 1.3893\n",
            "Epoch 4/325\n",
            "\u001b[1m873/873\u001b[0m \u001b[32m━━━━━━━━━━━━━━━━━━━━\u001b[0m\u001b[37m\u001b[0m \u001b[1m2s\u001b[0m 2ms/step - accuracy: 0.2395 - loss: 1.3873 - val_accuracy: 0.2522 - val_loss: 1.3888\n",
            "Epoch 5/325\n",
            "\u001b[1m873/873\u001b[0m \u001b[32m━━━━━━━━━━━━━━━━━━━━\u001b[0m\u001b[37m\u001b[0m \u001b[1m2s\u001b[0m 1ms/step - accuracy: 0.2458 - loss: 1.3865 - val_accuracy: 0.2392 - val_loss: 1.3886\n",
            "Epoch 6/325\n",
            "\u001b[1m873/873\u001b[0m \u001b[32m━━━━━━━━━━━━━━━━━━━━\u001b[0m\u001b[37m\u001b[0m \u001b[1m3s\u001b[0m 2ms/step - accuracy: 0.2508 - loss: 1.3863 - val_accuracy: 0.2487 - val_loss: 1.3882\n",
            "Epoch 7/325\n",
            "\u001b[1m873/873\u001b[0m \u001b[32m━━━━━━━━━━━━━━━━━━━━\u001b[0m\u001b[37m\u001b[0m \u001b[1m2s\u001b[0m 2ms/step - accuracy: 0.2442 - loss: 1.3867 - val_accuracy: 0.2496 - val_loss: 1.3881\n",
            "Epoch 8/325\n",
            "\u001b[1m873/873\u001b[0m \u001b[32m━━━━━━━━━━━━━━━━━━━━\u001b[0m\u001b[37m\u001b[0m \u001b[1m3s\u001b[0m 3ms/step - accuracy: 0.2602 - loss: 1.3858 - val_accuracy: 0.2496 - val_loss: 1.3881\n",
            "Epoch 9/325\n",
            "\u001b[1m873/873\u001b[0m \u001b[32m━━━━━━━━━━━━━━━━━━━━\u001b[0m\u001b[37m\u001b[0m \u001b[1m2s\u001b[0m 2ms/step - accuracy: 0.2644 - loss: 1.3856 - val_accuracy: 0.2470 - val_loss: 1.3879\n",
            "Epoch 10/325\n",
            "\u001b[1m873/873\u001b[0m \u001b[32m━━━━━━━━━━━━━━━━━━━━\u001b[0m\u001b[37m\u001b[0m \u001b[1m2s\u001b[0m 1ms/step - accuracy: 0.2464 - loss: 1.3863 - val_accuracy: 0.2410 - val_loss: 1.3881\n",
            "Epoch 11/325\n",
            "\u001b[1m873/873\u001b[0m \u001b[32m━━━━━━━━━━━━━━━━━━━━\u001b[0m\u001b[37m\u001b[0m \u001b[1m3s\u001b[0m 1ms/step - accuracy: 0.2369 - loss: 1.3861 - val_accuracy: 0.2478 - val_loss: 1.3872\n",
            "Epoch 12/325\n",
            "\u001b[1m873/873\u001b[0m \u001b[32m━━━━━━━━━━━━━━━━━━━━\u001b[0m\u001b[37m\u001b[0m \u001b[1m3s\u001b[0m 1ms/step - accuracy: 0.2580 - loss: 1.3852 - val_accuracy: 0.2392 - val_loss: 1.3876\n",
            "Epoch 13/325\n",
            "\u001b[1m873/873\u001b[0m \u001b[32m━━━━━━━━━━━━━━━━━━━━\u001b[0m\u001b[37m\u001b[0m \u001b[1m3s\u001b[0m 1ms/step - accuracy: 0.2647 - loss: 1.3845 - val_accuracy: 0.2625 - val_loss: 1.3871\n",
            "Epoch 14/325\n",
            "\u001b[1m873/873\u001b[0m \u001b[32m━━━━━━━━━━━━━━━━━━━━\u001b[0m\u001b[37m\u001b[0m \u001b[1m2s\u001b[0m 2ms/step - accuracy: 0.2613 - loss: 1.3847 - val_accuracy: 0.2676 - val_loss: 1.3864\n",
            "Epoch 15/325\n",
            "\u001b[1m873/873\u001b[0m \u001b[32m━━━━━━━━━━━━━━━━━━━━\u001b[0m\u001b[37m\u001b[0m \u001b[1m3s\u001b[0m 2ms/step - accuracy: 0.2573 - loss: 1.3845 - val_accuracy: 0.2633 - val_loss: 1.3866\n",
            "Epoch 16/325\n",
            "\u001b[1m873/873\u001b[0m \u001b[32m━━━━━━━━━━━━━━━━━━━━\u001b[0m\u001b[37m\u001b[0m \u001b[1m2s\u001b[0m 1ms/step - accuracy: 0.2625 - loss: 1.3843 - val_accuracy: 0.2651 - val_loss: 1.3860\n",
            "Epoch 17/325\n",
            "\u001b[1m873/873\u001b[0m \u001b[32m━━━━━━━━━━━━━━━━━━━━\u001b[0m\u001b[37m\u001b[0m \u001b[1m3s\u001b[0m 2ms/step - accuracy: 0.2618 - loss: 1.3840 - val_accuracy: 0.2676 - val_loss: 1.3856\n",
            "Epoch 18/325\n",
            "\u001b[1m873/873\u001b[0m \u001b[32m━━━━━━━━━━━━━━━━━━━━\u001b[0m\u001b[37m\u001b[0m \u001b[1m1s\u001b[0m 2ms/step - accuracy: 0.2681 - loss: 1.3845 - val_accuracy: 0.2737 - val_loss: 1.3853\n",
            "Epoch 19/325\n",
            "\u001b[1m873/873\u001b[0m \u001b[32m━━━━━━━━━━━━━━━━━━━━\u001b[0m\u001b[37m\u001b[0m \u001b[1m2s\u001b[0m 1ms/step - accuracy: 0.2749 - loss: 1.3836 - val_accuracy: 0.2737 - val_loss: 1.3853\n",
            "Epoch 20/325\n",
            "\u001b[1m873/873\u001b[0m \u001b[32m━━━━━━━━━━━━━━━━━━━━\u001b[0m\u001b[37m\u001b[0m \u001b[1m3s\u001b[0m 2ms/step - accuracy: 0.2836 - loss: 1.3827 - val_accuracy: 0.2754 - val_loss: 1.3855\n",
            "Epoch 21/325\n",
            "\u001b[1m873/873\u001b[0m \u001b[32m━━━━━━━━━━━━━━━━━━━━\u001b[0m\u001b[37m\u001b[0m \u001b[1m2s\u001b[0m 2ms/step - accuracy: 0.2758 - loss: 1.3837 - val_accuracy: 0.2694 - val_loss: 1.3858\n",
            "Epoch 22/325\n",
            "\u001b[1m873/873\u001b[0m \u001b[32m━━━━━━━━━━━━━━━━━━━━\u001b[0m\u001b[37m\u001b[0m \u001b[1m1s\u001b[0m 1ms/step - accuracy: 0.2714 - loss: 1.3840 - val_accuracy: 0.2616 - val_loss: 1.3860\n",
            "Epoch 23/325\n",
            "\u001b[1m873/873\u001b[0m \u001b[32m━━━━━━━━━━━━━━━━━━━━\u001b[0m\u001b[37m\u001b[0m \u001b[1m3s\u001b[0m 2ms/step - accuracy: 0.2759 - loss: 1.3830 - val_accuracy: 0.2754 - val_loss: 1.3849\n",
            "Epoch 24/325\n",
            "\u001b[1m873/873\u001b[0m \u001b[32m━━━━━━━━━━━━━━━━━━━━\u001b[0m\u001b[37m\u001b[0m \u001b[1m2s\u001b[0m 1ms/step - accuracy: 0.2696 - loss: 1.3832 - val_accuracy: 0.2719 - val_loss: 1.3847\n",
            "Epoch 25/325\n",
            "\u001b[1m873/873\u001b[0m \u001b[32m━━━━━━━━━━━━━━━━━━━━\u001b[0m\u001b[37m\u001b[0m \u001b[1m1s\u001b[0m 1ms/step - accuracy: 0.2701 - loss: 1.3832 - val_accuracy: 0.2780 - val_loss: 1.3848\n",
            "Epoch 26/325\n",
            "\u001b[1m873/873\u001b[0m \u001b[32m━━━━━━━━━━━━━━━━━━━━\u001b[0m\u001b[37m\u001b[0m \u001b[1m3s\u001b[0m 2ms/step - accuracy: 0.2716 - loss: 1.3836 - val_accuracy: 0.2694 - val_loss: 1.3844\n",
            "Epoch 27/325\n",
            "\u001b[1m873/873\u001b[0m \u001b[32m━━━━━━━━━━━━━━━━━━━━\u001b[0m\u001b[37m\u001b[0m \u001b[1m2s\u001b[0m 2ms/step - accuracy: 0.2726 - loss: 1.3815 - val_accuracy: 0.2771 - val_loss: 1.3842\n",
            "Epoch 28/325\n",
            "\u001b[1m873/873\u001b[0m \u001b[32m━━━━━━━━━━━━━━━━━━━━\u001b[0m\u001b[37m\u001b[0m \u001b[1m1s\u001b[0m 1ms/step - accuracy: 0.2750 - loss: 1.3827 - val_accuracy: 0.2771 - val_loss: 1.3843\n",
            "Epoch 29/325\n",
            "\u001b[1m873/873\u001b[0m \u001b[32m━━━━━━━━━━━━━━━━━━━━\u001b[0m\u001b[37m\u001b[0m \u001b[1m3s\u001b[0m 1ms/step - accuracy: 0.2687 - loss: 1.3836 - val_accuracy: 0.2849 - val_loss: 1.3837\n",
            "Epoch 30/325\n",
            "\u001b[1m873/873\u001b[0m \u001b[32m━━━━━━━━━━━━━━━━━━━━\u001b[0m\u001b[37m\u001b[0m \u001b[1m3s\u001b[0m 2ms/step - accuracy: 0.2790 - loss: 1.3825 - val_accuracy: 0.2857 - val_loss: 1.3840\n",
            "Epoch 31/325\n",
            "\u001b[1m873/873\u001b[0m \u001b[32m━━━━━━━━━━━━━━━━━━━━\u001b[0m\u001b[37m\u001b[0m \u001b[1m3s\u001b[0m 2ms/step - accuracy: 0.2887 - loss: 1.3811 - val_accuracy: 0.2935 - val_loss: 1.3832\n",
            "Epoch 32/325\n",
            "\u001b[1m873/873\u001b[0m \u001b[32m━━━━━━━━━━━━━━━━━━━━\u001b[0m\u001b[37m\u001b[0m \u001b[1m3s\u001b[0m 2ms/step - accuracy: 0.2960 - loss: 1.3810 - val_accuracy: 0.2840 - val_loss: 1.3831\n",
            "Epoch 33/325\n",
            "\u001b[1m873/873\u001b[0m \u001b[32m━━━━━━━━━━━━━━━━━━━━\u001b[0m\u001b[37m\u001b[0m \u001b[1m2s\u001b[0m 2ms/step - accuracy: 0.2936 - loss: 1.3809 - val_accuracy: 0.2978 - val_loss: 1.3830\n",
            "Epoch 34/325\n",
            "\u001b[1m873/873\u001b[0m \u001b[32m━━━━━━━━━━━━━━━━━━━━\u001b[0m\u001b[37m\u001b[0m \u001b[1m3s\u001b[0m 2ms/step - accuracy: 0.3050 - loss: 1.3804 - val_accuracy: 0.2926 - val_loss: 1.3831\n",
            "Epoch 35/325\n",
            "\u001b[1m873/873\u001b[0m \u001b[32m━━━━━━━━━━━━━━━━━━━━\u001b[0m\u001b[37m\u001b[0m \u001b[1m3s\u001b[0m 2ms/step - accuracy: 0.2843 - loss: 1.3811 - val_accuracy: 0.2909 - val_loss: 1.3831\n",
            "Epoch 36/325\n",
            "\u001b[1m873/873\u001b[0m \u001b[32m━━━━━━━━━━━━━━━━━━━━\u001b[0m\u001b[37m\u001b[0m \u001b[1m1s\u001b[0m 2ms/step - accuracy: 0.2814 - loss: 1.3814 - val_accuracy: 0.2892 - val_loss: 1.3829\n",
            "Epoch 37/325\n",
            "\u001b[1m873/873\u001b[0m \u001b[32m━━━━━━━━━━━━━━━━━━━━\u001b[0m\u001b[37m\u001b[0m \u001b[1m1s\u001b[0m 2ms/step - accuracy: 0.2994 - loss: 1.3811 - val_accuracy: 0.2874 - val_loss: 1.3830\n",
            "Epoch 38/325\n",
            "\u001b[1m873/873\u001b[0m \u001b[32m━━━━━━━━━━━━━━━━━━━━\u001b[0m\u001b[37m\u001b[0m \u001b[1m3s\u001b[0m 2ms/step - accuracy: 0.2975 - loss: 1.3805 - val_accuracy: 0.2849 - val_loss: 1.3833\n",
            "Epoch 39/325\n",
            "\u001b[1m873/873\u001b[0m \u001b[32m━━━━━━━━━━━━━━━━━━━━\u001b[0m\u001b[37m\u001b[0m \u001b[1m2s\u001b[0m 1ms/step - accuracy: 0.2916 - loss: 1.3812 - val_accuracy: 0.2909 - val_loss: 1.3827\n",
            "Epoch 40/325\n",
            "\u001b[1m873/873\u001b[0m \u001b[32m━━━━━━━━━━━━━━━━━━━━\u001b[0m\u001b[37m\u001b[0m \u001b[1m3s\u001b[0m 1ms/step - accuracy: 0.2969 - loss: 1.3800 - val_accuracy: 0.2926 - val_loss: 1.3822\n",
            "Epoch 41/325\n",
            "\u001b[1m873/873\u001b[0m \u001b[32m━━━━━━━━━━━━━━━━━━━━\u001b[0m\u001b[37m\u001b[0m \u001b[1m1s\u001b[0m 2ms/step - accuracy: 0.3070 - loss: 1.3795 - val_accuracy: 0.2909 - val_loss: 1.3823\n",
            "Epoch 42/325\n",
            "\u001b[1m873/873\u001b[0m \u001b[32m━━━━━━━━━━━━━━━━━━━━\u001b[0m\u001b[37m\u001b[0m \u001b[1m3s\u001b[0m 2ms/step - accuracy: 0.3117 - loss: 1.3793 - val_accuracy: 0.2849 - val_loss: 1.3824\n",
            "Epoch 43/325\n",
            "\u001b[1m873/873\u001b[0m \u001b[32m━━━━━━━━━━━━━━━━━━━━\u001b[0m\u001b[37m\u001b[0m \u001b[1m3s\u001b[0m 2ms/step - accuracy: 0.3049 - loss: 1.3795 - val_accuracy: 0.2857 - val_loss: 1.3821\n",
            "Epoch 44/325\n",
            "\u001b[1m873/873\u001b[0m \u001b[32m━━━━━━━━━━━━━━━━━━━━\u001b[0m\u001b[37m\u001b[0m \u001b[1m2s\u001b[0m 2ms/step - accuracy: 0.3108 - loss: 1.3787 - val_accuracy: 0.2909 - val_loss: 1.3823\n",
            "Epoch 45/325\n",
            "\u001b[1m873/873\u001b[0m \u001b[32m━━━━━━━━━━━━━━━━━━━━\u001b[0m\u001b[37m\u001b[0m \u001b[1m2s\u001b[0m 1ms/step - accuracy: 0.2921 - loss: 1.3796 - val_accuracy: 0.2969 - val_loss: 1.3821\n",
            "Epoch 46/325\n",
            "\u001b[1m873/873\u001b[0m \u001b[32m━━━━━━━━━━━━━━━━━━━━\u001b[0m\u001b[37m\u001b[0m \u001b[1m3s\u001b[0m 2ms/step - accuracy: 0.3157 - loss: 1.3783 - val_accuracy: 0.2857 - val_loss: 1.3823\n",
            "Epoch 47/325\n",
            "\u001b[1m873/873\u001b[0m \u001b[32m━━━━━━━━━━━━━━━━━━━━\u001b[0m\u001b[37m\u001b[0m \u001b[1m1s\u001b[0m 2ms/step - accuracy: 0.3014 - loss: 1.3785 - val_accuracy: 0.3072 - val_loss: 1.3814\n",
            "Epoch 48/325\n",
            "\u001b[1m873/873\u001b[0m \u001b[32m━━━━━━━━━━━━━━━━━━━━\u001b[0m\u001b[37m\u001b[0m \u001b[1m3s\u001b[0m 2ms/step - accuracy: 0.3106 - loss: 1.3782 - val_accuracy: 0.2917 - val_loss: 1.3815\n",
            "Epoch 49/325\n",
            "\u001b[1m873/873\u001b[0m \u001b[32m━━━━━━━━━━━━━━━━━━━━\u001b[0m\u001b[37m\u001b[0m \u001b[1m3s\u001b[0m 2ms/step - accuracy: 0.3039 - loss: 1.3781 - val_accuracy: 0.2960 - val_loss: 1.3820\n",
            "Epoch 50/325\n",
            "\u001b[1m873/873\u001b[0m \u001b[32m━━━━━━━━━━━━━━━━━━━━\u001b[0m\u001b[37m\u001b[0m \u001b[1m2s\u001b[0m 2ms/step - accuracy: 0.2952 - loss: 1.3786 - val_accuracy: 0.2969 - val_loss: 1.3819\n",
            "Epoch 51/325\n",
            "\u001b[1m873/873\u001b[0m \u001b[32m━━━━━━━━━━━━━━━━━━━━\u001b[0m\u001b[37m\u001b[0m \u001b[1m3s\u001b[0m 2ms/step - accuracy: 0.3013 - loss: 1.3779 - val_accuracy: 0.3021 - val_loss: 1.3809\n",
            "Epoch 52/325\n",
            "\u001b[1m873/873\u001b[0m \u001b[32m━━━━━━━━━━━━━━━━━━━━\u001b[0m\u001b[37m\u001b[0m \u001b[1m1s\u001b[0m 1ms/step - accuracy: 0.3176 - loss: 1.3774 - val_accuracy: 0.2978 - val_loss: 1.3810\n",
            "Epoch 53/325\n",
            "\u001b[1m873/873\u001b[0m \u001b[32m━━━━━━━━━━━━━━━━━━━━\u001b[0m\u001b[37m\u001b[0m \u001b[1m3s\u001b[0m 2ms/step - accuracy: 0.3070 - loss: 1.3773 - val_accuracy: 0.2978 - val_loss: 1.3812\n",
            "Epoch 54/325\n",
            "\u001b[1m873/873\u001b[0m \u001b[32m━━━━━━━━━━━━━━━━━━━━\u001b[0m\u001b[37m\u001b[0m \u001b[1m3s\u001b[0m 2ms/step - accuracy: 0.3131 - loss: 1.3767 - val_accuracy: 0.2986 - val_loss: 1.3805\n",
            "Epoch 55/325\n",
            "\u001b[1m873/873\u001b[0m \u001b[32m━━━━━━━━━━━━━━━━━━━━\u001b[0m\u001b[37m\u001b[0m \u001b[1m2s\u001b[0m 1ms/step - accuracy: 0.3100 - loss: 1.3776 - val_accuracy: 0.2995 - val_loss: 1.3813\n",
            "Epoch 56/325\n",
            "\u001b[1m873/873\u001b[0m \u001b[32m━━━━━━━━━━━━━━━━━━━━\u001b[0m\u001b[37m\u001b[0m \u001b[1m3s\u001b[0m 2ms/step - accuracy: 0.3077 - loss: 1.3763 - val_accuracy: 0.3098 - val_loss: 1.3802\n",
            "Epoch 57/325\n",
            "\u001b[1m873/873\u001b[0m \u001b[32m━━━━━━━━━━━━━━━━━━━━\u001b[0m\u001b[37m\u001b[0m \u001b[1m1s\u001b[0m 2ms/step - accuracy: 0.3149 - loss: 1.3769 - val_accuracy: 0.3046 - val_loss: 1.3804\n",
            "Epoch 58/325\n",
            "\u001b[1m873/873\u001b[0m \u001b[32m━━━━━━━━━━━━━━━━━━━━\u001b[0m\u001b[37m\u001b[0m \u001b[1m2s\u001b[0m 1ms/step - accuracy: 0.3108 - loss: 1.3755 - val_accuracy: 0.3081 - val_loss: 1.3796\n",
            "Epoch 59/325\n",
            "\u001b[1m873/873\u001b[0m \u001b[32m━━━━━━━━━━━━━━━━━━━━\u001b[0m\u001b[37m\u001b[0m \u001b[1m3s\u001b[0m 2ms/step - accuracy: 0.3195 - loss: 1.3762 - val_accuracy: 0.3081 - val_loss: 1.3796\n",
            "Epoch 60/325\n",
            "\u001b[1m873/873\u001b[0m \u001b[32m━━━━━━━━━━━━━━━━━━━━\u001b[0m\u001b[37m\u001b[0m \u001b[1m2s\u001b[0m 2ms/step - accuracy: 0.3151 - loss: 1.3763 - val_accuracy: 0.3167 - val_loss: 1.3791\n",
            "Epoch 61/325\n",
            "\u001b[1m873/873\u001b[0m \u001b[32m━━━━━━━━━━━━━━━━━━━━\u001b[0m\u001b[37m\u001b[0m \u001b[1m2s\u001b[0m 2ms/step - accuracy: 0.3149 - loss: 1.3752 - val_accuracy: 0.3072 - val_loss: 1.3793\n",
            "Epoch 62/325\n",
            "\u001b[1m873/873\u001b[0m \u001b[32m━━━━━━━━━━━━━━━━━━━━\u001b[0m\u001b[37m\u001b[0m \u001b[1m2s\u001b[0m 2ms/step - accuracy: 0.3213 - loss: 1.3744 - val_accuracy: 0.3064 - val_loss: 1.3788\n",
            "Epoch 63/325\n",
            "\u001b[1m873/873\u001b[0m \u001b[32m━━━━━━━━━━━━━━━━━━━━\u001b[0m\u001b[37m\u001b[0m \u001b[1m1s\u001b[0m 2ms/step - accuracy: 0.3304 - loss: 1.3740 - val_accuracy: 0.2926 - val_loss: 1.3799\n",
            "Epoch 64/325\n",
            "\u001b[1m873/873\u001b[0m \u001b[32m━━━━━━━━━━━━━━━━━━━━\u001b[0m\u001b[37m\u001b[0m \u001b[1m1s\u001b[0m 1ms/step - accuracy: 0.3065 - loss: 1.3751 - val_accuracy: 0.2969 - val_loss: 1.3790\n",
            "Epoch 65/325\n",
            "\u001b[1m873/873\u001b[0m \u001b[32m━━━━━━━━━━━━━━━━━━━━\u001b[0m\u001b[37m\u001b[0m \u001b[1m3s\u001b[0m 2ms/step - accuracy: 0.3226 - loss: 1.3732 - val_accuracy: 0.3176 - val_loss: 1.3780\n",
            "Epoch 66/325\n",
            "\u001b[1m873/873\u001b[0m \u001b[32m━━━━━━━━━━━━━━━━━━━━\u001b[0m\u001b[37m\u001b[0m \u001b[1m1s\u001b[0m 2ms/step - accuracy: 0.3274 - loss: 1.3740 - val_accuracy: 0.2978 - val_loss: 1.3791\n",
            "Epoch 67/325\n",
            "\u001b[1m873/873\u001b[0m \u001b[32m━━━━━━━━━━━━━━━━━━━━\u001b[0m\u001b[37m\u001b[0m \u001b[1m3s\u001b[0m 2ms/step - accuracy: 0.3208 - loss: 1.3718 - val_accuracy: 0.3046 - val_loss: 1.3776\n",
            "Epoch 68/325\n",
            "\u001b[1m873/873\u001b[0m \u001b[32m━━━━━━━━━━━━━━━━━━━━\u001b[0m\u001b[37m\u001b[0m \u001b[1m2s\u001b[0m 2ms/step - accuracy: 0.3239 - loss: 1.3727 - val_accuracy: 0.3055 - val_loss: 1.3786\n",
            "Epoch 69/325\n",
            "\u001b[1m873/873\u001b[0m \u001b[32m━━━━━━━━━━━━━━━━━━━━\u001b[0m\u001b[37m\u001b[0m \u001b[1m2s\u001b[0m 1ms/step - accuracy: 0.3251 - loss: 1.3725 - val_accuracy: 0.3064 - val_loss: 1.3773\n",
            "Epoch 70/325\n",
            "\u001b[1m873/873\u001b[0m \u001b[32m━━━━━━━━━━━━━━━━━━━━\u001b[0m\u001b[37m\u001b[0m \u001b[1m2s\u001b[0m 1ms/step - accuracy: 0.3207 - loss: 1.3719 - val_accuracy: 0.3141 - val_loss: 1.3768\n",
            "Epoch 71/325\n",
            "\u001b[1m873/873\u001b[0m \u001b[32m━━━━━━━━━━━━━━━━━━━━\u001b[0m\u001b[37m\u001b[0m \u001b[1m1s\u001b[0m 1ms/step - accuracy: 0.3206 - loss: 1.3702 - val_accuracy: 0.3133 - val_loss: 1.3771\n",
            "Epoch 72/325\n",
            "\u001b[1m873/873\u001b[0m \u001b[32m━━━━━━━━━━━━━━━━━━━━\u001b[0m\u001b[37m\u001b[0m \u001b[1m3s\u001b[0m 2ms/step - accuracy: 0.3170 - loss: 1.3716 - val_accuracy: 0.3253 - val_loss: 1.3765\n",
            "Epoch 73/325\n",
            "\u001b[1m873/873\u001b[0m \u001b[32m━━━━━━━━━━━━━━━━━━━━\u001b[0m\u001b[37m\u001b[0m \u001b[1m3s\u001b[0m 2ms/step - accuracy: 0.3361 - loss: 1.3702 - val_accuracy: 0.3210 - val_loss: 1.3758\n",
            "Epoch 74/325\n",
            "\u001b[1m873/873\u001b[0m \u001b[32m━━━━━━━━━━━━━━━━━━━━\u001b[0m\u001b[37m\u001b[0m \u001b[1m2s\u001b[0m 2ms/step - accuracy: 0.3215 - loss: 1.3709 - val_accuracy: 0.3219 - val_loss: 1.3757\n",
            "Epoch 75/325\n",
            "\u001b[1m873/873\u001b[0m \u001b[32m━━━━━━━━━━━━━━━━━━━━\u001b[0m\u001b[37m\u001b[0m \u001b[1m1s\u001b[0m 2ms/step - accuracy: 0.3245 - loss: 1.3711 - val_accuracy: 0.3055 - val_loss: 1.3763\n",
            "Epoch 76/325\n",
            "\u001b[1m873/873\u001b[0m \u001b[32m━━━━━━━━━━━━━━━━━━━━\u001b[0m\u001b[37m\u001b[0m \u001b[1m3s\u001b[0m 2ms/step - accuracy: 0.3362 - loss: 1.3693 - val_accuracy: 0.3184 - val_loss: 1.3751\n",
            "Epoch 77/325\n",
            "\u001b[1m873/873\u001b[0m \u001b[32m━━━━━━━━━━━━━━━━━━━━\u001b[0m\u001b[37m\u001b[0m \u001b[1m2s\u001b[0m 1ms/step - accuracy: 0.3342 - loss: 1.3691 - val_accuracy: 0.3176 - val_loss: 1.3749\n",
            "Epoch 78/325\n",
            "\u001b[1m873/873\u001b[0m \u001b[32m━━━━━━━━━━━━━━━━━━━━\u001b[0m\u001b[37m\u001b[0m \u001b[1m1s\u001b[0m 2ms/step - accuracy: 0.3325 - loss: 1.3670 - val_accuracy: 0.3305 - val_loss: 1.3742\n",
            "Epoch 79/325\n",
            "\u001b[1m873/873\u001b[0m \u001b[32m━━━━━━━━━━━━━━━━━━━━\u001b[0m\u001b[37m\u001b[0m \u001b[1m3s\u001b[0m 2ms/step - accuracy: 0.3385 - loss: 1.3680 - val_accuracy: 0.3133 - val_loss: 1.3746\n",
            "Epoch 80/325\n",
            "\u001b[1m873/873\u001b[0m \u001b[32m━━━━━━━━━━━━━━━━━━━━\u001b[0m\u001b[37m\u001b[0m \u001b[1m1s\u001b[0m 1ms/step - accuracy: 0.3446 - loss: 1.3664 - val_accuracy: 0.3064 - val_loss: 1.3746\n",
            "Epoch 81/325\n",
            "\u001b[1m873/873\u001b[0m \u001b[32m━━━━━━━━━━━━━━━━━━━━\u001b[0m\u001b[37m\u001b[0m \u001b[1m3s\u001b[0m 1ms/step - accuracy: 0.3410 - loss: 1.3670 - val_accuracy: 0.3098 - val_loss: 1.3740\n",
            "Epoch 82/325\n",
            "\u001b[1m873/873\u001b[0m \u001b[32m━━━━━━━━━━━━━━━━━━━━\u001b[0m\u001b[37m\u001b[0m \u001b[1m3s\u001b[0m 1ms/step - accuracy: 0.3332 - loss: 1.3671 - val_accuracy: 0.3296 - val_loss: 1.3728\n",
            "Epoch 83/325\n",
            "\u001b[1m873/873\u001b[0m \u001b[32m━━━━━━━━━━━━━━━━━━━━\u001b[0m\u001b[37m\u001b[0m \u001b[1m3s\u001b[0m 1ms/step - accuracy: 0.3433 - loss: 1.3660 - val_accuracy: 0.3038 - val_loss: 1.3741\n",
            "Epoch 84/325\n",
            "\u001b[1m873/873\u001b[0m \u001b[32m━━━━━━━━━━━━━━━━━━━━\u001b[0m\u001b[37m\u001b[0m \u001b[1m3s\u001b[0m 2ms/step - accuracy: 0.3209 - loss: 1.3649 - val_accuracy: 0.3133 - val_loss: 1.3726\n",
            "Epoch 85/325\n",
            "\u001b[1m873/873\u001b[0m \u001b[32m━━━━━━━━━━━━━━━━━━━━\u001b[0m\u001b[37m\u001b[0m \u001b[1m2s\u001b[0m 2ms/step - accuracy: 0.3442 - loss: 1.3629 - val_accuracy: 0.3210 - val_loss: 1.3718\n",
            "Epoch 86/325\n",
            "\u001b[1m873/873\u001b[0m \u001b[32m━━━━━━━━━━━━━━━━━━━━\u001b[0m\u001b[37m\u001b[0m \u001b[1m2s\u001b[0m 1ms/step - accuracy: 0.3345 - loss: 1.3648 - val_accuracy: 0.3313 - val_loss: 1.3711\n",
            "Epoch 87/325\n",
            "\u001b[1m873/873\u001b[0m \u001b[32m━━━━━━━━━━━━━━━━━━━━\u001b[0m\u001b[37m\u001b[0m \u001b[1m1s\u001b[0m 2ms/step - accuracy: 0.3454 - loss: 1.3637 - val_accuracy: 0.3055 - val_loss: 1.3721\n",
            "Epoch 88/325\n",
            "\u001b[1m873/873\u001b[0m \u001b[32m━━━━━━━━━━━━━━━━━━━━\u001b[0m\u001b[37m\u001b[0m \u001b[1m3s\u001b[0m 2ms/step - accuracy: 0.3404 - loss: 1.3635 - val_accuracy: 0.3287 - val_loss: 1.3704\n",
            "Epoch 89/325\n",
            "\u001b[1m873/873\u001b[0m \u001b[32m━━━━━━━━━━━━━━━━━━━━\u001b[0m\u001b[37m\u001b[0m \u001b[1m3s\u001b[0m 2ms/step - accuracy: 0.3382 - loss: 1.3636 - val_accuracy: 0.3305 - val_loss: 1.3696\n",
            "Epoch 90/325\n",
            "\u001b[1m873/873\u001b[0m \u001b[32m━━━━━━━━━━━━━━━━━━━━\u001b[0m\u001b[37m\u001b[0m \u001b[1m2s\u001b[0m 2ms/step - accuracy: 0.3353 - loss: 1.3622 - val_accuracy: 0.3236 - val_loss: 1.3692\n",
            "Epoch 91/325\n",
            "\u001b[1m873/873\u001b[0m \u001b[32m━━━━━━━━━━━━━━━━━━━━\u001b[0m\u001b[37m\u001b[0m \u001b[1m2s\u001b[0m 2ms/step - accuracy: 0.3517 - loss: 1.3588 - val_accuracy: 0.3176 - val_loss: 1.3691\n",
            "Epoch 92/325\n",
            "\u001b[1m873/873\u001b[0m \u001b[32m━━━━━━━━━━━━━━━━━━━━\u001b[0m\u001b[37m\u001b[0m \u001b[1m2s\u001b[0m 1ms/step - accuracy: 0.3400 - loss: 1.3575 - val_accuracy: 0.3322 - val_loss: 1.3686\n",
            "Epoch 93/325\n",
            "\u001b[1m873/873\u001b[0m \u001b[32m━━━━━━━━━━━━━━━━━━━━\u001b[0m\u001b[37m\u001b[0m \u001b[1m3s\u001b[0m 2ms/step - accuracy: 0.3358 - loss: 1.3613 - val_accuracy: 0.3219 - val_loss: 1.3682\n",
            "Epoch 94/325\n",
            "\u001b[1m873/873\u001b[0m \u001b[32m━━━━━━━━━━━━━━━━━━━━\u001b[0m\u001b[37m\u001b[0m \u001b[1m3s\u001b[0m 2ms/step - accuracy: 0.3510 - loss: 1.3571 - val_accuracy: 0.3236 - val_loss: 1.3679\n",
            "Epoch 95/325\n",
            "\u001b[1m873/873\u001b[0m \u001b[32m━━━━━━━━━━━━━━━━━━━━\u001b[0m\u001b[37m\u001b[0m \u001b[1m1s\u001b[0m 1ms/step - accuracy: 0.3457 - loss: 1.3582 - val_accuracy: 0.3339 - val_loss: 1.3666\n",
            "Epoch 96/325\n",
            "\u001b[1m873/873\u001b[0m \u001b[32m━━━━━━━━━━━━━━━━━━━━\u001b[0m\u001b[37m\u001b[0m \u001b[1m1s\u001b[0m 2ms/step - accuracy: 0.3447 - loss: 1.3570 - val_accuracy: 0.3287 - val_loss: 1.3657\n",
            "Epoch 97/325\n",
            "\u001b[1m873/873\u001b[0m \u001b[32m━━━━━━━━━━━━━━━━━━━━\u001b[0m\u001b[37m\u001b[0m \u001b[1m3s\u001b[0m 2ms/step - accuracy: 0.3491 - loss: 1.3564 - val_accuracy: 0.3322 - val_loss: 1.3653\n",
            "Epoch 98/325\n",
            "\u001b[1m873/873\u001b[0m \u001b[32m━━━━━━━━━━━━━━━━━━━━\u001b[0m\u001b[37m\u001b[0m \u001b[1m2s\u001b[0m 2ms/step - accuracy: 0.3417 - loss: 1.3558 - val_accuracy: 0.3451 - val_loss: 1.3645\n",
            "Epoch 99/325\n",
            "\u001b[1m873/873\u001b[0m \u001b[32m━━━━━━━━━━━━━━━━━━━━\u001b[0m\u001b[37m\u001b[0m \u001b[1m3s\u001b[0m 2ms/step - accuracy: 0.3470 - loss: 1.3554 - val_accuracy: 0.3356 - val_loss: 1.3637\n",
            "Epoch 100/325\n",
            "\u001b[1m873/873\u001b[0m \u001b[32m━━━━━━━━━━━━━━━━━━━━\u001b[0m\u001b[37m\u001b[0m \u001b[1m1s\u001b[0m 1ms/step - accuracy: 0.3419 - loss: 1.3526 - val_accuracy: 0.3365 - val_loss: 1.3629\n",
            "Epoch 101/325\n",
            "\u001b[1m873/873\u001b[0m \u001b[32m━━━━━━━━━━━━━━━━━━━━\u001b[0m\u001b[37m\u001b[0m \u001b[1m3s\u001b[0m 2ms/step - accuracy: 0.3416 - loss: 1.3524 - val_accuracy: 0.3356 - val_loss: 1.3625\n",
            "Epoch 102/325\n",
            "\u001b[1m873/873\u001b[0m \u001b[32m━━━━━━━━━━━━━━━━━━━━\u001b[0m\u001b[37m\u001b[0m \u001b[1m3s\u001b[0m 2ms/step - accuracy: 0.3428 - loss: 1.3532 - val_accuracy: 0.3494 - val_loss: 1.3615\n",
            "Epoch 103/325\n",
            "\u001b[1m873/873\u001b[0m \u001b[32m━━━━━━━━━━━━━━━━━━━━\u001b[0m\u001b[37m\u001b[0m \u001b[1m2s\u001b[0m 2ms/step - accuracy: 0.3511 - loss: 1.3529 - val_accuracy: 0.3356 - val_loss: 1.3618\n",
            "Epoch 104/325\n",
            "\u001b[1m873/873\u001b[0m \u001b[32m━━━━━━━━━━━━━━━━━━━━\u001b[0m\u001b[37m\u001b[0m \u001b[1m2s\u001b[0m 1ms/step - accuracy: 0.3537 - loss: 1.3476 - val_accuracy: 0.3279 - val_loss: 1.3614\n",
            "Epoch 105/325\n",
            "\u001b[1m873/873\u001b[0m \u001b[32m━━━━━━━━━━━━━━━━━━━━\u001b[0m\u001b[37m\u001b[0m \u001b[1m1s\u001b[0m 2ms/step - accuracy: 0.3412 - loss: 1.3516 - val_accuracy: 0.3434 - val_loss: 1.3590\n",
            "Epoch 106/325\n",
            "\u001b[1m873/873\u001b[0m \u001b[32m━━━━━━━━━━━━━━━━━━━━\u001b[0m\u001b[37m\u001b[0m \u001b[1m2s\u001b[0m 1ms/step - accuracy: 0.3594 - loss: 1.3496 - val_accuracy: 0.3485 - val_loss: 1.3586\n",
            "Epoch 107/325\n",
            "\u001b[1m873/873\u001b[0m \u001b[32m━━━━━━━━━━━━━━━━━━━━\u001b[0m\u001b[37m\u001b[0m \u001b[1m3s\u001b[0m 1ms/step - accuracy: 0.3481 - loss: 1.3459 - val_accuracy: 0.3468 - val_loss: 1.3575\n",
            "Epoch 108/325\n",
            "\u001b[1m873/873\u001b[0m \u001b[32m━━━━━━━━━━━━━━━━━━━━\u001b[0m\u001b[37m\u001b[0m \u001b[1m2s\u001b[0m 2ms/step - accuracy: 0.3496 - loss: 1.3456 - val_accuracy: 0.3442 - val_loss: 1.3572\n",
            "Epoch 109/325\n",
            "\u001b[1m873/873\u001b[0m \u001b[32m━━━━━━━━━━━━━━━━━━━━\u001b[0m\u001b[37m\u001b[0m \u001b[1m3s\u001b[0m 2ms/step - accuracy: 0.3655 - loss: 1.3431 - val_accuracy: 0.3408 - val_loss: 1.3561\n",
            "Epoch 110/325\n",
            "\u001b[1m873/873\u001b[0m \u001b[32m━━━━━━━━━━━━━━━━━━━━\u001b[0m\u001b[37m\u001b[0m \u001b[1m2s\u001b[0m 1ms/step - accuracy: 0.3638 - loss: 1.3441 - val_accuracy: 0.3485 - val_loss: 1.3551\n",
            "Epoch 111/325\n",
            "\u001b[1m873/873\u001b[0m \u001b[32m━━━━━━━━━━━━━━━━━━━━\u001b[0m\u001b[37m\u001b[0m \u001b[1m3s\u001b[0m 2ms/step - accuracy: 0.3517 - loss: 1.3448 - val_accuracy: 0.3451 - val_loss: 1.3545\n",
            "Epoch 112/325\n",
            "\u001b[1m873/873\u001b[0m \u001b[32m━━━━━━━━━━━━━━━━━━━━\u001b[0m\u001b[37m\u001b[0m \u001b[1m3s\u001b[0m 2ms/step - accuracy: 0.3497 - loss: 1.3437 - val_accuracy: 0.3365 - val_loss: 1.3553\n",
            "Epoch 113/325\n",
            "\u001b[1m873/873\u001b[0m \u001b[32m━━━━━━━━━━━━━━━━━━━━\u001b[0m\u001b[37m\u001b[0m \u001b[1m1s\u001b[0m 2ms/step - accuracy: 0.3679 - loss: 1.3392 - val_accuracy: 0.3356 - val_loss: 1.3531\n",
            "Epoch 114/325\n",
            "\u001b[1m873/873\u001b[0m \u001b[32m━━━━━━━━━━━━━━━━━━━━\u001b[0m\u001b[37m\u001b[0m \u001b[1m2s\u001b[0m 2ms/step - accuracy: 0.3669 - loss: 1.3381 - val_accuracy: 0.3227 - val_loss: 1.3536\n",
            "Epoch 115/325\n",
            "\u001b[1m873/873\u001b[0m \u001b[32m━━━━━━━━━━━━━━━━━━━━\u001b[0m\u001b[37m\u001b[0m \u001b[1m3s\u001b[0m 2ms/step - accuracy: 0.3564 - loss: 1.3361 - val_accuracy: 0.3270 - val_loss: 1.3528\n",
            "Epoch 116/325\n",
            "\u001b[1m873/873\u001b[0m \u001b[32m━━━━━━━━━━━━━━━━━━━━\u001b[0m\u001b[37m\u001b[0m \u001b[1m1s\u001b[0m 2ms/step - accuracy: 0.3615 - loss: 1.3375 - val_accuracy: 0.3528 - val_loss: 1.3493\n",
            "Epoch 117/325\n",
            "\u001b[1m873/873\u001b[0m \u001b[32m━━━━━━━━━━━━━━━━━━━━\u001b[0m\u001b[37m\u001b[0m \u001b[1m2s\u001b[0m 1ms/step - accuracy: 0.3544 - loss: 1.3382 - val_accuracy: 0.3511 - val_loss: 1.3479\n",
            "Epoch 118/325\n",
            "\u001b[1m873/873\u001b[0m \u001b[32m━━━━━━━━━━━━━━━━━━━━\u001b[0m\u001b[37m\u001b[0m \u001b[1m3s\u001b[0m 1ms/step - accuracy: 0.3567 - loss: 1.3348 - val_accuracy: 0.3408 - val_loss: 1.3493\n",
            "Epoch 119/325\n",
            "\u001b[1m873/873\u001b[0m \u001b[32m━━━━━━━━━━━━━━━━━━━━\u001b[0m\u001b[37m\u001b[0m \u001b[1m3s\u001b[0m 1ms/step - accuracy: 0.3652 - loss: 1.3343 - val_accuracy: 0.3339 - val_loss: 1.3491\n",
            "Epoch 120/325\n",
            "\u001b[1m873/873\u001b[0m \u001b[32m━━━━━━━━━━━━━━━━━━━━\u001b[0m\u001b[37m\u001b[0m \u001b[1m4s\u001b[0m 3ms/step - accuracy: 0.3584 - loss: 1.3301 - val_accuracy: 0.3563 - val_loss: 1.3446\n",
            "Epoch 121/325\n",
            "\u001b[1m873/873\u001b[0m \u001b[32m━━━━━━━━━━━━━━━━━━━━\u001b[0m\u001b[37m\u001b[0m \u001b[1m4s\u001b[0m 2ms/step - accuracy: 0.3547 - loss: 1.3316 - val_accuracy: 0.3503 - val_loss: 1.3446\n",
            "Epoch 122/325\n",
            "\u001b[1m873/873\u001b[0m \u001b[32m━━━━━━━━━━━━━━━━━━━━\u001b[0m\u001b[37m\u001b[0m \u001b[1m2s\u001b[0m 2ms/step - accuracy: 0.3695 - loss: 1.3283 - val_accuracy: 0.3520 - val_loss: 1.3436\n",
            "Epoch 123/325\n",
            "\u001b[1m873/873\u001b[0m \u001b[32m━━━━━━━━━━━━━━━━━━━━\u001b[0m\u001b[37m\u001b[0m \u001b[1m2s\u001b[0m 2ms/step - accuracy: 0.3724 - loss: 1.3283 - val_accuracy: 0.3520 - val_loss: 1.3416\n",
            "Epoch 124/325\n",
            "\u001b[1m873/873\u001b[0m \u001b[32m━━━━━━━━━━━━━━━━━━━━\u001b[0m\u001b[37m\u001b[0m \u001b[1m3s\u001b[0m 2ms/step - accuracy: 0.3732 - loss: 1.3265 - val_accuracy: 0.3468 - val_loss: 1.3415\n",
            "Epoch 125/325\n",
            "\u001b[1m873/873\u001b[0m \u001b[32m━━━━━━━━━━━━━━━━━━━━\u001b[0m\u001b[37m\u001b[0m \u001b[1m3s\u001b[0m 2ms/step - accuracy: 0.3639 - loss: 1.3263 - val_accuracy: 0.3554 - val_loss: 1.3398\n",
            "Epoch 126/325\n",
            "\u001b[1m873/873\u001b[0m \u001b[32m━━━━━━━━━━━━━━━━━━━━\u001b[0m\u001b[37m\u001b[0m \u001b[1m1s\u001b[0m 1ms/step - accuracy: 0.3688 - loss: 1.3243 - val_accuracy: 0.3460 - val_loss: 1.3397\n",
            "Epoch 127/325\n",
            "\u001b[1m873/873\u001b[0m \u001b[32m━━━━━━━━━━━━━━━━━━━━\u001b[0m\u001b[37m\u001b[0m \u001b[1m3s\u001b[0m 1ms/step - accuracy: 0.3695 - loss: 1.3205 - val_accuracy: 0.3460 - val_loss: 1.3383\n",
            "Epoch 128/325\n",
            "\u001b[1m873/873\u001b[0m \u001b[32m━━━━━━━━━━━━━━━━━━━━\u001b[0m\u001b[37m\u001b[0m \u001b[1m3s\u001b[0m 2ms/step - accuracy: 0.3786 - loss: 1.3199 - val_accuracy: 0.3356 - val_loss: 1.3390\n",
            "Epoch 129/325\n",
            "\u001b[1m873/873\u001b[0m \u001b[32m━━━━━━━━━━━━━━━━━━━━\u001b[0m\u001b[37m\u001b[0m \u001b[1m3s\u001b[0m 2ms/step - accuracy: 0.3676 - loss: 1.3181 - val_accuracy: 0.3597 - val_loss: 1.3338\n",
            "Epoch 130/325\n",
            "\u001b[1m873/873\u001b[0m \u001b[32m━━━━━━━━━━━━━━━━━━━━\u001b[0m\u001b[37m\u001b[0m \u001b[1m2s\u001b[0m 2ms/step - accuracy: 0.3775 - loss: 1.3129 - val_accuracy: 0.3597 - val_loss: 1.3325\n",
            "Epoch 131/325\n",
            "\u001b[1m873/873\u001b[0m \u001b[32m━━━━━━━━━━━━━━━━━━━━\u001b[0m\u001b[37m\u001b[0m \u001b[1m2s\u001b[0m 2ms/step - accuracy: 0.3715 - loss: 1.3150 - val_accuracy: 0.3451 - val_loss: 1.3320\n",
            "Epoch 132/325\n",
            "\u001b[1m873/873\u001b[0m \u001b[32m━━━━━━━━━━━━━━━━━━━━\u001b[0m\u001b[37m\u001b[0m \u001b[1m1s\u001b[0m 1ms/step - accuracy: 0.3704 - loss: 1.3149 - val_accuracy: 0.3356 - val_loss: 1.3361\n",
            "Epoch 133/325\n",
            "\u001b[1m873/873\u001b[0m \u001b[32m━━━━━━━━━━━━━━━━━━━━\u001b[0m\u001b[37m\u001b[0m \u001b[1m3s\u001b[0m 2ms/step - accuracy: 0.3740 - loss: 1.3143 - val_accuracy: 0.3597 - val_loss: 1.3275\n",
            "Epoch 134/325\n",
            "\u001b[1m873/873\u001b[0m \u001b[32m━━━━━━━━━━━━━━━━━━━━\u001b[0m\u001b[37m\u001b[0m \u001b[1m2s\u001b[0m 1ms/step - accuracy: 0.3828 - loss: 1.3098 - val_accuracy: 0.3580 - val_loss: 1.3274\n",
            "Epoch 135/325\n",
            "\u001b[1m873/873\u001b[0m \u001b[32m━━━━━━━━━━━━━━━━━━━━\u001b[0m\u001b[37m\u001b[0m \u001b[1m3s\u001b[0m 2ms/step - accuracy: 0.3797 - loss: 1.3095 - val_accuracy: 0.3442 - val_loss: 1.3281\n",
            "Epoch 136/325\n",
            "\u001b[1m873/873\u001b[0m \u001b[32m━━━━━━━━━━━━━━━━━━━━\u001b[0m\u001b[37m\u001b[0m \u001b[1m3s\u001b[0m 2ms/step - accuracy: 0.3885 - loss: 1.3030 - val_accuracy: 0.3649 - val_loss: 1.3226\n",
            "Epoch 137/325\n",
            "\u001b[1m873/873\u001b[0m \u001b[32m━━━━━━━━━━━━━━━━━━━━\u001b[0m\u001b[37m\u001b[0m \u001b[1m2s\u001b[0m 1ms/step - accuracy: 0.3830 - loss: 1.3035 - val_accuracy: 0.3632 - val_loss: 1.3221\n",
            "Epoch 138/325\n",
            "\u001b[1m873/873\u001b[0m \u001b[32m━━━━━━━━━━━━━━━━━━━━\u001b[0m\u001b[37m\u001b[0m \u001b[1m3s\u001b[0m 2ms/step - accuracy: 0.3776 - loss: 1.3012 - val_accuracy: 0.3701 - val_loss: 1.3187\n",
            "Epoch 139/325\n",
            "\u001b[1m873/873\u001b[0m \u001b[32m━━━━━━━━━━━━━━━━━━━━\u001b[0m\u001b[37m\u001b[0m \u001b[1m3s\u001b[0m 2ms/step - accuracy: 0.3817 - loss: 1.3012 - val_accuracy: 0.3614 - val_loss: 1.3191\n",
            "Epoch 140/325\n",
            "\u001b[1m873/873\u001b[0m \u001b[32m━━━━━━━━━━━━━━━━━━━━\u001b[0m\u001b[37m\u001b[0m \u001b[1m1s\u001b[0m 1ms/step - accuracy: 0.3862 - loss: 1.2940 - val_accuracy: 0.3787 - val_loss: 1.3156\n",
            "Epoch 141/325\n",
            "\u001b[1m873/873\u001b[0m \u001b[32m━━━━━━━━━━━━━━━━━━━━\u001b[0m\u001b[37m\u001b[0m \u001b[1m3s\u001b[0m 2ms/step - accuracy: 0.4012 - loss: 1.2930 - val_accuracy: 0.3787 - val_loss: 1.3134\n",
            "Epoch 142/325\n",
            "\u001b[1m873/873\u001b[0m \u001b[32m━━━━━━━━━━━━━━━━━━━━\u001b[0m\u001b[37m\u001b[0m \u001b[1m3s\u001b[0m 2ms/step - accuracy: 0.3843 - loss: 1.2981 - val_accuracy: 0.3614 - val_loss: 1.3130\n",
            "Epoch 143/325\n",
            "\u001b[1m873/873\u001b[0m \u001b[32m━━━━━━━━━━━━━━━━━━━━\u001b[0m\u001b[37m\u001b[0m \u001b[1m1s\u001b[0m 1ms/step - accuracy: 0.3791 - loss: 1.2932 - val_accuracy: 0.3752 - val_loss: 1.3089\n",
            "Epoch 144/325\n",
            "\u001b[1m873/873\u001b[0m \u001b[32m━━━━━━━━━━━━━━━━━━━━\u001b[0m\u001b[37m\u001b[0m \u001b[1m3s\u001b[0m 2ms/step - accuracy: 0.3914 - loss: 1.2862 - val_accuracy: 0.3787 - val_loss: 1.3067\n",
            "Epoch 145/325\n",
            "\u001b[1m873/873\u001b[0m \u001b[32m━━━━━━━━━━━━━━━━━━━━\u001b[0m\u001b[37m\u001b[0m \u001b[1m2s\u001b[0m 1ms/step - accuracy: 0.3899 - loss: 1.2852 - val_accuracy: 0.3666 - val_loss: 1.3050\n",
            "Epoch 146/325\n",
            "\u001b[1m873/873\u001b[0m \u001b[32m━━━━━━━━━━━━━━━━━━━━\u001b[0m\u001b[37m\u001b[0m \u001b[1m3s\u001b[0m 1ms/step - accuracy: 0.3944 - loss: 1.2833 - val_accuracy: 0.3718 - val_loss: 1.3035\n",
            "Epoch 147/325\n",
            "\u001b[1m873/873\u001b[0m \u001b[32m━━━━━━━━━━━━━━━━━━━━\u001b[0m\u001b[37m\u001b[0m \u001b[1m2s\u001b[0m 2ms/step - accuracy: 0.3968 - loss: 1.2760 - val_accuracy: 0.3666 - val_loss: 1.3004\n",
            "Epoch 148/325\n",
            "\u001b[1m873/873\u001b[0m \u001b[32m━━━━━━━━━━━━━━━━━━━━\u001b[0m\u001b[37m\u001b[0m \u001b[1m3s\u001b[0m 2ms/step - accuracy: 0.3805 - loss: 1.2868 - val_accuracy: 0.3812 - val_loss: 1.2972\n",
            "Epoch 149/325\n",
            "\u001b[1m873/873\u001b[0m \u001b[32m━━━━━━━━━━━━━━━━━━━━\u001b[0m\u001b[37m\u001b[0m \u001b[1m2s\u001b[0m 2ms/step - accuracy: 0.4003 - loss: 1.2827 - val_accuracy: 0.3726 - val_loss: 1.2967\n",
            "Epoch 150/325\n",
            "\u001b[1m873/873\u001b[0m \u001b[32m━━━━━━━━━━━━━━━━━━━━\u001b[0m\u001b[37m\u001b[0m \u001b[1m2s\u001b[0m 1ms/step - accuracy: 0.3994 - loss: 1.2687 - val_accuracy: 0.3795 - val_loss: 1.2923\n",
            "Epoch 151/325\n",
            "\u001b[1m873/873\u001b[0m \u001b[32m━━━━━━━━━━━━━━━━━━━━\u001b[0m\u001b[37m\u001b[0m \u001b[1m1s\u001b[0m 1ms/step - accuracy: 0.3896 - loss: 1.2693 - val_accuracy: 0.3830 - val_loss: 1.2890\n",
            "Epoch 152/325\n",
            "\u001b[1m873/873\u001b[0m \u001b[32m━━━━━━━━━━━━━━━━━━━━\u001b[0m\u001b[37m\u001b[0m \u001b[1m3s\u001b[0m 2ms/step - accuracy: 0.3931 - loss: 1.2628 - val_accuracy: 0.3830 - val_loss: 1.2871\n",
            "Epoch 153/325\n",
            "\u001b[1m873/873\u001b[0m \u001b[32m━━━━━━━━━━━━━━━━━━━━\u001b[0m\u001b[37m\u001b[0m \u001b[1m3s\u001b[0m 2ms/step - accuracy: 0.4018 - loss: 1.2655 - val_accuracy: 0.3718 - val_loss: 1.2850\n",
            "Epoch 154/325\n",
            "\u001b[1m873/873\u001b[0m \u001b[32m━━━━━━━━━━━━━━━━━━━━\u001b[0m\u001b[37m\u001b[0m \u001b[1m2s\u001b[0m 2ms/step - accuracy: 0.4011 - loss: 1.2650 - val_accuracy: 0.3838 - val_loss: 1.2807\n",
            "Epoch 155/325\n",
            "\u001b[1m873/873\u001b[0m \u001b[32m━━━━━━━━━━━━━━━━━━━━\u001b[0m\u001b[37m\u001b[0m \u001b[1m2s\u001b[0m 2ms/step - accuracy: 0.4082 - loss: 1.2584 - val_accuracy: 0.3821 - val_loss: 1.2773\n",
            "Epoch 156/325\n",
            "\u001b[1m873/873\u001b[0m \u001b[32m━━━━━━━━━━━━━━━━━━━━\u001b[0m\u001b[37m\u001b[0m \u001b[1m2s\u001b[0m 1ms/step - accuracy: 0.4164 - loss: 1.2491 - val_accuracy: 0.3864 - val_loss: 1.2745\n",
            "Epoch 157/325\n",
            "\u001b[1m873/873\u001b[0m \u001b[32m━━━━━━━━━━━━━━━━━━━━\u001b[0m\u001b[37m\u001b[0m \u001b[1m1s\u001b[0m 2ms/step - accuracy: 0.4008 - loss: 1.2542 - val_accuracy: 0.3812 - val_loss: 1.2753\n",
            "Epoch 158/325\n",
            "\u001b[1m873/873\u001b[0m \u001b[32m━━━━━━━━━━━━━━━━━━━━\u001b[0m\u001b[37m\u001b[0m \u001b[1m1s\u001b[0m 1ms/step - accuracy: 0.4114 - loss: 1.2476 - val_accuracy: 0.3881 - val_loss: 1.2677\n",
            "Epoch 159/325\n",
            "\u001b[1m873/873\u001b[0m \u001b[32m━━━━━━━━━━━━━━━━━━━━\u001b[0m\u001b[37m\u001b[0m \u001b[1m3s\u001b[0m 1ms/step - accuracy: 0.4104 - loss: 1.2483 - val_accuracy: 0.4114 - val_loss: 1.2654\n",
            "Epoch 160/325\n",
            "\u001b[1m873/873\u001b[0m \u001b[32m━━━━━━━━━━━━━━━━━━━━\u001b[0m\u001b[37m\u001b[0m \u001b[1m3s\u001b[0m 2ms/step - accuracy: 0.4245 - loss: 1.2447 - val_accuracy: 0.3933 - val_loss: 1.2618\n",
            "Epoch 161/325\n",
            "\u001b[1m873/873\u001b[0m \u001b[32m━━━━━━━━━━━━━━━━━━━━\u001b[0m\u001b[37m\u001b[0m \u001b[1m2s\u001b[0m 2ms/step - accuracy: 0.4292 - loss: 1.2352 - val_accuracy: 0.4053 - val_loss: 1.2578\n",
            "Epoch 162/325\n",
            "\u001b[1m873/873\u001b[0m \u001b[32m━━━━━━━━━━━━━━━━━━━━\u001b[0m\u001b[37m\u001b[0m \u001b[1m2s\u001b[0m 2ms/step - accuracy: 0.4267 - loss: 1.2396 - val_accuracy: 0.4122 - val_loss: 1.2550\n",
            "Epoch 163/325\n",
            "\u001b[1m873/873\u001b[0m \u001b[32m━━━━━━━━━━━━━━━━━━━━\u001b[0m\u001b[37m\u001b[0m \u001b[1m2s\u001b[0m 1ms/step - accuracy: 0.4295 - loss: 1.2284 - val_accuracy: 0.4148 - val_loss: 1.2521\n",
            "Epoch 164/325\n",
            "\u001b[1m873/873\u001b[0m \u001b[32m━━━━━━━━━━━━━━━━━━━━\u001b[0m\u001b[37m\u001b[0m \u001b[1m1s\u001b[0m 1ms/step - accuracy: 0.4403 - loss: 1.2257 - val_accuracy: 0.4079 - val_loss: 1.2474\n",
            "Epoch 165/325\n",
            "\u001b[1m873/873\u001b[0m \u001b[32m━━━━━━━━━━━━━━━━━━━━\u001b[0m\u001b[37m\u001b[0m \u001b[1m1s\u001b[0m 2ms/step - accuracy: 0.4349 - loss: 1.2239 - val_accuracy: 0.4165 - val_loss: 1.2436\n",
            "Epoch 166/325\n",
            "\u001b[1m873/873\u001b[0m \u001b[32m━━━━━━━━━━━━━━━━━━━━\u001b[0m\u001b[37m\u001b[0m \u001b[1m3s\u001b[0m 2ms/step - accuracy: 0.4395 - loss: 1.2173 - val_accuracy: 0.4200 - val_loss: 1.2402\n",
            "Epoch 167/325\n",
            "\u001b[1m873/873\u001b[0m \u001b[32m━━━━━━━━━━━━━━━━━━━━\u001b[0m\u001b[37m\u001b[0m \u001b[1m3s\u001b[0m 2ms/step - accuracy: 0.4326 - loss: 1.2200 - val_accuracy: 0.4312 - val_loss: 1.2402\n",
            "Epoch 168/325\n",
            "\u001b[1m873/873\u001b[0m \u001b[32m━━━━━━━━━━━━━━━━━━━━\u001b[0m\u001b[37m\u001b[0m \u001b[1m2s\u001b[0m 2ms/step - accuracy: 0.4283 - loss: 1.2137 - val_accuracy: 0.3985 - val_loss: 1.2373\n",
            "Epoch 169/325\n",
            "\u001b[1m873/873\u001b[0m \u001b[32m━━━━━━━━━━━━━━━━━━━━\u001b[0m\u001b[37m\u001b[0m \u001b[1m3s\u001b[0m 2ms/step - accuracy: 0.4329 - loss: 1.2089 - val_accuracy: 0.4139 - val_loss: 1.2292\n",
            "Epoch 170/325\n",
            "\u001b[1m873/873\u001b[0m \u001b[32m━━━━━━━━━━━━━━━━━━━━\u001b[0m\u001b[37m\u001b[0m \u001b[1m3s\u001b[0m 2ms/step - accuracy: 0.4347 - loss: 1.2072 - val_accuracy: 0.4045 - val_loss: 1.2281\n",
            "Epoch 171/325\n",
            "\u001b[1m873/873\u001b[0m \u001b[32m━━━━━━━━━━━━━━━━━━━━\u001b[0m\u001b[37m\u001b[0m \u001b[1m1s\u001b[0m 2ms/step - accuracy: 0.4253 - loss: 1.2070 - val_accuracy: 0.4303 - val_loss: 1.2239\n",
            "Epoch 172/325\n",
            "\u001b[1m873/873\u001b[0m \u001b[32m━━━━━━━━━━━━━━━━━━━━\u001b[0m\u001b[37m\u001b[0m \u001b[1m3s\u001b[0m 2ms/step - accuracy: 0.4438 - loss: 1.1954 - val_accuracy: 0.4269 - val_loss: 1.2184\n",
            "Epoch 173/325\n",
            "\u001b[1m873/873\u001b[0m \u001b[32m━━━━━━━━━━━━━━━━━━━━\u001b[0m\u001b[37m\u001b[0m \u001b[1m2s\u001b[0m 2ms/step - accuracy: 0.4386 - loss: 1.1934 - val_accuracy: 0.4329 - val_loss: 1.2178\n",
            "Epoch 174/325\n",
            "\u001b[1m873/873\u001b[0m \u001b[32m━━━━━━━━━━━━━━━━━━━━\u001b[0m\u001b[37m\u001b[0m \u001b[1m2s\u001b[0m 2ms/step - accuracy: 0.4444 - loss: 1.1849 - val_accuracy: 0.4355 - val_loss: 1.2188\n",
            "Epoch 175/325\n",
            "\u001b[1m873/873\u001b[0m \u001b[32m━━━━━━━━━━━━━━━━━━━━\u001b[0m\u001b[37m\u001b[0m \u001b[1m3s\u001b[0m 2ms/step - accuracy: 0.4459 - loss: 1.1835 - val_accuracy: 0.4312 - val_loss: 1.2079\n",
            "Epoch 176/325\n",
            "\u001b[1m873/873\u001b[0m \u001b[32m━━━━━━━━━━━━━━━━━━━━\u001b[0m\u001b[37m\u001b[0m \u001b[1m3s\u001b[0m 1ms/step - accuracy: 0.4508 - loss: 1.1805 - val_accuracy: 0.4217 - val_loss: 1.2051\n",
            "Epoch 177/325\n",
            "\u001b[1m873/873\u001b[0m \u001b[32m━━━━━━━━━━━━━━━━━━━━\u001b[0m\u001b[37m\u001b[0m \u001b[1m1s\u001b[0m 2ms/step - accuracy: 0.4549 - loss: 1.1778 - val_accuracy: 0.4329 - val_loss: 1.2023\n",
            "Epoch 178/325\n",
            "\u001b[1m873/873\u001b[0m \u001b[32m━━━━━━━━━━━━━━━━━━━━\u001b[0m\u001b[37m\u001b[0m \u001b[1m2s\u001b[0m 2ms/step - accuracy: 0.4515 - loss: 1.1752 - val_accuracy: 0.4303 - val_loss: 1.2016\n",
            "Epoch 179/325\n",
            "\u001b[1m873/873\u001b[0m \u001b[32m━━━━━━━━━━━━━━━━━━━━\u001b[0m\u001b[37m\u001b[0m \u001b[1m3s\u001b[0m 2ms/step - accuracy: 0.4680 - loss: 1.1689 - val_accuracy: 0.4363 - val_loss: 1.1944\n",
            "Epoch 180/325\n",
            "\u001b[1m873/873\u001b[0m \u001b[32m━━━━━━━━━━━━━━━━━━━━\u001b[0m\u001b[37m\u001b[0m \u001b[1m2s\u001b[0m 2ms/step - accuracy: 0.4509 - loss: 1.1747 - val_accuracy: 0.4303 - val_loss: 1.1927\n",
            "Epoch 181/325\n",
            "\u001b[1m873/873\u001b[0m \u001b[32m━━━━━━━━━━━━━━━━━━━━\u001b[0m\u001b[37m\u001b[0m \u001b[1m2s\u001b[0m 1ms/step - accuracy: 0.4620 - loss: 1.1676 - val_accuracy: 0.4294 - val_loss: 1.1900\n",
            "Epoch 182/325\n",
            "\u001b[1m873/873\u001b[0m \u001b[32m━━━━━━━━━━━━━━━━━━━━\u001b[0m\u001b[37m\u001b[0m \u001b[1m3s\u001b[0m 2ms/step - accuracy: 0.4661 - loss: 1.1584 - val_accuracy: 0.4441 - val_loss: 1.1852\n",
            "Epoch 183/325\n",
            "\u001b[1m873/873\u001b[0m \u001b[32m━━━━━━━━━━━━━━━━━━━━\u001b[0m\u001b[37m\u001b[0m \u001b[1m1s\u001b[0m 2ms/step - accuracy: 0.4633 - loss: 1.1544 - val_accuracy: 0.4372 - val_loss: 1.1810\n",
            "Epoch 184/325\n",
            "\u001b[1m873/873\u001b[0m \u001b[32m━━━━━━━━━━━━━━━━━━━━\u001b[0m\u001b[37m\u001b[0m \u001b[1m3s\u001b[0m 2ms/step - accuracy: 0.4511 - loss: 1.1590 - val_accuracy: 0.4346 - val_loss: 1.1780\n",
            "Epoch 185/325\n",
            "\u001b[1m873/873\u001b[0m \u001b[32m━━━━━━━━━━━━━━━━━━━━\u001b[0m\u001b[37m\u001b[0m \u001b[1m2s\u001b[0m 2ms/step - accuracy: 0.4585 - loss: 1.1549 - val_accuracy: 0.4406 - val_loss: 1.1749\n",
            "Epoch 186/325\n",
            "\u001b[1m873/873\u001b[0m \u001b[32m━━━━━━━━━━━━━━━━━━━━\u001b[0m\u001b[37m\u001b[0m \u001b[1m2s\u001b[0m 2ms/step - accuracy: 0.4669 - loss: 1.1484 - val_accuracy: 0.4225 - val_loss: 1.1728\n",
            "Epoch 187/325\n",
            "\u001b[1m873/873\u001b[0m \u001b[32m━━━━━━━━━━━━━━━━━━━━\u001b[0m\u001b[37m\u001b[0m \u001b[1m1s\u001b[0m 2ms/step - accuracy: 0.4559 - loss: 1.1525 - val_accuracy: 0.4251 - val_loss: 1.1695\n",
            "Epoch 188/325\n",
            "\u001b[1m873/873\u001b[0m \u001b[32m━━━━━━━━━━━━━━━━━━━━\u001b[0m\u001b[37m\u001b[0m \u001b[1m3s\u001b[0m 2ms/step - accuracy: 0.4631 - loss: 1.1480 - val_accuracy: 0.4165 - val_loss: 1.1674\n",
            "Epoch 189/325\n",
            "\u001b[1m873/873\u001b[0m \u001b[32m━━━━━━━━━━━━━━━━━━━━\u001b[0m\u001b[37m\u001b[0m \u001b[1m2s\u001b[0m 2ms/step - accuracy: 0.4629 - loss: 1.1359 - val_accuracy: 0.4389 - val_loss: 1.1641\n",
            "Epoch 190/325\n",
            "\u001b[1m873/873\u001b[0m \u001b[32m━━━━━━━━━━━━━━━━━━━━\u001b[0m\u001b[37m\u001b[0m \u001b[1m3s\u001b[0m 2ms/step - accuracy: 0.4618 - loss: 1.1364 - val_accuracy: 0.4277 - val_loss: 1.1633\n",
            "Epoch 191/325\n",
            "\u001b[1m873/873\u001b[0m \u001b[32m━━━━━━━━━━━━━━━━━━━━\u001b[0m\u001b[37m\u001b[0m \u001b[1m2s\u001b[0m 2ms/step - accuracy: 0.4523 - loss: 1.1369 - val_accuracy: 0.4363 - val_loss: 1.1582\n",
            "Epoch 192/325\n",
            "\u001b[1m873/873\u001b[0m \u001b[32m━━━━━━━━━━━━━━━━━━━━\u001b[0m\u001b[37m\u001b[0m \u001b[1m2s\u001b[0m 2ms/step - accuracy: 0.4604 - loss: 1.1300 - val_accuracy: 0.4337 - val_loss: 1.1548\n",
            "Epoch 193/325\n",
            "\u001b[1m873/873\u001b[0m \u001b[32m━━━━━━━━━━━━━━━━━━━━\u001b[0m\u001b[37m\u001b[0m \u001b[1m3s\u001b[0m 2ms/step - accuracy: 0.4793 - loss: 1.1238 - val_accuracy: 0.4441 - val_loss: 1.1522\n",
            "Epoch 194/325\n",
            "\u001b[1m873/873\u001b[0m \u001b[32m━━━━━━━━━━━━━━━━━━━━\u001b[0m\u001b[37m\u001b[0m \u001b[1m1s\u001b[0m 2ms/step - accuracy: 0.4642 - loss: 1.1226 - val_accuracy: 0.4329 - val_loss: 1.1498\n",
            "Epoch 195/325\n",
            "\u001b[1m873/873\u001b[0m \u001b[32m━━━━━━━━━━━━━━━━━━━━\u001b[0m\u001b[37m\u001b[0m \u001b[1m1s\u001b[0m 2ms/step - accuracy: 0.4684 - loss: 1.1260 - val_accuracy: 0.4432 - val_loss: 1.1495\n",
            "Epoch 196/325\n",
            "\u001b[1m873/873\u001b[0m \u001b[32m━━━━━━━━━━━━━━━━━━━━\u001b[0m\u001b[37m\u001b[0m \u001b[1m3s\u001b[0m 2ms/step - accuracy: 0.4825 - loss: 1.1123 - val_accuracy: 0.4561 - val_loss: 1.1433\n",
            "Epoch 197/325\n",
            "\u001b[1m873/873\u001b[0m \u001b[32m━━━━━━━━━━━━━━━━━━━━\u001b[0m\u001b[37m\u001b[0m \u001b[1m2s\u001b[0m 2ms/step - accuracy: 0.4644 - loss: 1.1225 - val_accuracy: 0.4406 - val_loss: 1.1436\n",
            "Epoch 198/325\n",
            "\u001b[1m873/873\u001b[0m \u001b[32m━━━━━━━━━━━━━━━━━━━━\u001b[0m\u001b[37m\u001b[0m \u001b[1m2s\u001b[0m 2ms/step - accuracy: 0.4694 - loss: 1.1209 - val_accuracy: 0.4544 - val_loss: 1.1401\n",
            "Epoch 199/325\n",
            "\u001b[1m873/873\u001b[0m \u001b[32m━━━━━━━━━━━━━━━━━━━━\u001b[0m\u001b[37m\u001b[0m \u001b[1m3s\u001b[0m 2ms/step - accuracy: 0.4789 - loss: 1.1194 - val_accuracy: 0.4492 - val_loss: 1.1364\n",
            "Epoch 200/325\n",
            "\u001b[1m873/873\u001b[0m \u001b[32m━━━━━━━━━━━━━━━━━━━━\u001b[0m\u001b[37m\u001b[0m \u001b[1m3s\u001b[0m 2ms/step - accuracy: 0.4742 - loss: 1.1151 - val_accuracy: 0.4423 - val_loss: 1.1334\n",
            "Epoch 201/325\n",
            "\u001b[1m873/873\u001b[0m \u001b[32m━━━━━━━━━━━━━━━━━━━━\u001b[0m\u001b[37m\u001b[0m \u001b[1m2s\u001b[0m 2ms/step - accuracy: 0.4791 - loss: 1.1044 - val_accuracy: 0.4458 - val_loss: 1.1315\n",
            "Epoch 202/325\n",
            "\u001b[1m873/873\u001b[0m \u001b[32m━━━━━━━━━━━━━━━━━━━━\u001b[0m\u001b[37m\u001b[0m \u001b[1m3s\u001b[0m 2ms/step - accuracy: 0.4767 - loss: 1.1135 - val_accuracy: 0.4596 - val_loss: 1.1310\n",
            "Epoch 203/325\n",
            "\u001b[1m873/873\u001b[0m \u001b[32m━━━━━━━━━━━━━━━━━━━━\u001b[0m\u001b[37m\u001b[0m \u001b[1m1s\u001b[0m 2ms/step - accuracy: 0.4847 - loss: 1.1066 - val_accuracy: 0.4527 - val_loss: 1.1358\n",
            "Epoch 204/325\n",
            "\u001b[1m873/873\u001b[0m \u001b[32m━━━━━━━━━━━━━━━━━━━━\u001b[0m\u001b[37m\u001b[0m \u001b[1m3s\u001b[0m 2ms/step - accuracy: 0.4826 - loss: 1.0937 - val_accuracy: 0.4544 - val_loss: 1.1239\n",
            "Epoch 205/325\n",
            "\u001b[1m873/873\u001b[0m \u001b[32m━━━━━━━━━━━━━━━━━━━━\u001b[0m\u001b[37m\u001b[0m \u001b[1m2s\u001b[0m 1ms/step - accuracy: 0.4796 - loss: 1.0958 - val_accuracy: 0.4501 - val_loss: 1.1226\n",
            "Epoch 206/325\n",
            "\u001b[1m873/873\u001b[0m \u001b[32m━━━━━━━━━━━━━━━━━━━━\u001b[0m\u001b[37m\u001b[0m \u001b[1m3s\u001b[0m 2ms/step - accuracy: 0.4834 - loss: 1.0905 - val_accuracy: 0.4406 - val_loss: 1.1197\n",
            "Epoch 207/325\n",
            "\u001b[1m873/873\u001b[0m \u001b[32m━━━━━━━━━━━━━━━━━━━━\u001b[0m\u001b[37m\u001b[0m \u001b[1m2s\u001b[0m 2ms/step - accuracy: 0.4914 - loss: 1.0931 - val_accuracy: 0.4389 - val_loss: 1.1184\n",
            "Epoch 208/325\n",
            "\u001b[1m873/873\u001b[0m \u001b[32m━━━━━━━━━━━━━━━━━━━━\u001b[0m\u001b[37m\u001b[0m \u001b[1m3s\u001b[0m 2ms/step - accuracy: 0.4878 - loss: 1.0864 - val_accuracy: 0.4355 - val_loss: 1.1169\n",
            "Epoch 209/325\n",
            "\u001b[1m873/873\u001b[0m \u001b[32m━━━━━━━━━━━━━━━━━━━━\u001b[0m\u001b[37m\u001b[0m \u001b[1m1s\u001b[0m 2ms/step - accuracy: 0.4983 - loss: 1.0827 - val_accuracy: 0.4561 - val_loss: 1.1132\n",
            "Epoch 210/325\n",
            "\u001b[1m873/873\u001b[0m \u001b[32m━━━━━━━━━━━━━━━━━━━━\u001b[0m\u001b[37m\u001b[0m \u001b[1m3s\u001b[0m 2ms/step - accuracy: 0.4810 - loss: 1.0906 - val_accuracy: 0.4673 - val_loss: 1.1131\n",
            "Epoch 211/325\n",
            "\u001b[1m873/873\u001b[0m \u001b[32m━━━━━━━━━━━━━━━━━━━━\u001b[0m\u001b[37m\u001b[0m \u001b[1m3s\u001b[0m 2ms/step - accuracy: 0.4928 - loss: 1.0795 - val_accuracy: 0.4423 - val_loss: 1.1090\n",
            "Epoch 212/325\n",
            "\u001b[1m873/873\u001b[0m \u001b[32m━━━━━━━━━━━━━━━━━━━━\u001b[0m\u001b[37m\u001b[0m \u001b[1m1s\u001b[0m 2ms/step - accuracy: 0.4993 - loss: 1.0818 - val_accuracy: 0.4613 - val_loss: 1.1060\n",
            "Epoch 213/325\n",
            "\u001b[1m873/873\u001b[0m \u001b[32m━━━━━━━━━━━━━━━━━━━━\u001b[0m\u001b[37m\u001b[0m \u001b[1m2s\u001b[0m 2ms/step - accuracy: 0.4988 - loss: 1.0745 - val_accuracy: 0.4776 - val_loss: 1.1049\n",
            "Epoch 214/325\n",
            "\u001b[1m873/873\u001b[0m \u001b[32m━━━━━━━━━━━━━━━━━━━━\u001b[0m\u001b[37m\u001b[0m \u001b[1m2s\u001b[0m 2ms/step - accuracy: 0.5099 - loss: 1.0707 - val_accuracy: 0.4664 - val_loss: 1.1037\n",
            "Epoch 215/325\n",
            "\u001b[1m873/873\u001b[0m \u001b[32m━━━━━━━━━━━━━━━━━━━━\u001b[0m\u001b[37m\u001b[0m \u001b[1m2s\u001b[0m 2ms/step - accuracy: 0.4989 - loss: 1.0757 - val_accuracy: 0.4561 - val_loss: 1.1012\n",
            "Epoch 216/325\n",
            "\u001b[1m873/873\u001b[0m \u001b[32m━━━━━━━━━━━━━━━━━━━━\u001b[0m\u001b[37m\u001b[0m \u001b[1m2s\u001b[0m 1ms/step - accuracy: 0.5016 - loss: 1.0771 - val_accuracy: 0.4630 - val_loss: 1.0987\n",
            "Epoch 217/325\n",
            "\u001b[1m873/873\u001b[0m \u001b[32m━━━━━━━━━━━━━━━━━━━━\u001b[0m\u001b[37m\u001b[0m \u001b[1m3s\u001b[0m 2ms/step - accuracy: 0.5008 - loss: 1.0688 - val_accuracy: 0.4596 - val_loss: 1.0970\n",
            "Epoch 218/325\n",
            "\u001b[1m873/873\u001b[0m \u001b[32m━━━━━━━━━━━━━━━━━━━━\u001b[0m\u001b[37m\u001b[0m \u001b[1m1s\u001b[0m 2ms/step - accuracy: 0.5143 - loss: 1.0752 - val_accuracy: 0.4750 - val_loss: 1.0942\n",
            "Epoch 219/325\n",
            "\u001b[1m873/873\u001b[0m \u001b[32m━━━━━━━━━━━━━━━━━━━━\u001b[0m\u001b[37m\u001b[0m \u001b[1m1s\u001b[0m 2ms/step - accuracy: 0.5141 - loss: 1.0620 - val_accuracy: 0.4811 - val_loss: 1.0975\n",
            "Epoch 220/325\n",
            "\u001b[1m873/873\u001b[0m \u001b[32m━━━━━━━━━━━━━━━━━━━━\u001b[0m\u001b[37m\u001b[0m \u001b[1m1s\u001b[0m 1ms/step - accuracy: 0.5150 - loss: 1.0699 - val_accuracy: 0.4596 - val_loss: 1.0938\n",
            "Epoch 221/325\n",
            "\u001b[1m873/873\u001b[0m \u001b[32m━━━━━━━━━━━━━━━━━━━━\u001b[0m\u001b[37m\u001b[0m \u001b[1m3s\u001b[0m 2ms/step - accuracy: 0.5056 - loss: 1.0640 - val_accuracy: 0.4613 - val_loss: 1.0926\n",
            "Epoch 222/325\n",
            "\u001b[1m873/873\u001b[0m \u001b[32m━━━━━━━━━━━━━━━━━━━━\u001b[0m\u001b[37m\u001b[0m \u001b[1m3s\u001b[0m 2ms/step - accuracy: 0.5191 - loss: 1.0536 - val_accuracy: 0.4871 - val_loss: 1.0871\n",
            "Epoch 223/325\n",
            "\u001b[1m873/873\u001b[0m \u001b[32m━━━━━━━━━━━━━━━━━━━━\u001b[0m\u001b[37m\u001b[0m \u001b[1m1s\u001b[0m 2ms/step - accuracy: 0.5125 - loss: 1.0622 - val_accuracy: 0.4905 - val_loss: 1.0848\n",
            "Epoch 224/325\n",
            "\u001b[1m873/873\u001b[0m \u001b[32m━━━━━━━━━━━━━━━━━━━━\u001b[0m\u001b[37m\u001b[0m \u001b[1m3s\u001b[0m 2ms/step - accuracy: 0.5190 - loss: 1.0570 - val_accuracy: 0.4587 - val_loss: 1.0900\n",
            "Epoch 225/325\n",
            "\u001b[1m873/873\u001b[0m \u001b[32m━━━━━━━━━━━━━━━━━━━━\u001b[0m\u001b[37m\u001b[0m \u001b[1m3s\u001b[0m 2ms/step - accuracy: 0.5235 - loss: 1.0560 - val_accuracy: 0.5138 - val_loss: 1.0820\n",
            "Epoch 226/325\n",
            "\u001b[1m873/873\u001b[0m \u001b[32m━━━━━━━━━━━━━━━━━━━━\u001b[0m\u001b[37m\u001b[0m \u001b[1m2s\u001b[0m 2ms/step - accuracy: 0.5228 - loss: 1.0549 - val_accuracy: 0.4966 - val_loss: 1.0888\n",
            "Epoch 227/325\n",
            "\u001b[1m873/873\u001b[0m \u001b[32m━━━━━━━━━━━━━━━━━━━━\u001b[0m\u001b[37m\u001b[0m \u001b[1m3s\u001b[0m 2ms/step - accuracy: 0.5277 - loss: 1.0563 - val_accuracy: 0.4888 - val_loss: 1.0776\n",
            "Epoch 228/325\n",
            "\u001b[1m873/873\u001b[0m \u001b[32m━━━━━━━━━━━━━━━━━━━━\u001b[0m\u001b[37m\u001b[0m \u001b[1m2s\u001b[0m 2ms/step - accuracy: 0.5238 - loss: 1.0493 - val_accuracy: 0.4905 - val_loss: 1.0769\n",
            "Epoch 229/325\n",
            "\u001b[1m873/873\u001b[0m \u001b[32m━━━━━━━━━━━━━━━━━━━━\u001b[0m\u001b[37m\u001b[0m \u001b[1m2s\u001b[0m 2ms/step - accuracy: 0.5213 - loss: 1.0480 - val_accuracy: 0.4828 - val_loss: 1.0770\n",
            "Epoch 230/325\n",
            "\u001b[1m873/873\u001b[0m \u001b[32m━━━━━━━━━━━━━━━━━━━━\u001b[0m\u001b[37m\u001b[0m \u001b[1m3s\u001b[0m 2ms/step - accuracy: 0.5302 - loss: 1.0496 - val_accuracy: 0.5034 - val_loss: 1.0728\n",
            "Epoch 231/325\n",
            "\u001b[1m873/873\u001b[0m \u001b[32m━━━━━━━━━━━━━━━━━━━━\u001b[0m\u001b[37m\u001b[0m \u001b[1m3s\u001b[0m 1ms/step - accuracy: 0.5232 - loss: 1.0549 - val_accuracy: 0.5120 - val_loss: 1.0742\n",
            "Epoch 232/325\n",
            "\u001b[1m873/873\u001b[0m \u001b[32m━━━━━━━━━━━━━━━━━━━━\u001b[0m\u001b[37m\u001b[0m \u001b[1m1s\u001b[0m 2ms/step - accuracy: 0.5408 - loss: 1.0395 - val_accuracy: 0.4948 - val_loss: 1.0710\n",
            "Epoch 233/325\n",
            "\u001b[1m873/873\u001b[0m \u001b[32m━━━━━━━━━━━━━━━━━━━━\u001b[0m\u001b[37m\u001b[0m \u001b[1m1s\u001b[0m 2ms/step - accuracy: 0.5379 - loss: 1.0330 - val_accuracy: 0.4888 - val_loss: 1.0720\n",
            "Epoch 234/325\n",
            "\u001b[1m873/873\u001b[0m \u001b[32m━━━━━━━━━━━━━━━━━━━━\u001b[0m\u001b[37m\u001b[0m \u001b[1m2s\u001b[0m 2ms/step - accuracy: 0.5448 - loss: 1.0354 - val_accuracy: 0.5293 - val_loss: 1.0648\n",
            "Epoch 235/325\n",
            "\u001b[1m873/873\u001b[0m \u001b[32m━━━━━━━━━━━━━━━━━━━━\u001b[0m\u001b[37m\u001b[0m \u001b[1m2s\u001b[0m 2ms/step - accuracy: 0.5485 - loss: 1.0282 - val_accuracy: 0.5172 - val_loss: 1.0669\n",
            "Epoch 236/325\n",
            "\u001b[1m873/873\u001b[0m \u001b[32m━━━━━━━━━━━━━━━━━━━━\u001b[0m\u001b[37m\u001b[0m \u001b[1m1s\u001b[0m 2ms/step - accuracy: 0.5308 - loss: 1.0436 - val_accuracy: 0.5138 - val_loss: 1.0624\n",
            "Epoch 237/325\n",
            "\u001b[1m873/873\u001b[0m \u001b[32m━━━━━━━━━━━━━━━━━━━━\u001b[0m\u001b[37m\u001b[0m \u001b[1m3s\u001b[0m 1ms/step - accuracy: 0.5421 - loss: 1.0283 - val_accuracy: 0.5207 - val_loss: 1.0610\n",
            "Epoch 238/325\n",
            "\u001b[1m873/873\u001b[0m \u001b[32m━━━━━━━━━━━━━━━━━━━━\u001b[0m\u001b[37m\u001b[0m \u001b[1m3s\u001b[0m 2ms/step - accuracy: 0.5426 - loss: 1.0357 - val_accuracy: 0.5258 - val_loss: 1.0594\n",
            "Epoch 239/325\n",
            "\u001b[1m873/873\u001b[0m \u001b[32m━━━━━━━━━━━━━━━━━━━━\u001b[0m\u001b[37m\u001b[0m \u001b[1m3s\u001b[0m 2ms/step - accuracy: 0.5448 - loss: 1.0275 - val_accuracy: 0.5129 - val_loss: 1.0608\n",
            "Epoch 240/325\n",
            "\u001b[1m873/873\u001b[0m \u001b[32m━━━━━━━━━━━━━━━━━━━━\u001b[0m\u001b[37m\u001b[0m \u001b[1m2s\u001b[0m 2ms/step - accuracy: 0.5478 - loss: 1.0249 - val_accuracy: 0.5361 - val_loss: 1.0554\n",
            "Epoch 241/325\n",
            "\u001b[1m873/873\u001b[0m \u001b[32m━━━━━━━━━━━━━━━━━━━━\u001b[0m\u001b[37m\u001b[0m \u001b[1m2s\u001b[0m 2ms/step - accuracy: 0.5426 - loss: 1.0249 - val_accuracy: 0.5267 - val_loss: 1.0557\n",
            "Epoch 242/325\n",
            "\u001b[1m873/873\u001b[0m \u001b[32m━━━━━━━━━━━━━━━━━━━━\u001b[0m\u001b[37m\u001b[0m \u001b[1m2s\u001b[0m 2ms/step - accuracy: 0.5551 - loss: 1.0156 - val_accuracy: 0.5103 - val_loss: 1.0604\n",
            "Epoch 243/325\n",
            "\u001b[1m873/873\u001b[0m \u001b[32m━━━━━━━━━━━━━━━━━━━━\u001b[0m\u001b[37m\u001b[0m \u001b[1m1s\u001b[0m 2ms/step - accuracy: 0.5519 - loss: 1.0227 - val_accuracy: 0.5491 - val_loss: 1.0510\n",
            "Epoch 244/325\n",
            "\u001b[1m873/873\u001b[0m \u001b[32m━━━━━━━━━━━━━━━━━━━━\u001b[0m\u001b[37m\u001b[0m \u001b[1m3s\u001b[0m 2ms/step - accuracy: 0.5512 - loss: 1.0260 - val_accuracy: 0.5430 - val_loss: 1.0515\n",
            "Epoch 245/325\n",
            "\u001b[1m873/873\u001b[0m \u001b[32m━━━━━━━━━━━━━━━━━━━━\u001b[0m\u001b[37m\u001b[0m \u001b[1m3s\u001b[0m 2ms/step - accuracy: 0.5441 - loss: 1.0354 - val_accuracy: 0.5473 - val_loss: 1.0507\n",
            "Epoch 246/325\n",
            "\u001b[1m873/873\u001b[0m \u001b[32m━━━━━━━━━━━━━━━━━━━━\u001b[0m\u001b[37m\u001b[0m \u001b[1m2s\u001b[0m 2ms/step - accuracy: 0.5646 - loss: 1.0124 - val_accuracy: 0.5482 - val_loss: 1.0461\n",
            "Epoch 247/325\n",
            "\u001b[1m873/873\u001b[0m \u001b[32m━━━━━━━━━━━━━━━━━━━━\u001b[0m\u001b[37m\u001b[0m \u001b[1m2s\u001b[0m 1ms/step - accuracy: 0.5504 - loss: 1.0168 - val_accuracy: 0.5542 - val_loss: 1.0461\n",
            "Epoch 248/325\n",
            "\u001b[1m873/873\u001b[0m \u001b[32m━━━━━━━━━━━━━━━━━━━━\u001b[0m\u001b[37m\u001b[0m \u001b[1m1s\u001b[0m 2ms/step - accuracy: 0.5543 - loss: 1.0131 - val_accuracy: 0.5310 - val_loss: 1.0459\n",
            "Epoch 249/325\n",
            "\u001b[1m873/873\u001b[0m \u001b[32m━━━━━━━━━━━━━━━━━━━━\u001b[0m\u001b[37m\u001b[0m \u001b[1m1s\u001b[0m 2ms/step - accuracy: 0.5547 - loss: 1.0052 - val_accuracy: 0.5499 - val_loss: 1.0428\n",
            "Epoch 250/325\n",
            "\u001b[1m873/873\u001b[0m \u001b[32m━━━━━━━━━━━━━━━━━━━━\u001b[0m\u001b[37m\u001b[0m \u001b[1m1s\u001b[0m 2ms/step - accuracy: 0.5616 - loss: 1.0099 - val_accuracy: 0.5034 - val_loss: 1.0480\n",
            "Epoch 251/325\n",
            "\u001b[1m873/873\u001b[0m \u001b[32m━━━━━━━━━━━━━━━━━━━━\u001b[0m\u001b[37m\u001b[0m \u001b[1m1s\u001b[0m 2ms/step - accuracy: 0.5527 - loss: 1.0198 - val_accuracy: 0.5473 - val_loss: 1.0398\n",
            "Epoch 252/325\n",
            "\u001b[1m873/873\u001b[0m \u001b[32m━━━━━━━━━━━━━━━━━━━━\u001b[0m\u001b[37m\u001b[0m \u001b[1m3s\u001b[0m 1ms/step - accuracy: 0.5582 - loss: 1.0101 - val_accuracy: 0.5413 - val_loss: 1.0403\n",
            "Epoch 253/325\n",
            "\u001b[1m873/873\u001b[0m \u001b[32m━━━━━━━━━━━━━━━━━━━━\u001b[0m\u001b[37m\u001b[0m \u001b[1m3s\u001b[0m 2ms/step - accuracy: 0.5556 - loss: 1.0198 - val_accuracy: 0.5370 - val_loss: 1.0388\n",
            "Epoch 254/325\n",
            "\u001b[1m873/873\u001b[0m \u001b[32m━━━━━━━━━━━━━━━━━━━━\u001b[0m\u001b[37m\u001b[0m \u001b[1m2s\u001b[0m 2ms/step - accuracy: 0.5615 - loss: 1.0110 - val_accuracy: 0.5164 - val_loss: 1.0395\n",
            "Epoch 255/325\n",
            "\u001b[1m873/873\u001b[0m \u001b[32m━━━━━━━━━━━━━━━━━━━━\u001b[0m\u001b[37m\u001b[0m \u001b[1m1s\u001b[0m 2ms/step - accuracy: 0.5614 - loss: 1.0175 - val_accuracy: 0.5499 - val_loss: 1.0374\n",
            "Epoch 256/325\n",
            "\u001b[1m873/873\u001b[0m \u001b[32m━━━━━━━━━━━━━━━━━━━━\u001b[0m\u001b[37m\u001b[0m \u001b[1m3s\u001b[0m 1ms/step - accuracy: 0.5693 - loss: 1.0049 - val_accuracy: 0.5387 - val_loss: 1.0359\n",
            "Epoch 257/325\n",
            "\u001b[1m873/873\u001b[0m \u001b[32m━━━━━━━━━━━━━━━━━━━━\u001b[0m\u001b[37m\u001b[0m \u001b[1m3s\u001b[0m 2ms/step - accuracy: 0.5720 - loss: 0.9957 - val_accuracy: 0.5172 - val_loss: 1.0370\n",
            "Epoch 258/325\n",
            "\u001b[1m873/873\u001b[0m \u001b[32m━━━━━━━━━━━━━━━━━━━━\u001b[0m\u001b[37m\u001b[0m \u001b[1m3s\u001b[0m 2ms/step - accuracy: 0.5588 - loss: 1.0058 - val_accuracy: 0.5456 - val_loss: 1.0341\n",
            "Epoch 259/325\n",
            "\u001b[1m873/873\u001b[0m \u001b[32m━━━━━━━━━━━━━━━━━━━━\u001b[0m\u001b[37m\u001b[0m \u001b[1m2s\u001b[0m 2ms/step - accuracy: 0.5699 - loss: 0.9965 - val_accuracy: 0.5602 - val_loss: 1.0299\n",
            "Epoch 260/325\n",
            "\u001b[1m873/873\u001b[0m \u001b[32m━━━━━━━━━━━━━━━━━━━━\u001b[0m\u001b[37m\u001b[0m \u001b[1m2s\u001b[0m 2ms/step - accuracy: 0.5593 - loss: 1.0028 - val_accuracy: 0.5525 - val_loss: 1.0351\n",
            "Epoch 261/325\n",
            "\u001b[1m873/873\u001b[0m \u001b[32m━━━━━━━━━━━━━━━━━━━━\u001b[0m\u001b[37m\u001b[0m \u001b[1m2s\u001b[0m 1ms/step - accuracy: 0.5704 - loss: 1.0002 - val_accuracy: 0.5534 - val_loss: 1.0320\n",
            "Epoch 262/325\n",
            "\u001b[1m873/873\u001b[0m \u001b[32m━━━━━━━━━━━━━━━━━━━━\u001b[0m\u001b[37m\u001b[0m \u001b[1m2s\u001b[0m 2ms/step - accuracy: 0.5654 - loss: 0.9977 - val_accuracy: 0.5232 - val_loss: 1.0385\n",
            "Epoch 263/325\n",
            "\u001b[1m873/873\u001b[0m \u001b[32m━━━━━━━━━━━━━━━━━━━━\u001b[0m\u001b[37m\u001b[0m \u001b[1m1s\u001b[0m 1ms/step - accuracy: 0.5604 - loss: 1.0004 - val_accuracy: 0.5215 - val_loss: 1.0314\n",
            "Epoch 264/325\n",
            "\u001b[1m873/873\u001b[0m \u001b[32m━━━━━━━━━━━━━━━━━━━━\u001b[0m\u001b[37m\u001b[0m \u001b[1m3s\u001b[0m 2ms/step - accuracy: 0.5700 - loss: 0.9928 - val_accuracy: 0.5370 - val_loss: 1.0286\n",
            "Epoch 265/325\n",
            "\u001b[1m873/873\u001b[0m \u001b[32m━━━━━━━━━━━━━━━━━━━━\u001b[0m\u001b[37m\u001b[0m \u001b[1m2s\u001b[0m 2ms/step - accuracy: 0.5699 - loss: 0.9938 - val_accuracy: 0.5112 - val_loss: 1.0342\n",
            "Epoch 266/325\n",
            "\u001b[1m873/873\u001b[0m \u001b[32m━━━━━━━━━━━━━━━━━━━━\u001b[0m\u001b[37m\u001b[0m \u001b[1m2s\u001b[0m 2ms/step - accuracy: 0.5683 - loss: 0.9997 - val_accuracy: 0.5379 - val_loss: 1.0262\n",
            "Epoch 267/325\n",
            "\u001b[1m873/873\u001b[0m \u001b[32m━━━━━━━━━━━━━━━━━━━━\u001b[0m\u001b[37m\u001b[0m \u001b[1m2s\u001b[0m 1ms/step - accuracy: 0.5707 - loss: 0.9955 - val_accuracy: 0.4682 - val_loss: 1.0515\n",
            "Epoch 268/325\n",
            "\u001b[1m873/873\u001b[0m \u001b[32m━━━━━━━━━━━━━━━━━━━━\u001b[0m\u001b[37m\u001b[0m \u001b[1m1s\u001b[0m 2ms/step - accuracy: 0.5600 - loss: 0.9985 - val_accuracy: 0.5551 - val_loss: 1.0208\n",
            "Epoch 269/325\n",
            "\u001b[1m873/873\u001b[0m \u001b[32m━━━━━━━━━━━━━━━━━━━━\u001b[0m\u001b[37m\u001b[0m \u001b[1m2s\u001b[0m 1ms/step - accuracy: 0.5654 - loss: 0.9952 - val_accuracy: 0.5559 - val_loss: 1.0191\n",
            "Epoch 270/325\n",
            "\u001b[1m873/873\u001b[0m \u001b[32m━━━━━━━━━━━━━━━━━━━━\u001b[0m\u001b[37m\u001b[0m \u001b[1m1s\u001b[0m 2ms/step - accuracy: 0.5728 - loss: 0.9850 - val_accuracy: 0.5267 - val_loss: 1.0228\n",
            "Epoch 271/325\n",
            "\u001b[1m873/873\u001b[0m \u001b[32m━━━━━━━━━━━━━━━━━━━━\u001b[0m\u001b[37m\u001b[0m \u001b[1m1s\u001b[0m 2ms/step - accuracy: 0.5611 - loss: 0.9931 - val_accuracy: 0.5430 - val_loss: 1.0183\n",
            "Epoch 272/325\n",
            "\u001b[1m873/873\u001b[0m \u001b[32m━━━━━━━━━━━━━━━━━━━━\u001b[0m\u001b[37m\u001b[0m \u001b[1m3s\u001b[0m 2ms/step - accuracy: 0.5765 - loss: 0.9881 - val_accuracy: 0.5714 - val_loss: 1.0139\n",
            "Epoch 273/325\n",
            "\u001b[1m873/873\u001b[0m \u001b[32m━━━━━━━━━━━━━━━━━━━━\u001b[0m\u001b[37m\u001b[0m \u001b[1m2s\u001b[0m 1ms/step - accuracy: 0.5789 - loss: 0.9829 - val_accuracy: 0.5585 - val_loss: 1.0170\n",
            "Epoch 274/325\n",
            "\u001b[1m873/873\u001b[0m \u001b[32m━━━━━━━━━━━━━━━━━━━━\u001b[0m\u001b[37m\u001b[0m \u001b[1m3s\u001b[0m 2ms/step - accuracy: 0.5821 - loss: 0.9817 - val_accuracy: 0.5456 - val_loss: 1.0186\n",
            "Epoch 275/325\n",
            "\u001b[1m873/873\u001b[0m \u001b[32m━━━━━━━━━━━━━━━━━━━━\u001b[0m\u001b[37m\u001b[0m \u001b[1m1s\u001b[0m 1ms/step - accuracy: 0.5733 - loss: 0.9792 - val_accuracy: 0.5577 - val_loss: 1.0124\n",
            "Epoch 276/325\n",
            "\u001b[1m873/873\u001b[0m \u001b[32m━━━━━━━━━━━━━━━━━━━━\u001b[0m\u001b[37m\u001b[0m \u001b[1m3s\u001b[0m 2ms/step - accuracy: 0.5678 - loss: 0.9899 - val_accuracy: 0.5516 - val_loss: 1.0116\n",
            "Epoch 277/325\n",
            "\u001b[1m873/873\u001b[0m \u001b[32m━━━━━━━━━━━━━━━━━━━━\u001b[0m\u001b[37m\u001b[0m \u001b[1m3s\u001b[0m 2ms/step - accuracy: 0.5704 - loss: 0.9810 - val_accuracy: 0.5430 - val_loss: 1.0114\n",
            "Epoch 278/325\n",
            "\u001b[1m873/873\u001b[0m \u001b[32m━━━━━━━━━━━━━━━━━━━━\u001b[0m\u001b[37m\u001b[0m \u001b[1m2s\u001b[0m 2ms/step - accuracy: 0.5647 - loss: 0.9848 - val_accuracy: 0.5585 - val_loss: 1.0075\n",
            "Epoch 279/325\n",
            "\u001b[1m873/873\u001b[0m \u001b[32m━━━━━━━━━━━━━━━━━━━━\u001b[0m\u001b[37m\u001b[0m \u001b[1m2s\u001b[0m 2ms/step - accuracy: 0.5723 - loss: 0.9734 - val_accuracy: 0.5637 - val_loss: 1.0167\n",
            "Epoch 280/325\n",
            "\u001b[1m873/873\u001b[0m \u001b[32m━━━━━━━━━━━━━━━━━━━━\u001b[0m\u001b[37m\u001b[0m \u001b[1m3s\u001b[0m 2ms/step - accuracy: 0.5681 - loss: 0.9810 - val_accuracy: 0.5430 - val_loss: 1.0128\n",
            "Epoch 281/325\n",
            "\u001b[1m873/873\u001b[0m \u001b[32m━━━━━━━━━━━━━━━━━━━━\u001b[0m\u001b[37m\u001b[0m \u001b[1m3s\u001b[0m 2ms/step - accuracy: 0.5891 - loss: 0.9606 - val_accuracy: 0.5688 - val_loss: 1.0069\n",
            "Epoch 282/325\n",
            "\u001b[1m873/873\u001b[0m \u001b[32m━━━━━━━━━━━━━━━━━━━━\u001b[0m\u001b[37m\u001b[0m \u001b[1m1s\u001b[0m 2ms/step - accuracy: 0.5861 - loss: 0.9598 - val_accuracy: 0.5275 - val_loss: 1.0151\n",
            "Epoch 283/325\n",
            "\u001b[1m873/873\u001b[0m \u001b[32m━━━━━━━━━━━━━━━━━━━━\u001b[0m\u001b[37m\u001b[0m \u001b[1m1s\u001b[0m 2ms/step - accuracy: 0.5710 - loss: 0.9814 - val_accuracy: 0.5671 - val_loss: 1.0039\n",
            "Epoch 284/325\n",
            "\u001b[1m873/873\u001b[0m \u001b[32m━━━━━━━━━━━━━━━━━━━━\u001b[0m\u001b[37m\u001b[0m \u001b[1m3s\u001b[0m 2ms/step - accuracy: 0.5759 - loss: 0.9735 - val_accuracy: 0.5568 - val_loss: 1.0044\n",
            "Epoch 285/325\n",
            "\u001b[1m873/873\u001b[0m \u001b[32m━━━━━━━━━━━━━━━━━━━━\u001b[0m\u001b[37m\u001b[0m \u001b[1m2s\u001b[0m 2ms/step - accuracy: 0.5731 - loss: 0.9705 - val_accuracy: 0.5456 - val_loss: 1.0060\n",
            "Epoch 286/325\n",
            "\u001b[1m873/873\u001b[0m \u001b[32m━━━━━━━━━━━━━━━━━━━━\u001b[0m\u001b[37m\u001b[0m \u001b[1m1s\u001b[0m 2ms/step - accuracy: 0.5827 - loss: 0.9752 - val_accuracy: 0.5637 - val_loss: 1.0011\n",
            "Epoch 287/325\n",
            "\u001b[1m873/873\u001b[0m \u001b[32m━━━━━━━━━━━━━━━━━━━━\u001b[0m\u001b[37m\u001b[0m \u001b[1m2s\u001b[0m 2ms/step - accuracy: 0.5777 - loss: 0.9559 - val_accuracy: 0.5611 - val_loss: 0.9993\n",
            "Epoch 288/325\n",
            "\u001b[1m873/873\u001b[0m \u001b[32m━━━━━━━━━━━━━━━━━━━━\u001b[0m\u001b[37m\u001b[0m \u001b[1m3s\u001b[0m 2ms/step - accuracy: 0.5905 - loss: 0.9605 - val_accuracy: 0.5516 - val_loss: 1.0052\n",
            "Epoch 289/325\n",
            "\u001b[1m873/873\u001b[0m \u001b[32m━━━━━━━━━━━━━━━━━━━━\u001b[0m\u001b[37m\u001b[0m \u001b[1m3s\u001b[0m 2ms/step - accuracy: 0.5771 - loss: 0.9664 - val_accuracy: 0.5465 - val_loss: 1.0088\n",
            "Epoch 290/325\n",
            "\u001b[1m873/873\u001b[0m \u001b[32m━━━━━━━━━━━━━━━━━━━━\u001b[0m\u001b[37m\u001b[0m \u001b[1m2s\u001b[0m 2ms/step - accuracy: 0.5722 - loss: 0.9641 - val_accuracy: 0.5688 - val_loss: 0.9973\n",
            "Epoch 291/325\n",
            "\u001b[1m873/873\u001b[0m \u001b[32m━━━━━━━━━━━━━━━━━━━━\u001b[0m\u001b[37m\u001b[0m \u001b[1m2s\u001b[0m 2ms/step - accuracy: 0.5824 - loss: 0.9685 - val_accuracy: 0.5525 - val_loss: 0.9983\n",
            "Epoch 292/325\n",
            "\u001b[1m873/873\u001b[0m \u001b[32m━━━━━━━━━━━━━━━━━━━━\u001b[0m\u001b[37m\u001b[0m \u001b[1m3s\u001b[0m 2ms/step - accuracy: 0.5857 - loss: 0.9655 - val_accuracy: 0.5353 - val_loss: 1.0034\n",
            "Epoch 293/325\n",
            "\u001b[1m873/873\u001b[0m \u001b[32m━━━━━━━━━━━━━━━━━━━━\u001b[0m\u001b[37m\u001b[0m \u001b[1m2s\u001b[0m 1ms/step - accuracy: 0.5850 - loss: 0.9523 - val_accuracy: 0.5611 - val_loss: 0.9944\n",
            "Epoch 294/325\n",
            "\u001b[1m873/873\u001b[0m \u001b[32m━━━━━━━━━━━━━━━━━━━━\u001b[0m\u001b[37m\u001b[0m \u001b[1m1s\u001b[0m 2ms/step - accuracy: 0.5867 - loss: 0.9611 - val_accuracy: 0.5275 - val_loss: 1.0056\n",
            "Epoch 295/325\n",
            "\u001b[1m873/873\u001b[0m \u001b[32m━━━━━━━━━━━━━━━━━━━━\u001b[0m\u001b[37m\u001b[0m \u001b[1m3s\u001b[0m 2ms/step - accuracy: 0.5792 - loss: 0.9576 - val_accuracy: 0.5654 - val_loss: 0.9912\n",
            "Epoch 296/325\n",
            "\u001b[1m873/873\u001b[0m \u001b[32m━━━━━━━━━━━━━━━━━━━━\u001b[0m\u001b[37m\u001b[0m \u001b[1m2s\u001b[0m 2ms/step - accuracy: 0.5907 - loss: 0.9588 - val_accuracy: 0.5611 - val_loss: 0.9925\n",
            "Epoch 297/325\n",
            "\u001b[1m873/873\u001b[0m \u001b[32m━━━━━━━━━━━━━━━━━━━━\u001b[0m\u001b[37m\u001b[0m \u001b[1m3s\u001b[0m 2ms/step - accuracy: 0.5795 - loss: 0.9542 - val_accuracy: 0.5714 - val_loss: 0.9901\n",
            "Epoch 298/325\n",
            "\u001b[1m873/873\u001b[0m \u001b[32m━━━━━━━━━━━━━━━━━━━━\u001b[0m\u001b[37m\u001b[0m \u001b[1m3s\u001b[0m 2ms/step - accuracy: 0.5867 - loss: 0.9549 - val_accuracy: 0.5611 - val_loss: 0.9895\n",
            "Epoch 299/325\n",
            "\u001b[1m873/873\u001b[0m \u001b[32m━━━━━━━━━━━━━━━━━━━━\u001b[0m\u001b[37m\u001b[0m \u001b[1m2s\u001b[0m 1ms/step - accuracy: 0.5865 - loss: 0.9527 - val_accuracy: 0.5671 - val_loss: 0.9875\n",
            "Epoch 300/325\n",
            "\u001b[1m873/873\u001b[0m \u001b[32m━━━━━━━━━━━━━━━━━━━━\u001b[0m\u001b[37m\u001b[0m \u001b[1m3s\u001b[0m 2ms/step - accuracy: 0.5868 - loss: 0.9528 - val_accuracy: 0.5568 - val_loss: 0.9935\n",
            "Epoch 301/325\n",
            "\u001b[1m873/873\u001b[0m \u001b[32m━━━━━━━━━━━━━━━━━━━━\u001b[0m\u001b[37m\u001b[0m \u001b[1m2s\u001b[0m 2ms/step - accuracy: 0.5813 - loss: 0.9483 - val_accuracy: 0.5671 - val_loss: 0.9874\n",
            "Epoch 302/325\n",
            "\u001b[1m873/873\u001b[0m \u001b[32m━━━━━━━━━━━━━━━━━━━━\u001b[0m\u001b[37m\u001b[0m \u001b[1m2s\u001b[0m 1ms/step - accuracy: 0.5767 - loss: 0.9568 - val_accuracy: 0.5757 - val_loss: 0.9913\n",
            "Epoch 303/325\n",
            "\u001b[1m873/873\u001b[0m \u001b[32m━━━━━━━━━━━━━━━━━━━━\u001b[0m\u001b[37m\u001b[0m \u001b[1m1s\u001b[0m 2ms/step - accuracy: 0.5723 - loss: 0.9535 - val_accuracy: 0.5404 - val_loss: 0.9980\n",
            "Epoch 304/325\n",
            "\u001b[1m873/873\u001b[0m \u001b[32m━━━━━━━━━━━━━━━━━━━━\u001b[0m\u001b[37m\u001b[0m \u001b[1m1s\u001b[0m 2ms/step - accuracy: 0.5832 - loss: 0.9444 - val_accuracy: 0.5654 - val_loss: 0.9865\n",
            "Epoch 305/325\n",
            "\u001b[1m873/873\u001b[0m \u001b[32m━━━━━━━━━━━━━━━━━━━━\u001b[0m\u001b[37m\u001b[0m \u001b[1m3s\u001b[0m 1ms/step - accuracy: 0.5778 - loss: 0.9556 - val_accuracy: 0.5671 - val_loss: 0.9818\n",
            "Epoch 306/325\n",
            "\u001b[1m873/873\u001b[0m \u001b[32m━━━━━━━━━━━━━━━━━━━━\u001b[0m\u001b[37m\u001b[0m \u001b[1m3s\u001b[0m 2ms/step - accuracy: 0.5988 - loss: 0.9398 - val_accuracy: 0.5301 - val_loss: 0.9965\n",
            "Epoch 307/325\n",
            "\u001b[1m873/873\u001b[0m \u001b[32m━━━━━━━━━━━━━━━━━━━━\u001b[0m\u001b[37m\u001b[0m \u001b[1m1s\u001b[0m 2ms/step - accuracy: 0.5881 - loss: 0.9374 - val_accuracy: 0.5482 - val_loss: 0.9858\n",
            "Epoch 308/325\n",
            "\u001b[1m873/873\u001b[0m \u001b[32m━━━━━━━━━━━━━━━━━━━━\u001b[0m\u001b[37m\u001b[0m \u001b[1m3s\u001b[0m 2ms/step - accuracy: 0.5853 - loss: 0.9512 - val_accuracy: 0.5301 - val_loss: 0.9903\n",
            "Epoch 309/325\n",
            "\u001b[1m873/873\u001b[0m \u001b[32m━━━━━━━━━━━━━━━━━━━━\u001b[0m\u001b[37m\u001b[0m \u001b[1m1s\u001b[0m 2ms/step - accuracy: 0.5831 - loss: 0.9494 - val_accuracy: 0.5473 - val_loss: 0.9839\n",
            "Epoch 310/325\n",
            "\u001b[1m873/873\u001b[0m \u001b[32m━━━━━━━━━━━━━━━━━━━━\u001b[0m\u001b[37m\u001b[0m \u001b[1m1s\u001b[0m 2ms/step - accuracy: 0.5832 - loss: 0.9511 - val_accuracy: 0.5387 - val_loss: 0.9866\n",
            "Epoch 311/325\n",
            "\u001b[1m873/873\u001b[0m \u001b[32m━━━━━━━━━━━━━━━━━━━━\u001b[0m\u001b[37m\u001b[0m \u001b[1m3s\u001b[0m 2ms/step - accuracy: 0.5751 - loss: 0.9517 - val_accuracy: 0.5757 - val_loss: 0.9769\n",
            "Epoch 312/325\n",
            "\u001b[1m873/873\u001b[0m \u001b[32m━━━━━━━━━━━━━━━━━━━━\u001b[0m\u001b[37m\u001b[0m \u001b[1m3s\u001b[0m 2ms/step - accuracy: 0.5936 - loss: 0.9372 - val_accuracy: 0.5680 - val_loss: 0.9761\n",
            "Epoch 313/325\n",
            "\u001b[1m873/873\u001b[0m \u001b[32m━━━━━━━━━━━━━━━━━━━━\u001b[0m\u001b[37m\u001b[0m \u001b[1m2s\u001b[0m 2ms/step - accuracy: 0.5831 - loss: 0.9423 - val_accuracy: 0.5508 - val_loss: 0.9808\n",
            "Epoch 314/325\n",
            "\u001b[1m873/873\u001b[0m \u001b[32m━━━━━━━━━━━━━━━━━━━━\u001b[0m\u001b[37m\u001b[0m \u001b[1m2s\u001b[0m 1ms/step - accuracy: 0.5886 - loss: 0.9361 - val_accuracy: 0.5731 - val_loss: 0.9759\n",
            "Epoch 315/325\n",
            "\u001b[1m873/873\u001b[0m \u001b[32m━━━━━━━━━━━━━━━━━━━━\u001b[0m\u001b[37m\u001b[0m \u001b[1m3s\u001b[0m 1ms/step - accuracy: 0.5851 - loss: 0.9387 - val_accuracy: 0.5379 - val_loss: 0.9898\n",
            "Epoch 316/325\n",
            "\u001b[1m873/873\u001b[0m \u001b[32m━━━━━━━━━━━━━━━━━━━━\u001b[0m\u001b[37m\u001b[0m \u001b[1m3s\u001b[0m 2ms/step - accuracy: 0.5850 - loss: 0.9407 - val_accuracy: 0.5585 - val_loss: 0.9801\n",
            "Epoch 317/325\n",
            "\u001b[1m873/873\u001b[0m \u001b[32m━━━━━━━━━━━━━━━━━━━━\u001b[0m\u001b[37m\u001b[0m \u001b[1m2s\u001b[0m 2ms/step - accuracy: 0.6072 - loss: 0.9211 - val_accuracy: 0.5688 - val_loss: 0.9758\n",
            "Epoch 318/325\n",
            "\u001b[1m873/873\u001b[0m \u001b[32m━━━━━━━━━━━━━━━━━━━━\u001b[0m\u001b[37m\u001b[0m \u001b[1m3s\u001b[0m 2ms/step - accuracy: 0.5933 - loss: 0.9369 - val_accuracy: 0.5508 - val_loss: 0.9774\n",
            "Epoch 319/325\n",
            "\u001b[1m873/873\u001b[0m \u001b[32m━━━━━━━━━━━━━━━━━━━━\u001b[0m\u001b[37m\u001b[0m \u001b[1m2s\u001b[0m 2ms/step - accuracy: 0.5917 - loss: 0.9384 - val_accuracy: 0.5671 - val_loss: 0.9689\n",
            "Epoch 320/325\n",
            "\u001b[1m873/873\u001b[0m \u001b[32m━━━━━━━━━━━━━━━━━━━━\u001b[0m\u001b[37m\u001b[0m \u001b[1m1s\u001b[0m 2ms/step - accuracy: 0.5963 - loss: 0.9361 - val_accuracy: 0.5688 - val_loss: 0.9684\n",
            "Epoch 321/325\n",
            "\u001b[1m873/873\u001b[0m \u001b[32m━━━━━━━━━━━━━━━━━━━━\u001b[0m\u001b[37m\u001b[0m \u001b[1m3s\u001b[0m 2ms/step - accuracy: 0.5826 - loss: 0.9410 - val_accuracy: 0.5714 - val_loss: 0.9833\n",
            "Epoch 322/325\n",
            "\u001b[1m873/873\u001b[0m \u001b[32m━━━━━━━━━━━━━━━━━━━━\u001b[0m\u001b[37m\u001b[0m \u001b[1m3s\u001b[0m 2ms/step - accuracy: 0.5998 - loss: 0.9370 - val_accuracy: 0.5723 - val_loss: 0.9735\n",
            "Epoch 323/325\n",
            "\u001b[1m873/873\u001b[0m \u001b[32m━━━━━━━━━━━━━━━━━━━━\u001b[0m\u001b[37m\u001b[0m \u001b[1m3s\u001b[0m 2ms/step - accuracy: 0.5984 - loss: 0.9225 - val_accuracy: 0.5602 - val_loss: 0.9689\n",
            "Epoch 324/325\n",
            "\u001b[1m873/873\u001b[0m \u001b[32m━━━━━━━━━━━━━━━━━━━━\u001b[0m\u001b[37m\u001b[0m \u001b[1m2s\u001b[0m 2ms/step - accuracy: 0.5799 - loss: 0.9252 - val_accuracy: 0.5611 - val_loss: 0.9677\n",
            "Epoch 325/325\n",
            "\u001b[1m873/873\u001b[0m \u001b[32m━━━━━━━━━━━━━━━━━━━━\u001b[0m\u001b[37m\u001b[0m \u001b[1m1s\u001b[0m 2ms/step - accuracy: 0.5776 - loss: 0.9305 - val_accuracy: 0.5680 - val_loss: 0.9657\n"
          ]
        }
      ],
      "source": [
        "# Train the model with the normalized train set. Remember to set the number of epochs,\n",
        "# the validation_data and batch_size.\n",
        "\n",
        "#### COMPLETE THE CODE ####\n",
        "history2 = model2.fit(train_normalized, train_labels,validation_data = (val1_normalized, val1_labels),\n",
        "                    epochs = 325, validation_split = 0.2, batch_size = 8, verbose = 1\n",
        ")"
      ]
    },
    {
      "cell_type": "code",
      "execution_count": null,
      "metadata": {
        "colab": {
          "background_save": true
        },
        "id": "xUjQyBKE7dDB",
        "scrolled": false,
        "outputId": "96ffed87-903e-46ea-f954-a8da37390d63"
      },
      "outputs": [
        {
          "data": {
            "image/png": "[encoded data removed]",
            "text/plain": [
              "<Figure size 640x480 with 1 Axes>"
            ]
          },
          "metadata": {},
          "output_type": "display_data"
        },
        {
          "data": {
            "image/png": "[encoded data removed]",
            "text/plain": [
              "<Figure size 640x480 with 1 Axes>"
            ]
          },
          "metadata": {},
          "output_type": "display_data"
        }
      ],
      "source": [
        "# Plot the accuracy and loss curves.\n",
        "# Based on the curves, fine tune your model, for example by changing the number of epochs, learning rate, network architecture, etc.\n",
        "\n",
        "import matplotlib.pyplot as plt\n",
        "%matplotlib inline\n",
        "# summarize history for accuracy\n",
        "plt.plot(history2.history['accuracy'])\n",
        "plt.plot(history2.history['val_accuracy'])\n",
        "plt.title('model accuracy')\n",
        "plt.ylabel('accuracy')\n",
        "plt.xlabel('epoch')\n",
        "plt.legend(['train', 'validation'], loc='upper left')\n",
        "plt.show()\n",
        "# summarize history for loss\n",
        "plt.plot(history2.history['loss'])\n",
        "plt.plot(history2.history['val_loss'])\n",
        "plt.title('model loss')\n",
        "plt.ylabel('loss')\n",
        "plt.xlabel('epoch')\n",
        "plt.legend(['train', 'validation'], loc='upper left')\n",
        "plt.show()"
      ]
    },
    {
      "cell_type": "markdown",
      "metadata": {
        "id": "D_M0BmhW7dDB"
      },
      "source": [
        "**Evaluate the performance on *val1 set*.**"
      ]
    },
    {
      "cell_type": "code",
      "execution_count": null,
      "metadata": {
        "colab": {
          "background_save": true
        },
        "id": "wTKsniWS7dDB",
        "outputId": "b9af3dd1-76c6-489b-9e75-ccd99002ea8f"
      },
      "outputs": [
        {
          "name": "stdout",
          "output_type": "stream",
          "text": [
            "\u001b[1m37/37\u001b[0m \u001b[32m━━━━━━━━━━━━━━━━━━━━\u001b[0m\u001b[37m\u001b[0m \u001b[1m0s\u001b[0m 1ms/step - accuracy: 0.5865 - loss: 0.9581 \n"
          ]
        },
        {
          "data": {
            "text/plain": [
              "[0.9657358527183533, 0.567986249923706]"
            ]
          },
          "execution_count": 23,
          "metadata": {},
          "output_type": "execute_result"
        }
      ],
      "source": [
        "# Evaluate model2 using the evaluate() function.\n",
        "\n",
        "#### YOUR CODE HERE ####\n",
        "\n",
        "model2.evaluate(val1_normalized, val1_labels)"
      ]
    },
    {
      "cell_type": "markdown",
      "metadata": {
        "id": "4j485u_Q7dDB"
      },
      "source": [
        "# Step 4 and 5: Combine models and evaluate the performance on *val2 set*"
      ]
    },
    {
      "cell_type": "code",
      "execution_count": null,
      "metadata": {
        "colab": {
          "background_save": true
        },
        "id": "TNUHWCR47dDB",
        "outputId": "a2b44c45-a377-483d-92af-c19a6893d426"
      },
      "outputs": [
        {
          "name": "stdout",
          "output_type": "stream",
          "text": [
            "\u001b[1m55/55\u001b[0m \u001b[32m━━━━━━━━━━━━━━━━━━━━\u001b[0m\u001b[37m\u001b[0m \u001b[1m0s\u001b[0m 2ms/step\n",
            "\u001b[1m55/55\u001b[0m \u001b[32m━━━━━━━━━━━━━━━━━━━━\u001b[0m\u001b[37m\u001b[0m \u001b[1m0s\u001b[0m 2ms/step\n"
          ]
        },
        {
          "data": {
            "text/plain": [
              "array([[1.07447684e-01, 7.26410374e-02, 9.43570340e-05, 1.50407955e-01],\n",
              "       [1.00299820e-01, 1.78818956e-01, 3.54186669e-02, 2.39947462e-04],\n",
              "       [8.87894407e-02, 7.98341781e-02, 7.56221339e-02, 1.13001261e-05],\n",
              "       [9.14544389e-02, 6.20702989e-02, 8.86927446e-05, 1.88865155e-01],\n",
              "       [1.40981466e-01, 1.12612315e-01, 6.83944789e-04, 5.13604507e-02]],\n",
              "      dtype=float32)"
            ]
          },
          "execution_count": 24,
          "metadata": {},
          "output_type": "execute_result"
        }
      ],
      "source": [
        "# To combine model1 and model2 we can obtain the actual predictions from each model using the predict() function.\n",
        "# Its first argument is the features as numpy array.\n",
        "# This function returns a vector of probabilities for each row.\n",
        "# Each probability represents the likelihood of the corresponding class.\n",
        "\n",
        "# Make predictions on the val2 set using model 1.\n",
        "predictions1 = model1.predict(val2_normalized)\n",
        "\n",
        "# Make predictions on the val2 set using model 2.\n",
        "predictions2 = model2.predict(val2_normalized)\n",
        "\n",
        "# Combine the predictions by multiplying the probabilities.\n",
        "predictionsCombined = predictions1 * predictions2\n",
        "\n",
        "# Print the combined predictions of the first 5 instances.\n",
        "predictionsCombined[0:5,]"
      ]
    },
    {
      "cell_type": "code",
      "execution_count": null,
      "metadata": {
        "colab": {
          "background_save": true
        },
        "id": "O0kPpt147dDB",
        "outputId": "bd101d84-d472-46e0-fbef-7291177b1934"
      },
      "outputs": [
        {
          "name": "stdout",
          "output_type": "stream",
          "text": [
            "0.7083094555873926\n",
            "0.7028009889685262\n"
          ]
        }
      ],
      "source": [
        "# Get the column index with max probability to get the predictions in integer format.\n",
        "predictions_int = np.argmax(predictionsCombined, axis=1)\n",
        "\n",
        "# Since the ground truth labels are also one-hot encoded we need to\n",
        "# get the index of the maximum value to obtain the predictions in integer format.\n",
        "true_values_int = np.argmax(val2_labels, axis=1)\n",
        "\n",
        "# Convert back to strings\n",
        "predictions_str = le.inverse_transform(predictions_int)\n",
        "\n",
        "true_values_str = le.inverse_transform(true_values_int)\n",
        "\n",
        "# Accuracy\n",
        "print(accuracy_score(true_values_str, predictions_str))\n",
        "\n",
        "# Recall\n",
        "print(recall_score(true_values_str, predictions_str, average='macro'))"
      ]
    },
    {
      "cell_type": "markdown",
      "metadata": {
        "id": "uN-fA61-7dDB"
      },
      "source": [
        "### Evaluate performance of model 1 with *val2 set*"
      ]
    },
    {
      "cell_type": "code",
      "execution_count": null,
      "metadata": {
        "colab": {
          "background_save": true
        },
        "id": "Nge4db047dDB",
        "outputId": "d5cdbe75-5c00-4b45-fc93-ff889b3973c7"
      },
      "outputs": [
        {
          "name": "stdout",
          "output_type": "stream",
          "text": [
            "\u001b[1m55/55\u001b[0m \u001b[32m━━━━━━━━━━━━━━━━━━━━\u001b[0m\u001b[37m\u001b[0m \u001b[1m0s\u001b[0m 1ms/step - accuracy: 0.6621 - loss: 0.7388\n"
          ]
        },
        {
          "data": {
            "text/plain": [
              "[0.7158387303352356, 0.6767908334732056]"
            ]
          },
          "execution_count": 26,
          "metadata": {},
          "output_type": "execute_result"
        }
      ],
      "source": [
        "# Compute the accuracy and recall just for model1.\n",
        "\n",
        "#### YOUR CODE HERE ####\n",
        "\n",
        "model1.evaluate(val2_normalized, val2_labels)"
      ]
    },
    {
      "cell_type": "markdown",
      "metadata": {
        "id": "jmBH6Hje7dDB"
      },
      "source": [
        "### Evaluate performance of model 2 with *val2 set*"
      ]
    },
    {
      "cell_type": "code",
      "execution_count": null,
      "metadata": {
        "colab": {
          "background_save": true
        },
        "id": "9VY-bMPN7dDB",
        "outputId": "5ab29d21-6fe6-4ca0-ec8c-99e8d0d00404"
      },
      "outputs": [
        {
          "name": "stdout",
          "output_type": "stream",
          "text": [
            "\u001b[1m55/55\u001b[0m \u001b[32m━━━━━━━━━━━━━━━━━━━━\u001b[0m\u001b[37m\u001b[0m \u001b[1m0s\u001b[0m 1ms/step - accuracy: 0.5801 - loss: 0.9251\n"
          ]
        },
        {
          "data": {
            "text/plain": [
              "[0.9134904146194458, 0.5959885120391846]"
            ]
          },
          "execution_count": 27,
          "metadata": {},
          "output_type": "execute_result"
        }
      ],
      "source": [
        "# Compute the accuracy and recall just for model2.\n",
        "\n",
        "#### YOUR CODE HERE ####\n",
        "\n",
        "model2.evaluate(val2_normalized, val2_labels)"
      ]
    },
    {
      "cell_type": "markdown",
      "metadata": {
        "id": "s8lp8AsY7dDC"
      },
      "source": [
        "Was the performance of the combined models better than the other two models?\n",
        "If yes, proceed to evaluate your models with the *test set*. If not, iterate from step 2-5."
      ]
    },
    {
      "cell_type": "markdown",
      "metadata": {
        "id": "QsKs7pM87dDH"
      },
      "source": [
        "# Step 6: Evaluate on test set"
      ]
    },
    {
      "cell_type": "markdown",
      "metadata": {
        "id": "QcElyOiy7dDH"
      },
      "source": [
        "### Combined models"
      ]
    },
    {
      "cell_type": "code",
      "execution_count": null,
      "metadata": {
        "colab": {
          "background_save": true
        },
        "id": "na46n7f77dDH",
        "outputId": "57436401-8856-4bb4-9a19-e4b341ddd754"
      },
      "outputs": [
        {
          "name": "stdout",
          "output_type": "stream",
          "text": [
            "\u001b[1m55/55\u001b[0m \u001b[32m━━━━━━━━━━━━━━━━━━━━\u001b[0m\u001b[37m\u001b[0m \u001b[1m0s\u001b[0m 1ms/step\n",
            "\u001b[1m55/55\u001b[0m \u001b[32m━━━━━━━━━━━━━━━━━━━━\u001b[0m\u001b[37m\u001b[0m \u001b[1m0s\u001b[0m 1ms/step\n",
            "0.24584527220630373\n",
            "0.24507881475686574\n"
          ]
        }
      ],
      "source": [
        "# Evaluate the accuracy and recall of the combined models on the test set.\n",
        "\n",
        "#### YOUR CODE HERE ####\n",
        "\n",
        "predictions1 = model1.predict(test_normalized)\n",
        "predictions2 = model2.predict(test_normalized)\n",
        "\n",
        "predictionsCombined = predictions1 * predictions2\n",
        "\n",
        "predictionsCombined[0:5,]\n",
        "predictions_int = np.argmax(predictionsCombined, axis=1)\n",
        "\n",
        "true_values_int = np.argmax(val2_labels, axis=1)\n",
        "\n",
        "predictions_str = le.inverse_transform(predictions_int)\n",
        "\n",
        "true_values_str = le.inverse_transform(true_values_int)\n",
        "\n",
        "# Accuracy\n",
        "print(accuracy_score(true_values_str, predictions_str))\n",
        "\n",
        "# Recall\n",
        "print(recall_score(true_values_str, predictions_str, average='macro'))\n",
        "#Esro se dio porque dividimos 1163 el lote, debimos de hacerlo 1162 y ya nos darían el resultado de esta multiplicación"
      ]
    },
    {
      "cell_type": "markdown",
      "metadata": {
        "id": "Ys22FTtE7dDH"
      },
      "source": [
        "### Model 1"
      ]
    },
    {
      "cell_type": "code",
      "execution_count": null,
      "metadata": {
        "colab": {
          "background_save": true
        },
        "id": "P2DU_u6l7dDH",
        "outputId": "83b26bb8-6764-4a7d-86ff-64acd4afcd13"
      },
      "outputs": [
        {
          "name": "stdout",
          "output_type": "stream",
          "text": [
            "\u001b[1m55/55\u001b[0m \u001b[32m━━━━━━━━━━━━━━━━━━━━\u001b[0m\u001b[37m\u001b[0m \u001b[1m0s\u001b[0m 1ms/step - accuracy: 0.6484 - loss: 0.7364\n"
          ]
        },
        {
          "data": {
            "text/plain": [
              "[0.7534950375556946, 0.6395415663719177]"
            ]
          },
          "execution_count": 29,
          "metadata": {},
          "output_type": "execute_result"
        }
      ],
      "source": [
        "# Evaluate the accuracy and recall of model1 on the test set.\n",
        "\n",
        "#### YOUR CODE HERE ####\n",
        "\n",
        "model1.evaluate(test_normalized, test_labels)"
      ]
    },
    {
      "cell_type": "markdown",
      "metadata": {
        "id": "OpnGKSUx7dDH"
      },
      "source": [
        "### Model 2"
      ]
    },
    {
      "cell_type": "code",
      "execution_count": null,
      "metadata": {
        "colab": {
          "background_save": true
        },
        "id": "yfnguAh-7dDH",
        "outputId": "637cb8fe-2e1d-4f61-850c-983c74012fb1"
      },
      "outputs": [
        {
          "name": "stdout",
          "output_type": "stream",
          "text": [
            "\u001b[1m55/55\u001b[0m \u001b[32m━━━━━━━━━━━━━━━━━━━━\u001b[0m\u001b[37m\u001b[0m \u001b[1m0s\u001b[0m 1ms/step - accuracy: 0.5817 - loss: 0.9462\n"
          ]
        },
        {
          "data": {
            "text/plain": [
              "[0.9540066123008728, 0.5828080177307129]"
            ]
          },
          "execution_count": 30,
          "metadata": {},
          "output_type": "execute_result"
        }
      ],
      "source": [
        "# Evaluate the accuracy and recall of model*2* on the test set.\n",
        "\n",
        "#### YOUR CODE HERE ####\n",
        "\n",
        "model2.evaluate(test_normalized, test_labels)"
      ]
    },
    {
      "cell_type": "markdown",
      "metadata": {
        "id": "aVF72wgYv2rh"
      },
      "source": [
        "Debido al tiempo no pudimos mejorar los resultados, sin embargo modificacndo las funciones de activación de la segunda red podríamos tener mucho mejores resultados\n",
        "\n"
      ]
    },
    {
      "cell_type": "markdown",
      "metadata": {
        "id": "ZzeJ_e8s7dDH"
      },
      "source": [
        "**This is the end of the exercise!**"
      ]
    },
    {
      "cell_type": "code",
      "execution_count": null,
      "metadata": {
        "colab": {
          "background_save": true
        },
        "id": "207SVoTuw6Vh"
      },
      "outputs": [],
      "source": []
    }
  ],
  "metadata": {
    "colab": {
      "provenance": []
    },
    "kernelspec": {
      "display_name": "Python 3 (ipykernel)",
      "language": "python",
      "name": "python3"
    },
    "language_info": {
      "codemirror_mode": {
        "name": "ipython",
        "version": 3
      },
      "file_extension": ".py",
      "mimetype": "text/x-python",
      "name": "python",
      "nbconvert_exporter": "python",
      "pygments_lexer": "ipython3",
      "version": "3.11.5"
    }
  },
  "nbformat": 4,
  "nbformat_minor": 0
}
